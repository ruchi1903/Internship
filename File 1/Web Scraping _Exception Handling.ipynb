{
 "cells": [
  {
   "cell_type": "code",
   "execution_count": 1,
   "id": "24ea61c3",
   "metadata": {},
   "outputs": [
    {
     "name": "stdout",
     "output_type": "stream",
     "text": [
      "Requirement already satisfied: selenium in ./anaconda3/lib/python3.10/site-packages (4.16.0)\n",
      "Requirement already satisfied: trio~=0.17 in ./anaconda3/lib/python3.10/site-packages (from selenium) (0.23.1)\n",
      "Requirement already satisfied: certifi>=2021.10.8 in ./anaconda3/lib/python3.10/site-packages (from selenium) (2022.12.7)\n",
      "Requirement already satisfied: urllib3[socks]<3,>=1.26 in ./anaconda3/lib/python3.10/site-packages (from selenium) (1.26.14)\n",
      "Requirement already satisfied: trio-websocket~=0.9 in ./anaconda3/lib/python3.10/site-packages (from selenium) (0.11.1)\n",
      "Requirement already satisfied: idna in ./anaconda3/lib/python3.10/site-packages (from trio~=0.17->selenium) (3.4)\n",
      "Requirement already satisfied: outcome in ./anaconda3/lib/python3.10/site-packages (from trio~=0.17->selenium) (1.3.0.post0)\n",
      "Requirement already satisfied: sniffio>=1.3.0 in ./anaconda3/lib/python3.10/site-packages (from trio~=0.17->selenium) (1.3.0)\n",
      "Requirement already satisfied: sortedcontainers in ./anaconda3/lib/python3.10/site-packages (from trio~=0.17->selenium) (2.4.0)\n",
      "Requirement already satisfied: exceptiongroup>=1.0.0rc9 in ./anaconda3/lib/python3.10/site-packages (from trio~=0.17->selenium) (1.2.0)\n",
      "Requirement already satisfied: attrs>=20.1.0 in ./anaconda3/lib/python3.10/site-packages (from trio~=0.17->selenium) (22.1.0)\n",
      "Requirement already satisfied: wsproto>=0.14 in ./anaconda3/lib/python3.10/site-packages (from trio-websocket~=0.9->selenium) (1.2.0)\n",
      "Requirement already satisfied: PySocks!=1.5.7,<2.0,>=1.5.6 in ./anaconda3/lib/python3.10/site-packages (from urllib3[socks]<3,>=1.26->selenium) (1.7.1)\n",
      "Requirement already satisfied: h11<1,>=0.9.0 in ./anaconda3/lib/python3.10/site-packages (from wsproto>=0.14->trio-websocket~=0.9->selenium) (0.14.0)\n"
     ]
    }
   ],
   "source": [
    "!pip install selenium"
   ]
  },
  {
   "cell_type": "code",
   "execution_count": 2,
   "id": "44f60021",
   "metadata": {},
   "outputs": [],
   "source": [
    "import selenium\n",
    "import pandas as pd\n",
    "import time\n",
    "from bs4 import BeautifulSoup\n",
    "from selenium import webdriver\n",
    "from selenium.common.exceptions import NoSuchElementException\n",
    "from selenium.common.exceptions import StaleElementReferenceException\n",
    "from selenium.common.exceptions import ElementClickInterceptedException\n",
    "import requests\n",
    "from selenium.webdriver.common.by import By"
   ]
  },
  {
   "cell_type": "markdown",
   "id": "2a3a087b",
   "metadata": {},
   "source": [
    "\n",
    "#### Q1. Write a python program which searches all the product under a particular product from www.amazon.in. The product to be searched will be taken as input from user. For e.g. If user input is ‘guitar’. Then search for guitars."
   ]
  },
  {
   "cell_type": "code",
   "execution_count": 42,
   "id": "9a4d16d7",
   "metadata": {},
   "outputs": [],
   "source": [
    "# Activating the chrome browser\n",
    "driver = webdriver.Chrome()\n",
    "time.sleep(3)"
   ]
  },
  {
   "cell_type": "code",
   "execution_count": 44,
   "id": "5dd6440c",
   "metadata": {},
   "outputs": [],
   "source": [
    "#Opening the amazon page on automated chrome browser\n",
    "driver.get(\"https://www.amazon.in\")\n",
    "time.sleep(2)"
   ]
  },
  {
   "cell_type": "code",
   "execution_count": 45,
   "id": "4823bf8b",
   "metadata": {},
   "outputs": [
    {
     "data": {
      "text/plain": [
       "<selenium.webdriver.remote.webelement.WebElement (session=\"1f767ee19d39ba13f4df29d3a5d45674\", element=\"16EA6F5282510DA2E80677C103B024EA_element_67\")>"
      ]
     },
     "execution_count": 45,
     "metadata": {},
     "output_type": "execute_result"
    }
   ],
   "source": [
    "search_bar=driver.find_element(By.ID, \"twotabsearchtextbox\")\n",
    "search_bar"
   ]
  },
  {
   "cell_type": "code",
   "execution_count": 46,
   "id": "caa0f561",
   "metadata": {},
   "outputs": [],
   "source": [
    "search_bar.send_keys(\"guitar\")"
   ]
  },
  {
   "cell_type": "code",
   "execution_count": 47,
   "id": "d75ce681",
   "metadata": {},
   "outputs": [],
   "source": [
    "search = driver.find_element(By.XPATH,'//div[@class=\"nav-search-submit nav-sprite\"]/span/input') \n",
    "search.click()"
   ]
  },
  {
   "cell_type": "markdown",
   "id": "bea80f35",
   "metadata": {},
   "source": [
    "#### Q2. In the above question, now scrape the following details of each product listed in first 3 pages of your search results and save it in a data frame and csv. In case if any product has less than 3 pages in search results then scrape all the products available under that product name. Details to be scraped are: \"Brand Name\", \"Name of the Product\", \"Price\", \"Return/Exchange\", \"Expected Delivery\", \"Availability\" and “Product URL”. In case, if any of the details are missing for any of the product then replace it by “-“."
   ]
  },
  {
   "cell_type": "code",
   "execution_count": 8,
   "id": "eae2ce26",
   "metadata": {},
   "outputs": [],
   "source": [
    "URL= []\n",
    "# range(0,3) used to scrape three pages on website\n",
    "for page in range(0,3):\n",
    "    url=driver.find_elements(By.XPATH, '//a[@class=\"a-link-normal s-underline-text s-underline-link-text s-link-style a-text-normal\"]')\n",
    "    for i in url:\n",
    "        URL.append(i.get_attribute('href'))\n",
    "    time.sleep(2)\n",
    "    Nxt_page=driver.find_elements(By.XPATH, '/html/body/div[1]/div[1]/div[1]/div[1]/div/span[1]/div[1]/div[67]/div/div/span/a[3]')\n",
    "    "
   ]
  },
  {
   "cell_type": "code",
   "execution_count": 9,
   "id": "e2ec6992",
   "metadata": {},
   "outputs": [
    {
     "data": {
      "text/plain": [
       "186"
      ]
     },
     "execution_count": 9,
     "metadata": {},
     "output_type": "execute_result"
    }
   ],
   "source": [
    "len(URL)"
   ]
  },
  {
   "cell_type": "code",
   "execution_count": 19,
   "id": "9edc681a",
   "metadata": {},
   "outputs": [],
   "source": [
    "Brand_Name=[]\n",
    "Name_of_Product=[]\n",
    "Price=[]\n",
    "Delivery_Date=[]\n",
    "Return=[]\n",
    "Availability=[]"
   ]
  },
  {
   "cell_type": "code",
   "execution_count": 30,
   "id": "2c262f3b",
   "metadata": {},
   "outputs": [],
   "source": [
    "for i in URL:\n",
    "    driver.get(i)\n",
    "    time.sleep(2)\n",
    "    \n",
    "    # Extracting Brand Name via Xpath\n",
    "    try:\n",
    "        brand=driver.find_element(By.XPATH, '/html/body/div[2]/div/div[5]/div[3]/div[4]/div[3]/div/a')\n",
    "        Brand_Name.append(brand.text) \n",
    "    except NoSuchElementException:\n",
    "        Brand_Name.append('na')"
   ]
  },
  {
   "cell_type": "code",
   "execution_count": 32,
   "id": "5749c219",
   "metadata": {},
   "outputs": [
    {
     "data": {
      "text/plain": [
       "186"
      ]
     },
     "execution_count": 32,
     "metadata": {},
     "output_type": "execute_result"
    }
   ],
   "source": [
    "len(Brand_Name)"
   ]
  },
  {
   "cell_type": "code",
   "execution_count": 33,
   "id": "ddcb7f5a",
   "metadata": {},
   "outputs": [],
   "source": [
    "for i in URL:\n",
    "    driver.get(i)\n",
    "    time.sleep(2)\n",
    "    \n",
    "    # Extracting Product Name via Xpath\n",
    "    try:\n",
    "        product_name=driver.find_element(By.XPATH, '/html/body/div[2]/div/div[5]/div[3]/div[4]/div[1]/div/h1/span')\n",
    "        Name_of_Product.append(product_name.text) \n",
    "    except NoSuchElementException:\n",
    "        Name_of_Product.append('na')"
   ]
  },
  {
   "cell_type": "code",
   "execution_count": 34,
   "id": "269ec4a0",
   "metadata": {},
   "outputs": [
    {
     "data": {
      "text/plain": [
       "186"
      ]
     },
     "execution_count": 34,
     "metadata": {},
     "output_type": "execute_result"
    }
   ],
   "source": [
    "len(Name_of_Product)"
   ]
  },
  {
   "cell_type": "code",
   "execution_count": 35,
   "id": "b1bce0c8",
   "metadata": {},
   "outputs": [],
   "source": [
    "for i in URL:\n",
    "    driver.get(i)\n",
    "    time.sleep(2)\n",
    "    \n",
    "    # Extracting Price via Xpath\n",
    "    try:\n",
    "        pz=driver.find_element(By.XPATH, '/html/body/div[2]/div/div[5]/div[3]/div[4]/div[13]/div/div/div[4]/div[1]/span[2]/span[2]/span[2]')\n",
    "        Price.append(pz.text) \n",
    "    except NoSuchElementException:\n",
    "        Price.append('na')"
   ]
  },
  {
   "cell_type": "code",
   "execution_count": 36,
   "id": "b27b029a",
   "metadata": {},
   "outputs": [
    {
     "data": {
      "text/plain": [
       "186"
      ]
     },
     "execution_count": 36,
     "metadata": {},
     "output_type": "execute_result"
    }
   ],
   "source": [
    "len(Price)"
   ]
  },
  {
   "cell_type": "code",
   "execution_count": 37,
   "id": "4b3542f3",
   "metadata": {},
   "outputs": [],
   "source": [
    "for i in URL:\n",
    "    driver.get(i)\n",
    "    time.sleep(2)\n",
    "    \n",
    "    # Extracting Delivery Date via Xpath\n",
    "    try:\n",
    "        dd=driver.find_element(By.XPATH, '/html/body/div[2]/div/div[5]/div[3]/div[1]/div[3]/div/div[1]/div/div/div/form/div/div/div/div/div[4]/div/div[3]/div[10]/div[1]/div/div/div[1]/span/span')\n",
    "        Delivery_Date.append(dd.text) \n",
    "    except NoSuchElementException:\n",
    "        Delivery_Date.append('na')"
   ]
  },
  {
   "cell_type": "code",
   "execution_count": 38,
   "id": "a1b036e9",
   "metadata": {},
   "outputs": [
    {
     "data": {
      "text/plain": [
       "186"
      ]
     },
     "execution_count": 38,
     "metadata": {},
     "output_type": "execute_result"
    }
   ],
   "source": [
    "len(Delivery_Date)"
   ]
  },
  {
   "cell_type": "code",
   "execution_count": 39,
   "id": "a4bf297f",
   "metadata": {},
   "outputs": [],
   "source": [
    "for i in URL:\n",
    "    driver.get(i)\n",
    "    time.sleep(2)\n",
    "    \n",
    "    # Extracting Return and exchange via Xpath\n",
    "    try:\n",
    "        return_exchange=driver.find_element(By.XPATH, '/html/body/div[2]/div/div[5]/div[3]/div[4]/div[24]/div[2]/div/div/div/div[2]/div/ol/li[3]/div/span/div[2]/span')\n",
    "        Return.append(return_exchange.text) \n",
    "    except NoSuchElementException:\n",
    "        Return.append('na')"
   ]
  },
  {
   "cell_type": "code",
   "execution_count": 40,
   "id": "4a9de821",
   "metadata": {},
   "outputs": [
    {
     "data": {
      "text/plain": [
       "186"
      ]
     },
     "execution_count": 40,
     "metadata": {},
     "output_type": "execute_result"
    }
   ],
   "source": [
    "len(Return)"
   ]
  },
  {
   "cell_type": "code",
   "execution_count": 64,
   "id": "351b77ca",
   "metadata": {},
   "outputs": [],
   "source": [
    "Availability=[]\n",
    "for i in URL:\n",
    "    driver.get(i)\n",
    "    time.sleep(2)\n",
    "    \n",
    "    # Extracting Availability via Xpath\n",
    "    try:\n",
    "        avl=driver.find_element(By.XPATH, '/html/body/div[2]/div/div[5]/div[3]/div[1]/div[3]/div/div[1]/div/div/div/form/div/div/div/div/div[4]/div/div[5]/div/div[1]/span')\n",
    "        Availability.append(avl.text) \n",
    "    except NoSuchElementException:\n",
    "        Availability.append('na')"
   ]
  },
  {
   "cell_type": "code",
   "execution_count": 65,
   "id": "9a756322",
   "metadata": {},
   "outputs": [
    {
     "data": {
      "text/plain": [
       "186"
      ]
     },
     "execution_count": 65,
     "metadata": {},
     "output_type": "execute_result"
    }
   ],
   "source": [
    "len(Availability)"
   ]
  },
  {
   "cell_type": "code",
   "execution_count": 66,
   "id": "edae04c8",
   "metadata": {},
   "outputs": [
    {
     "data": {
      "text/html": [
       "<div>\n",
       "<style scoped>\n",
       "    .dataframe tbody tr th:only-of-type {\n",
       "        vertical-align: middle;\n",
       "    }\n",
       "\n",
       "    .dataframe tbody tr th {\n",
       "        vertical-align: top;\n",
       "    }\n",
       "\n",
       "    .dataframe thead th {\n",
       "        text-align: right;\n",
       "    }\n",
       "</style>\n",
       "<table border=\"1\" class=\"dataframe\">\n",
       "  <thead>\n",
       "    <tr style=\"text-align: right;\">\n",
       "      <th></th>\n",
       "      <th>Brand</th>\n",
       "      <th>Name Of Product</th>\n",
       "      <th>Price</th>\n",
       "      <th>Delivery Date</th>\n",
       "      <th>Return/Exchange</th>\n",
       "      <th>Availability</th>\n",
       "      <th>URL</th>\n",
       "    </tr>\n",
       "  </thead>\n",
       "  <tbody>\n",
       "    <tr>\n",
       "      <th>0</th>\n",
       "      <td>Visit the Intern Store</td>\n",
       "      <td>Intern INT-38C-SB Linden Wood Cutaway Right Ha...</td>\n",
       "      <td>1,999</td>\n",
       "      <td>Saturday, 23 December</td>\n",
       "      <td>7 days Replacement</td>\n",
       "      <td>In stock</td>\n",
       "      <td>https://www.amazon.in/sspa/click?ie=UTF8&amp;spc=M...</td>\n",
       "    </tr>\n",
       "    <tr>\n",
       "      <th>1</th>\n",
       "      <td>Visit the Kadence Store</td>\n",
       "      <td>Kadence rosewood Guitar Frontier Series, Elect...</td>\n",
       "      <td>na</td>\n",
       "      <td>na</td>\n",
       "      <td>na</td>\n",
       "      <td>na</td>\n",
       "      <td>https://www.amazon.in/sspa/click?ie=UTF8&amp;spc=M...</td>\n",
       "    </tr>\n",
       "    <tr>\n",
       "      <th>2</th>\n",
       "      <td>Visit the Kadence Store</td>\n",
       "      <td>Kadence Frontier guitar with Online Guitar lea...</td>\n",
       "      <td>5,299</td>\n",
       "      <td>Friday, 22 December</td>\n",
       "      <td>7 days Replacement</td>\n",
       "      <td>In stock</td>\n",
       "      <td>https://www.amazon.in/sspa/click?ie=UTF8&amp;spc=M...</td>\n",
       "    </tr>\n",
       "    <tr>\n",
       "      <th>3</th>\n",
       "      <td>na</td>\n",
       "      <td>na</td>\n",
       "      <td>na</td>\n",
       "      <td>na</td>\n",
       "      <td>na</td>\n",
       "      <td>na</td>\n",
       "      <td>https://www.amazon.in/sspa/click?ie=UTF8&amp;spc=M...</td>\n",
       "    </tr>\n",
       "    <tr>\n",
       "      <th>4</th>\n",
       "      <td>Visit the JUAREZ Store</td>\n",
       "      <td>Juârez Acoustic Guitar, 38 Inch Cutaway, 038C ...</td>\n",
       "      <td>1,999</td>\n",
       "      <td>Friday, 22 December</td>\n",
       "      <td>7 days Replacement</td>\n",
       "      <td>In stock</td>\n",
       "      <td>https://www.amazon.in/Juarez-Acoustic-Cutaway-...</td>\n",
       "    </tr>\n",
       "    <tr>\n",
       "      <th>...</th>\n",
       "      <td>...</td>\n",
       "      <td>...</td>\n",
       "      <td>...</td>\n",
       "      <td>...</td>\n",
       "      <td>...</td>\n",
       "      <td>...</td>\n",
       "      <td>...</td>\n",
       "    </tr>\n",
       "    <tr>\n",
       "      <th>181</th>\n",
       "      <td>na</td>\n",
       "      <td>na</td>\n",
       "      <td>na</td>\n",
       "      <td>na</td>\n",
       "      <td>na</td>\n",
       "      <td>na</td>\n",
       "      <td>https://www.amazon.in/sspa/click?ie=UTF8&amp;spc=M...</td>\n",
       "    </tr>\n",
       "    <tr>\n",
       "      <th>182</th>\n",
       "      <td>Brand: Generic</td>\n",
       "      <td>Kaspar 10C Lindenwood Acoustic guitar 38 Inche...</td>\n",
       "      <td>4,499</td>\n",
       "      <td>Tuesday, 26 December</td>\n",
       "      <td>na</td>\n",
       "      <td>In stock</td>\n",
       "      <td>https://www.amazon.in/sspa/click?ie=UTF8&amp;spc=M...</td>\n",
       "    </tr>\n",
       "    <tr>\n",
       "      <th>183</th>\n",
       "      <td>Brand: allmusicmart</td>\n",
       "      <td>“ALL WOODEN” 38” INCH \"DOLPHIN\"Guitar Combo Pa...</td>\n",
       "      <td>3,550</td>\n",
       "      <td>Monday, 25 December</td>\n",
       "      <td>7 days Replacement</td>\n",
       "      <td>In stock</td>\n",
       "      <td>https://www.amazon.in/sspa/click?ie=UTF8&amp;spc=M...</td>\n",
       "    </tr>\n",
       "    <tr>\n",
       "      <th>184</th>\n",
       "      <td>Brand: Generic</td>\n",
       "      <td>Kaspar 10C Lindenwood Acoustic guitar 38 Inche...</td>\n",
       "      <td>3,999</td>\n",
       "      <td>Tuesday, 26 December</td>\n",
       "      <td>na</td>\n",
       "      <td>In stock</td>\n",
       "      <td>https://www.amazon.in/sspa/click?ie=UTF8&amp;spc=M...</td>\n",
       "    </tr>\n",
       "    <tr>\n",
       "      <th>185</th>\n",
       "      <td>Visit the SG Musical Store</td>\n",
       "      <td>SG Musical Harmonium- 3 1/4 Octave, Double Bel...</td>\n",
       "      <td>5,990</td>\n",
       "      <td>Thursday, 28 December</td>\n",
       "      <td>na</td>\n",
       "      <td>In stock</td>\n",
       "      <td>https://aax-eu.amazon.in/x/c/RB28Mi2QFey3gsP_7...</td>\n",
       "    </tr>\n",
       "  </tbody>\n",
       "</table>\n",
       "<p>186 rows × 7 columns</p>\n",
       "</div>"
      ],
      "text/plain": [
       "                          Brand  \\\n",
       "0        Visit the Intern Store   \n",
       "1       Visit the Kadence Store   \n",
       "2       Visit the Kadence Store   \n",
       "3                            na   \n",
       "4        Visit the JUAREZ Store   \n",
       "..                          ...   \n",
       "181                          na   \n",
       "182              Brand: Generic   \n",
       "183         Brand: allmusicmart   \n",
       "184              Brand: Generic   \n",
       "185  Visit the SG Musical Store   \n",
       "\n",
       "                                       Name Of Product  Price  \\\n",
       "0    Intern INT-38C-SB Linden Wood Cutaway Right Ha...  1,999   \n",
       "1    Kadence rosewood Guitar Frontier Series, Elect...     na   \n",
       "2    Kadence Frontier guitar with Online Guitar lea...  5,299   \n",
       "3                                                   na     na   \n",
       "4    Juârez Acoustic Guitar, 38 Inch Cutaway, 038C ...  1,999   \n",
       "..                                                 ...    ...   \n",
       "181                                                 na     na   \n",
       "182  Kaspar 10C Lindenwood Acoustic guitar 38 Inche...  4,499   \n",
       "183  “ALL WOODEN” 38” INCH \"DOLPHIN\"Guitar Combo Pa...  3,550   \n",
       "184  Kaspar 10C Lindenwood Acoustic guitar 38 Inche...  3,999   \n",
       "185  SG Musical Harmonium- 3 1/4 Octave, Double Bel...  5,990   \n",
       "\n",
       "             Delivery Date     Return/Exchange Availability  \\\n",
       "0    Saturday, 23 December  7 days Replacement     In stock   \n",
       "1                       na                  na           na   \n",
       "2      Friday, 22 December  7 days Replacement     In stock   \n",
       "3                       na                  na           na   \n",
       "4      Friday, 22 December  7 days Replacement     In stock   \n",
       "..                     ...                 ...          ...   \n",
       "181                     na                  na           na   \n",
       "182   Tuesday, 26 December                  na     In stock   \n",
       "183    Monday, 25 December  7 days Replacement     In stock   \n",
       "184   Tuesday, 26 December                  na     In stock   \n",
       "185  Thursday, 28 December                  na     In stock   \n",
       "\n",
       "                                                   URL  \n",
       "0    https://www.amazon.in/sspa/click?ie=UTF8&spc=M...  \n",
       "1    https://www.amazon.in/sspa/click?ie=UTF8&spc=M...  \n",
       "2    https://www.amazon.in/sspa/click?ie=UTF8&spc=M...  \n",
       "3    https://www.amazon.in/sspa/click?ie=UTF8&spc=M...  \n",
       "4    https://www.amazon.in/Juarez-Acoustic-Cutaway-...  \n",
       "..                                                 ...  \n",
       "181  https://www.amazon.in/sspa/click?ie=UTF8&spc=M...  \n",
       "182  https://www.amazon.in/sspa/click?ie=UTF8&spc=M...  \n",
       "183  https://www.amazon.in/sspa/click?ie=UTF8&spc=M...  \n",
       "184  https://www.amazon.in/sspa/click?ie=UTF8&spc=M...  \n",
       "185  https://aax-eu.amazon.in/x/c/RB28Mi2QFey3gsP_7...  \n",
       "\n",
       "[186 rows x 7 columns]"
      ]
     },
     "execution_count": 66,
     "metadata": {},
     "output_type": "execute_result"
    }
   ],
   "source": [
    "Guitar= pd.DataFrame({'Brand': Brand_Name,'Name Of Product': Name_of_Product, 'Price': Price,'Delivery Date': Delivery_Date,'Return/Exchange': Return,'Availability': Availability,'URL': URL})\n",
    "Guitar"
   ]
  },
  {
   "cell_type": "markdown",
   "id": "afc7cf48",
   "metadata": {},
   "source": [
    "#### Q3. Write a python program to access the search bar and search button on images.google.com and scrape 10 images each for keywords ‘fruits’, ‘cars’ and ‘Machine Learning’, ‘Guitar’, ‘Cakes’."
   ]
  },
  {
   "cell_type": "code",
   "execution_count": 67,
   "id": "ef3dad2b",
   "metadata": {},
   "outputs": [],
   "source": [
    "driver = webdriver.Chrome()\n",
    "time.sleep(3)"
   ]
  },
  {
   "cell_type": "code",
   "execution_count": 130,
   "id": "527ec953",
   "metadata": {},
   "outputs": [],
   "source": [
    "# Opening the google images\n",
    "url = \"https://images.google.com/\"\n",
    "driver.get(url)"
   ]
  },
  {
   "cell_type": "code",
   "execution_count": 131,
   "id": "6ff05cc4",
   "metadata": {},
   "outputs": [],
   "source": [
    "search_bar = driver.find_element(By.XPATH, '/html/body/div[1]/div[3]/form/div[1]/div[1]/div[1]/div/div[2]/textarea')"
   ]
  },
  {
   "cell_type": "code",
   "execution_count": 95,
   "id": "936139d2",
   "metadata": {},
   "outputs": [],
   "source": [
    "search_bar.send_keys(\"fruits\")"
   ]
  },
  {
   "cell_type": "code",
   "execution_count": 133,
   "id": "1dadede0",
   "metadata": {},
   "outputs": [],
   "source": [
    "search_button = driver.find_element(By.XPATH, '/html/body/div[1]/div[3]/form/div[1]/div[1]/div[1]/button/div')"
   ]
  },
  {
   "cell_type": "code",
   "execution_count": 134,
   "id": "b0d387f1",
   "metadata": {},
   "outputs": [],
   "source": [
    "search_button.click()"
   ]
  },
  {
   "cell_type": "code",
   "execution_count": 135,
   "id": "9bbf886d",
   "metadata": {},
   "outputs": [],
   "source": [
    "# Scrolling window using ScrollBy method from 0 pixel to 25000 pixel\n",
    "driver.execute_script(\"window.scrollBy(0,25000)\",\"\")"
   ]
  },
  {
   "cell_type": "code",
   "execution_count": 105,
   "id": "133bc4fa",
   "metadata": {},
   "outputs": [],
   "source": [
    "Url=[]\n",
    "images= driver.find_elements(By.XPATH, '//img[@class=\"rg_i Q4LuWd\"]')\n",
    "for image in images:\n",
    "    source= image.get_attribute('src')\n",
    "    if source is not None:\n",
    "        if(source[0:4] == 'http'):\n",
    "            URL.append(source)"
   ]
  },
  {
   "cell_type": "code",
   "execution_count": 106,
   "id": "410afb19",
   "metadata": {},
   "outputs": [
    {
     "data": {
      "text/plain": [
       "47"
      ]
     },
     "execution_count": 106,
     "metadata": {},
     "output_type": "execute_result"
    }
   ],
   "source": [
    "len(URL)"
   ]
  },
  {
   "cell_type": "code",
   "execution_count": 107,
   "id": "794b63c7",
   "metadata": {},
   "outputs": [
    {
     "name": "stdout",
     "output_type": "stream",
     "text": [
      "Downloading 0 of 10 images\n",
      "Downloading 1 of 10 images\n",
      "Downloading 2 of 10 images\n",
      "Downloading 3 of 10 images\n",
      "Downloading 4 of 10 images\n",
      "Downloading 5 of 10 images\n",
      "Downloading 6 of 10 images\n",
      "Downloading 7 of 10 images\n",
      "Downloading 8 of 10 images\n",
      "Downloading 9 of 10 images\n"
     ]
    }
   ],
   "source": [
    "img_urls = []\n",
    "img_data = []\n",
    "for image in images:\n",
    "    source= image.get_attribute('src')\n",
    "    if source is not None:\n",
    "        if(source[0:4] == 'http'):\n",
    "            img_urls.append(source)\n",
    "            \n",
    "for i in range(len(img_urls)):\n",
    "    if i >= 10:\n",
    "        break\n",
    "    print(\"Downloading {0} of {1} images\" .format(i, 10))"
   ]
  },
  {
   "cell_type": "code",
   "execution_count": 117,
   "id": "e2fb184d",
   "metadata": {},
   "outputs": [],
   "source": [
    "search_bar.send_keys(\"Machine Learning\")"
   ]
  },
  {
   "cell_type": "code",
   "execution_count": 122,
   "id": "8f21fe1b",
   "metadata": {},
   "outputs": [
    {
     "name": "stdout",
     "output_type": "stream",
     "text": [
      "Downloading 0 of 10 images\n",
      "Downloading 1 of 10 images\n",
      "Downloading 2 of 10 images\n",
      "Downloading 3 of 10 images\n",
      "Downloading 4 of 10 images\n",
      "Downloading 5 of 10 images\n",
      "Downloading 6 of 10 images\n",
      "Downloading 7 of 10 images\n",
      "Downloading 8 of 10 images\n",
      "Downloading 9 of 10 images\n"
     ]
    }
   ],
   "source": [
    "images = driver.find_elements(By.XPATH, '//img[@class=\"rg_i Q4LuWd\"]')\n",
    "\n",
    "img_urls = []\n",
    "img_data = []\n",
    "for image in images:\n",
    "    source= image.get_attribute('src')\n",
    "    if source is not None:\n",
    "        if(source[0:4] == 'http'):\n",
    "            img_urls.append(source)\n",
    "            \n",
    "for i in range(len(img_urls)):\n",
    "    if i >= 10:\n",
    "        break\n",
    "    print(\"Downloading {0} of {1} images\" .format(i, 10))"
   ]
  },
  {
   "cell_type": "code",
   "execution_count": 111,
   "id": "3c8ccbba",
   "metadata": {},
   "outputs": [],
   "source": [
    "search_bar.send_keys(\"cars\")"
   ]
  },
  {
   "cell_type": "code",
   "execution_count": 114,
   "id": "8de4cdfc",
   "metadata": {},
   "outputs": [
    {
     "name": "stdout",
     "output_type": "stream",
     "text": [
      "Downloading 0 of 10 images\n",
      "Downloading 1 of 10 images\n",
      "Downloading 2 of 10 images\n",
      "Downloading 3 of 10 images\n",
      "Downloading 4 of 10 images\n",
      "Downloading 5 of 10 images\n",
      "Downloading 6 of 10 images\n",
      "Downloading 7 of 10 images\n",
      "Downloading 8 of 10 images\n",
      "Downloading 9 of 10 images\n"
     ]
    }
   ],
   "source": [
    "images = driver.find_elements(By.XPATH, '//img[@class=\"rg_i Q4LuWd\"]')\n",
    "\n",
    "img_urls = []\n",
    "img_data = []\n",
    "for image in images:\n",
    "    source= image.get_attribute('src')\n",
    "    if source is not None:\n",
    "        if(source[0:4] == 'http'):\n",
    "            img_urls.append(source)\n",
    "            \n",
    "for i in range(len(img_urls)):\n",
    "    if i >= 10:\n",
    "        break\n",
    "    print(\"Downloading {0} of {1} images\" .format(i, 10))"
   ]
  },
  {
   "cell_type": "code",
   "execution_count": 125,
   "id": "eb9017f2",
   "metadata": {},
   "outputs": [],
   "source": [
    "search_bar.send_keys(\"Guitar\")"
   ]
  },
  {
   "cell_type": "code",
   "execution_count": 129,
   "id": "abe79f79",
   "metadata": {},
   "outputs": [
    {
     "name": "stdout",
     "output_type": "stream",
     "text": [
      "Downloading 0 of 10 images\n",
      "Downloading 1 of 10 images\n",
      "Downloading 2 of 10 images\n",
      "Downloading 3 of 10 images\n",
      "Downloading 4 of 10 images\n",
      "Downloading 5 of 10 images\n",
      "Downloading 6 of 10 images\n",
      "Downloading 7 of 10 images\n",
      "Downloading 8 of 10 images\n",
      "Downloading 9 of 10 images\n"
     ]
    }
   ],
   "source": [
    "images = driver.find_elements(By.XPATH, '//img[@class=\"rg_i Q4LuWd\"]')\n",
    "\n",
    "img_urls = []\n",
    "img_data = []\n",
    "for image in images:\n",
    "    source= image.get_attribute('src')\n",
    "    if source is not None:\n",
    "        if(source[0:4] == 'http'):\n",
    "            img_urls.append(source)\n",
    "            \n",
    "for i in range(len(img_urls)):\n",
    "    if i >= 10:\n",
    "        break\n",
    "    print(\"Downloading {0} of {1} images\" .format(i, 10))"
   ]
  },
  {
   "cell_type": "code",
   "execution_count": 132,
   "id": "8a0201c3",
   "metadata": {},
   "outputs": [],
   "source": [
    "search_bar.send_keys(\"Cakes\")"
   ]
  },
  {
   "cell_type": "code",
   "execution_count": 136,
   "id": "1fe292ca",
   "metadata": {},
   "outputs": [
    {
     "name": "stdout",
     "output_type": "stream",
     "text": [
      "Downloading 0 of 10 images\n",
      "Downloading 1 of 10 images\n",
      "Downloading 2 of 10 images\n",
      "Downloading 3 of 10 images\n",
      "Downloading 4 of 10 images\n",
      "Downloading 5 of 10 images\n",
      "Downloading 6 of 10 images\n",
      "Downloading 7 of 10 images\n",
      "Downloading 8 of 10 images\n",
      "Downloading 9 of 10 images\n"
     ]
    }
   ],
   "source": [
    "images = driver.find_elements(By.XPATH, '//img[@class=\"rg_i Q4LuWd\"]')\n",
    "\n",
    "img_urls = []\n",
    "img_data = []\n",
    "for image in images:\n",
    "    source= image.get_attribute('src')\n",
    "    if source is not None:\n",
    "        if(source[0:4] == 'http'):\n",
    "            img_urls.append(source)\n",
    "            \n",
    "for i in range(len(img_urls)):\n",
    "    if i >= 10:\n",
    "        break\n",
    "    print(\"Downloading {0} of {1} images\" .format(i, 10))"
   ]
  },
  {
   "cell_type": "code",
   "execution_count": 138,
   "id": "4a7bafe9",
   "metadata": {},
   "outputs": [],
   "source": [
    "#Close the browser\n",
    "driver.quit()"
   ]
  },
  {
   "cell_type": "markdown",
   "id": "5e25bd28",
   "metadata": {},
   "source": [
    "#### Q4. Write a python program to search for a smartphone(e.g.: Oneplus Nord, pixel 4A, etc.) on www.flipkart.com and scrape following details for all the search results displayed on 1st page. Details to be scraped: “Brand Name”, “Smartphone name”, “Colour”, “RAM”, “Storage(ROM)”, “Primary Camera”,“Secondary Camera”, “Display Size”, “Battery Capacity”, “Price”, “Product URL”. Incase if any of the details is missing then replace it by “- “. Save your results in a dataframe and CSV."
   ]
  },
  {
   "cell_type": "code",
   "execution_count": 153,
   "id": "b2d78767",
   "metadata": {},
   "outputs": [],
   "source": [
    "# Activating the chrome browser\n",
    "driver = webdriver.Chrome()"
   ]
  },
  {
   "cell_type": "code",
   "execution_count": 154,
   "id": "12bee1ea",
   "metadata": {},
   "outputs": [],
   "source": [
    "# Getting the web page with the provided url\n",
    "url = \"https://www.flipkart.com/\"\n",
    "driver.get(url)"
   ]
  },
  {
   "cell_type": "code",
   "execution_count": 155,
   "id": "71414d68",
   "metadata": {},
   "outputs": [],
   "source": [
    "search=driver.find_element(By.XPATH, '//input[@class=\"Pke_EE\"]')\n",
    "search.send_keys('reno 6 pro')"
   ]
  },
  {
   "cell_type": "code",
   "execution_count": 158,
   "id": "785de694",
   "metadata": {},
   "outputs": [],
   "source": [
    "btn=driver.find_element(By.XPATH, '//button[@class=\"_2iLD__\"]').click()"
   ]
  },
  {
   "cell_type": "code",
   "execution_count": 166,
   "id": "6117f910",
   "metadata": {},
   "outputs": [],
   "source": [
    "# Making empty list to scrape data\n",
    "Brand =[]\n",
    "Smartphone =[]\n",
    "Colour =[]\n",
    "Ram =[]\n",
    "Storage_Rom =[]\n",
    "Primary_camera=[]\n",
    "Secondary_camera=[]\n",
    "Display_size=[]\n",
    "Battery_capacity=[]\n",
    "Price =[]"
   ]
  },
  {
   "cell_type": "code",
   "execution_count": 160,
   "id": "8ce32d9e",
   "metadata": {},
   "outputs": [],
   "source": [
    "URL=[]\n",
    "url=driver.find_elements(By.XPATH, \"//a[@class='_1fQZEK']\")\n",
    "for i in url:\n",
    "    Href=i.get_attribute('href')\n",
    "    URL.append(Href)"
   ]
  },
  {
   "cell_type": "code",
   "execution_count": 161,
   "id": "159fbc93",
   "metadata": {},
   "outputs": [
    {
     "data": {
      "text/plain": [
       "23"
      ]
     },
     "execution_count": 161,
     "metadata": {},
     "output_type": "execute_result"
    }
   ],
   "source": [
    "len(URL)"
   ]
  },
  {
   "cell_type": "code",
   "execution_count": 167,
   "id": "6fff9357",
   "metadata": {},
   "outputs": [],
   "source": [
    "for i in URL:\n",
    "    driver.get(i)\n",
    "    time.sleep(2)\n",
    "    \n",
    "    # Extracting Brand Name via Xpath\n",
    "    try:\n",
    "        brand=driver.find_element(By.XPATH, '/html/body/div/div/div[3]/div[1]/div[2]/div[2]/div/div/div/a/div[2]/div[1]/div[1]')\n",
    "        Brand.append(brand.text[0:5]) \n",
    "    except NoSuchElementException:\n",
    "        Brand.append('-')"
   ]
  },
  {
   "cell_type": "code",
   "execution_count": 168,
   "id": "0266e02c",
   "metadata": {},
   "outputs": [
    {
     "data": {
      "text/plain": [
       "23"
      ]
     },
     "execution_count": 168,
     "metadata": {},
     "output_type": "execute_result"
    }
   ],
   "source": [
    "len(Brand)"
   ]
  },
  {
   "cell_type": "code",
   "execution_count": 173,
   "id": "f86a0f1d",
   "metadata": {},
   "outputs": [],
   "source": [
    "smartphone =[]\n",
    "for i in URL:\n",
    "    driver.get(i)\n",
    "    time.sleep(2)\n",
    "    \n",
    "    # Extracting Smartphone name via Xpath\n",
    "    try:\n",
    "        sn=driver.find_element(By.XPATH, '/html/body/div[1]/div/div[3]/div[1]/div[2]/div[2]/div/div[1]/h1/span')\n",
    "        smartphone.append(sn.text) \n",
    "    except NoSuchElementException:\n",
    "        smartphone.append('-')"
   ]
  },
  {
   "cell_type": "code",
   "execution_count": 175,
   "id": "ed196028",
   "metadata": {},
   "outputs": [
    {
     "data": {
      "text/plain": [
       "23"
      ]
     },
     "execution_count": 175,
     "metadata": {},
     "output_type": "execute_result"
    }
   ],
   "source": [
    "len(smartphone)"
   ]
  },
  {
   "cell_type": "code",
   "execution_count": 176,
   "id": "57a7d4aa",
   "metadata": {},
   "outputs": [],
   "source": [
    "for i in URL:\n",
    "    driver.get(i)\n",
    "    time.sleep(2)\n",
    "    \n",
    "    # Extracting Colour via Xpath\n",
    "    try:\n",
    "        clr=driver.find_element(By.XPATH, '/html/body/div[1]/div/div[3]/div[1]/div[2]/div[7]/div/div/div[5]/div/div[2]/div/div[1]/table/tbody/tr[4]/td[2]/ul/li')\n",
    "        Colour.append(clr.text) \n",
    "    except NoSuchElementException:\n",
    "        Colour.append('-')"
   ]
  },
  {
   "cell_type": "code",
   "execution_count": 177,
   "id": "b6431afa",
   "metadata": {},
   "outputs": [
    {
     "data": {
      "text/plain": [
       "23"
      ]
     },
     "execution_count": 177,
     "metadata": {},
     "output_type": "execute_result"
    }
   ],
   "source": [
    "len(Colour)"
   ]
  },
  {
   "cell_type": "code",
   "execution_count": 196,
   "id": "6dc2d28b",
   "metadata": {},
   "outputs": [],
   "source": [
    "for i in URL:\n",
    "    driver.get(i)\n",
    "    time.sleep(2)\n",
    "        # Expanding specification table by clicking on read more button\n",
    "    try:\n",
    "        Read_more=driver.find_element(By.XPATH, '//button[@class=\"_2KpZ6l _1FH0tX\"]')\n",
    "        Read_more.click()\n",
    "        \n",
    "    except NoSuchElementException:\n",
    "        print('NoSuchElementException Occur')\n",
    "        pass\n",
    "    \n",
    "    # Extracting RAM via Xpath\n",
    "    try:\n",
    "        RAM=driver.find_element(By.XPATH, '/html/body/div[1]/div/div[3]/div[1]/div[2]/div[7]/div/div/div[5]/div/div[2]/div[1]/div[4]/table/tbody/tr[2]/td[2]/ul/li')\n",
    "        Ram.append(RAM.text) \n",
    "    except NoSuchElementException:\n",
    "        Ram.append('-')"
   ]
  },
  {
   "cell_type": "code",
   "execution_count": 197,
   "id": "86c8c112",
   "metadata": {},
   "outputs": [
    {
     "data": {
      "text/plain": [
       "23"
      ]
     },
     "execution_count": 197,
     "metadata": {},
     "output_type": "execute_result"
    }
   ],
   "source": [
    "len(Ram)"
   ]
  },
  {
   "cell_type": "code",
   "execution_count": 198,
   "id": "6d87ce1f",
   "metadata": {},
   "outputs": [],
   "source": [
    "for i in URL:\n",
    "    driver.get(i)\n",
    "    time.sleep(2)\n",
    "    \n",
    "# Expanding specification table by clicking on read more button\n",
    "    try:\n",
    "        Read_more=driver.find_element(By.XPATH, '//button[@class=\"_2KpZ6l _1FH0tX\"]')\n",
    "        Read_more.click()\n",
    "        \n",
    "    except NoSuchElementException:\n",
    "        print('NoSuchElementException Occur')\n",
    "        pass\n",
    "    \n",
    "    # Extracting Storage_Rom via Xpath\n",
    "    try:\n",
    "        ROM=driver.find_element(By.XPATH, '/html/body/div[1]/div/div[3]/div[1]/div[2]/div[7]/div/div/div[5]/div/div[2]/div[1]/div[4]/table/tbody/tr[1]/td[2]/ul/li')\n",
    "        Storage_Rom.append(ROM.text) \n",
    "    except NoSuchElementException:\n",
    "        Storage_Rom.append('-')"
   ]
  },
  {
   "cell_type": "code",
   "execution_count": 199,
   "id": "b8a18ab7",
   "metadata": {},
   "outputs": [
    {
     "data": {
      "text/plain": [
       "23"
      ]
     },
     "execution_count": 199,
     "metadata": {},
     "output_type": "execute_result"
    }
   ],
   "source": [
    "len(Storage_Rom)"
   ]
  },
  {
   "cell_type": "code",
   "execution_count": 200,
   "id": "79fb5cd0",
   "metadata": {},
   "outputs": [],
   "source": [
    "for i in URL:\n",
    "    driver.get(i)\n",
    "    time.sleep(2)\n",
    "    \n",
    "# Expanding specification table by clicking on read more button\n",
    "    try:\n",
    "        Read_more=driver.find_element(By.XPATH, '//button[@class=\"_2KpZ6l _1FH0tX\"]')\n",
    "        Read_more.click()\n",
    "        \n",
    "    except NoSuchElementException:\n",
    "        print('NoSuchElementException Occur')\n",
    "        pass\n",
    "    \n",
    "    # Extracting Primary camera via Xpath\n",
    "    try:\n",
    "        pc=driver.find_element(By.XPATH, '/html/body/div[1]/div/div[3]/div[1]/div[2]/div[7]/div/div/div[5]/div/div[2]/div[1]/div[5]/table/tbody/tr[2]/td[2]/ul/li')\n",
    "        Primary_camera.append(pc.text) \n",
    "    except NoSuchElementException:\n",
    "        Primary_camera.append('-')"
   ]
  },
  {
   "cell_type": "code",
   "execution_count": 201,
   "id": "96f67daa",
   "metadata": {},
   "outputs": [
    {
     "data": {
      "text/plain": [
       "23"
      ]
     },
     "execution_count": 201,
     "metadata": {},
     "output_type": "execute_result"
    }
   ],
   "source": [
    "len(Primary_camera)"
   ]
  },
  {
   "cell_type": "code",
   "execution_count": 202,
   "id": "b28ce384",
   "metadata": {},
   "outputs": [],
   "source": [
    "for i in URL:\n",
    "    driver.get(i)\n",
    "    time.sleep(2)\n",
    "    \n",
    "# Expanding specification table by clicking on read more button\n",
    "    try:\n",
    "        Read_more=driver.find_element(By.XPATH, '//button[@class=\"_2KpZ6l _1FH0tX\"]')\n",
    "        Read_more.click()\n",
    "        \n",
    "    except NoSuchElementException:\n",
    "        print('NoSuchElementException Occur')\n",
    "        pass\n",
    "    \n",
    "    # Extracting Secondary camera via Xpath\n",
    "    try:\n",
    "        sc=driver.find_element(By.XPATH, '/html/body/div[1]/div/div[3]/div[1]/div[2]/div[7]/div/div/div[5]/div/div[2]/div[1]/div[5]/table/tbody/tr[6]/td[2]/ul/li')\n",
    "        Secondary_camera.append(sc.text) \n",
    "    except NoSuchElementException:\n",
    "        Secondary_camera.append('-')"
   ]
  },
  {
   "cell_type": "code",
   "execution_count": 203,
   "id": "200d7002",
   "metadata": {},
   "outputs": [
    {
     "data": {
      "text/plain": [
       "23"
      ]
     },
     "execution_count": 203,
     "metadata": {},
     "output_type": "execute_result"
    }
   ],
   "source": [
    "len(Secondary_camera)"
   ]
  },
  {
   "cell_type": "code",
   "execution_count": 204,
   "id": "ef09a1ca",
   "metadata": {},
   "outputs": [],
   "source": [
    "for i in URL:\n",
    "    driver.get(i)\n",
    "    time.sleep(2)\n",
    "    \n",
    "# Expanding specification table by clicking on read more button\n",
    "    try:\n",
    "        Read_more=driver.find_element(By.XPATH, '//button[@class=\"_2KpZ6l _1FH0tX\"]')\n",
    "        Read_more.click()\n",
    "        \n",
    "    except NoSuchElementException:\n",
    "        print('NoSuchElementException Occur')\n",
    "        pass\n",
    "    \n",
    "    # Extracting Display size via Xpath\n",
    "    try:\n",
    "        ds=driver.find_element(By.XPATH, '/html/body/div[1]/div/div[3]/div[1]/div[2]/div[7]/div/div/div[5]/div/div[2]/div[1]/div[2]/table/tbody/tr[1]/td[2]/ul/li')\n",
    "        Display_size.append(ds.text) \n",
    "    except NoSuchElementException:\n",
    "        Display_size.append('-')"
   ]
  },
  {
   "cell_type": "code",
   "execution_count": 205,
   "id": "beb4787b",
   "metadata": {},
   "outputs": [
    {
     "data": {
      "text/plain": [
       "23"
      ]
     },
     "execution_count": 205,
     "metadata": {},
     "output_type": "execute_result"
    }
   ],
   "source": [
    "len(Display_size)"
   ]
  },
  {
   "cell_type": "code",
   "execution_count": 206,
   "id": "939cd82f",
   "metadata": {},
   "outputs": [],
   "source": [
    "for i in URL:\n",
    "    driver.get(i)\n",
    "    time.sleep(2)\n",
    "    \n",
    "# Expanding specification table by clicking on read more button\n",
    "    try:\n",
    "        Read_more=driver.find_element(By.XPATH, '//button[@class=\"_2KpZ6l _1FH0tX\"]')\n",
    "        Read_more.click()\n",
    "        \n",
    "    except NoSuchElementException:\n",
    "        print('NoSuchElementException Occur')\n",
    "        pass\n",
    "    \n",
    "    # Extracting Battery capacity via Xpath\n",
    "    try:\n",
    "        bc=driver.find_element(By.XPATH, '/html/body/div[1]/div/div[3]/div[1]/div[2]/div[7]/div/div/div[5]/div/div[2]/div[1]/div[10]/table/tbody/tr[1]/td[2]/ul/li')\n",
    "        Battery_capacity.append(bc.text) \n",
    "    except NoSuchElementException:\n",
    "        Battery_capacity.append('-')"
   ]
  },
  {
   "cell_type": "code",
   "execution_count": 207,
   "id": "cd985dfe",
   "metadata": {},
   "outputs": [
    {
     "data": {
      "text/plain": [
       "23"
      ]
     },
     "execution_count": 207,
     "metadata": {},
     "output_type": "execute_result"
    }
   ],
   "source": [
    "len(Battery_capacity)"
   ]
  },
  {
   "cell_type": "code",
   "execution_count": 208,
   "id": "ef7e5204",
   "metadata": {},
   "outputs": [],
   "source": [
    "for i in URL:\n",
    "    driver.get(i)\n",
    "    time.sleep(2)\n",
    "    \n",
    "# Expanding specification table by clicking on read more button\n",
    "    try:\n",
    "        Read_more=driver.find_element(By.XPATH, '//button[@class=\"_2KpZ6l _1FH0tX\"]')\n",
    "        Read_more.click()\n",
    "        \n",
    "    except NoSuchElementException:\n",
    "        print('NoSuchElementException Occur')\n",
    "        pass\n",
    "    \n",
    "    # Extracting Price via Xpath\n",
    "    try:\n",
    "        pz=driver.find_element(By.XPATH, '/html/body/div[1]/div/div[3]/div[1]/div[2]/div[2]/div/div[4]/div[1]/div/div[1]')\n",
    "        Price.append(pz.text) \n",
    "    except NoSuchElementException:\n",
    "        Price.append('-')"
   ]
  },
  {
   "cell_type": "code",
   "execution_count": 209,
   "id": "2145a5e6",
   "metadata": {},
   "outputs": [
    {
     "data": {
      "text/plain": [
       "23"
      ]
     },
     "execution_count": 209,
     "metadata": {},
     "output_type": "execute_result"
    }
   ],
   "source": [
    "len(Price)"
   ]
  },
  {
   "cell_type": "code",
   "execution_count": 211,
   "id": "cebb6ab6",
   "metadata": {},
   "outputs": [
    {
     "data": {
      "text/html": [
       "<div>\n",
       "<style scoped>\n",
       "    .dataframe tbody tr th:only-of-type {\n",
       "        vertical-align: middle;\n",
       "    }\n",
       "\n",
       "    .dataframe tbody tr th {\n",
       "        vertical-align: top;\n",
       "    }\n",
       "\n",
       "    .dataframe thead th {\n",
       "        text-align: right;\n",
       "    }\n",
       "</style>\n",
       "<table border=\"1\" class=\"dataframe\">\n",
       "  <thead>\n",
       "    <tr style=\"text-align: right;\">\n",
       "      <th></th>\n",
       "      <th>Brand</th>\n",
       "      <th>Smartphone</th>\n",
       "      <th>Colour</th>\n",
       "      <th>Price</th>\n",
       "      <th>Ram</th>\n",
       "      <th>Storage Rom</th>\n",
       "      <th>Primary Camera</th>\n",
       "      <th>Secondary Camera</th>\n",
       "      <th>Display Size</th>\n",
       "      <th>Battery Capacity</th>\n",
       "      <th>Product URL</th>\n",
       "    </tr>\n",
       "  </thead>\n",
       "  <tbody>\n",
       "    <tr>\n",
       "      <th>0</th>\n",
       "      <td>-</td>\n",
       "      <td>OPPO Reno6 Pro 5G (Aurora, 256 GB)  (12 GB RAM)</td>\n",
       "      <td>-</td>\n",
       "      <td>₹39,990</td>\n",
       "      <td>-</td>\n",
       "      <td>-</td>\n",
       "      <td>-</td>\n",
       "      <td>-</td>\n",
       "      <td>-</td>\n",
       "      <td>-</td>\n",
       "      <td>https://www.flipkart.com/oppo-reno6-pro-5g-aur...</td>\n",
       "    </tr>\n",
       "    <tr>\n",
       "      <th>1</th>\n",
       "      <td>-</td>\n",
       "      <td>OPPO Reno6 pro 5G (Stellar Black, 256 GB)  (12...</td>\n",
       "      <td>-</td>\n",
       "      <td>-</td>\n",
       "      <td>-</td>\n",
       "      <td>-</td>\n",
       "      <td>-</td>\n",
       "      <td>-</td>\n",
       "      <td>-</td>\n",
       "      <td>-</td>\n",
       "      <td>https://www.flipkart.com/oppo-reno6-pro-5g-ste...</td>\n",
       "    </tr>\n",
       "    <tr>\n",
       "      <th>2</th>\n",
       "      <td>-</td>\n",
       "      <td>OPPO Reno6 Pro 5G (Majestic Gold, 256 GB)  (12...</td>\n",
       "      <td>-</td>\n",
       "      <td>₹41,990</td>\n",
       "      <td>-</td>\n",
       "      <td>-</td>\n",
       "      <td>-</td>\n",
       "      <td>-</td>\n",
       "      <td>-</td>\n",
       "      <td>-</td>\n",
       "      <td>https://www.flipkart.com/oppo-reno6-pro-5g-maj...</td>\n",
       "    </tr>\n",
       "    <tr>\n",
       "      <th>3</th>\n",
       "      <td>-</td>\n",
       "      <td>OPPO Reno10 Pro 5G (Glossy Purple, 256 GB)  (1...</td>\n",
       "      <td>-</td>\n",
       "      <td>₹37,999</td>\n",
       "      <td>-</td>\n",
       "      <td>-</td>\n",
       "      <td>-</td>\n",
       "      <td>-</td>\n",
       "      <td>-</td>\n",
       "      <td>-</td>\n",
       "      <td>https://www.flipkart.com/oppo-reno10-pro-5g-gl...</td>\n",
       "    </tr>\n",
       "    <tr>\n",
       "      <th>4</th>\n",
       "      <td>-</td>\n",
       "      <td>OPPO Reno10 Pro 5G (Silvery Grey, 256 GB)  (12...</td>\n",
       "      <td>-</td>\n",
       "      <td>₹37,999</td>\n",
       "      <td>-</td>\n",
       "      <td>-</td>\n",
       "      <td>-</td>\n",
       "      <td>-</td>\n",
       "      <td>-</td>\n",
       "      <td>-</td>\n",
       "      <td>https://www.flipkart.com/oppo-reno10-pro-5g-si...</td>\n",
       "    </tr>\n",
       "    <tr>\n",
       "      <th>5</th>\n",
       "      <td>-</td>\n",
       "      <td>OPPO Reno10 Pro+ 5G (Glossy Purple, 256 GB)  (...</td>\n",
       "      <td>-</td>\n",
       "      <td>₹54,999</td>\n",
       "      <td>-</td>\n",
       "      <td>-</td>\n",
       "      <td>-</td>\n",
       "      <td>-</td>\n",
       "      <td>-</td>\n",
       "      <td>-</td>\n",
       "      <td>https://www.flipkart.com/oppo-reno10-pro-5g-gl...</td>\n",
       "    </tr>\n",
       "    <tr>\n",
       "      <th>6</th>\n",
       "      <td>-</td>\n",
       "      <td>OPPO Reno10 Pro+ 5G (Silvery Grey, 256 GB)  (1...</td>\n",
       "      <td>-</td>\n",
       "      <td>₹54,999</td>\n",
       "      <td>-</td>\n",
       "      <td>-</td>\n",
       "      <td>-</td>\n",
       "      <td>-</td>\n",
       "      <td>-</td>\n",
       "      <td>-</td>\n",
       "      <td>https://www.flipkart.com/oppo-reno10-pro-5g-si...</td>\n",
       "    </tr>\n",
       "    <tr>\n",
       "      <th>7</th>\n",
       "      <td>-</td>\n",
       "      <td>OPPO Reno8 Pro 5G (Glazed Green, 256 GB)  (12 ...</td>\n",
       "      <td>-</td>\n",
       "      <td>₹42,999</td>\n",
       "      <td>-</td>\n",
       "      <td>-</td>\n",
       "      <td>-</td>\n",
       "      <td>-</td>\n",
       "      <td>-</td>\n",
       "      <td>-</td>\n",
       "      <td>https://www.flipkart.com/oppo-reno8-pro-5g-gla...</td>\n",
       "    </tr>\n",
       "    <tr>\n",
       "      <th>8</th>\n",
       "      <td>-</td>\n",
       "      <td>OPPO Reno8 Pro 5G (Glazed Black, 256 GB)  (12 ...</td>\n",
       "      <td>-</td>\n",
       "      <td>₹42,999</td>\n",
       "      <td>-</td>\n",
       "      <td>-</td>\n",
       "      <td>-</td>\n",
       "      <td>-</td>\n",
       "      <td>-</td>\n",
       "      <td>-</td>\n",
       "      <td>https://www.flipkart.com/oppo-reno8-pro-5g-gla...</td>\n",
       "    </tr>\n",
       "    <tr>\n",
       "      <th>9</th>\n",
       "      <td>-</td>\n",
       "      <td>OPPO Reno5 Pro 5G (Starry Black, 128 GB)  (8 G...</td>\n",
       "      <td>-</td>\n",
       "      <td>-</td>\n",
       "      <td>-</td>\n",
       "      <td>-</td>\n",
       "      <td>-</td>\n",
       "      <td>-</td>\n",
       "      <td>-</td>\n",
       "      <td>-</td>\n",
       "      <td>https://www.flipkart.com/oppo-reno5-pro-5g-sta...</td>\n",
       "    </tr>\n",
       "    <tr>\n",
       "      <th>10</th>\n",
       "      <td>-</td>\n",
       "      <td>OPPO Reno5 Pro 5G (Astral Blue, 128 GB)  (8 GB...</td>\n",
       "      <td>-</td>\n",
       "      <td>-</td>\n",
       "      <td>-</td>\n",
       "      <td>-</td>\n",
       "      <td>-</td>\n",
       "      <td>-</td>\n",
       "      <td>-</td>\n",
       "      <td>-</td>\n",
       "      <td>https://www.flipkart.com/oppo-reno5-pro-5g-ast...</td>\n",
       "    </tr>\n",
       "    <tr>\n",
       "      <th>11</th>\n",
       "      <td>-</td>\n",
       "      <td>OPPO Reno7 Pro 5G (Starlight Black, 256 GB)  (...</td>\n",
       "      <td>-</td>\n",
       "      <td>-</td>\n",
       "      <td>-</td>\n",
       "      <td>-</td>\n",
       "      <td>-</td>\n",
       "      <td>-</td>\n",
       "      <td>-</td>\n",
       "      <td>-</td>\n",
       "      <td>https://www.flipkart.com/oppo-reno7-pro-5g-sta...</td>\n",
       "    </tr>\n",
       "    <tr>\n",
       "      <th>12</th>\n",
       "      <td>-</td>\n",
       "      <td>OPPO Reno7 Pro 5G (Startrails Blue, 256 GB)  (...</td>\n",
       "      <td>-</td>\n",
       "      <td>-</td>\n",
       "      <td>-</td>\n",
       "      <td>-</td>\n",
       "      <td>-</td>\n",
       "      <td>-</td>\n",
       "      <td>-</td>\n",
       "      <td>-</td>\n",
       "      <td>https://www.flipkart.com/oppo-reno7-pro-5g-sta...</td>\n",
       "    </tr>\n",
       "    <tr>\n",
       "      <th>13</th>\n",
       "      <td>-</td>\n",
       "      <td>OPPO Reno3 Pro (Sky White, 256 GB)  (8 GB RAM)</td>\n",
       "      <td>Sky White</td>\n",
       "      <td>-</td>\n",
       "      <td>8 GB</td>\n",
       "      <td>256 GB</td>\n",
       "      <td>64MP + 13MP + 8MP + 2MP</td>\n",
       "      <td>44MP + 2MP Dual Front Camera</td>\n",
       "      <td>16.26 cm (6.4 inch)</td>\n",
       "      <td>73.4 mm</td>\n",
       "      <td>https://www.flipkart.com/oppo-reno3-pro-sky-wh...</td>\n",
       "    </tr>\n",
       "    <tr>\n",
       "      <th>14</th>\n",
       "      <td>-</td>\n",
       "      <td>OPPO Reno3 Pro (Midnight Black, 256 GB)  (8 GB...</td>\n",
       "      <td>Midnight Black</td>\n",
       "      <td>₹25,970</td>\n",
       "      <td>8 GB</td>\n",
       "      <td>256 GB</td>\n",
       "      <td>64MP + 13MP + 8MP + 2MP</td>\n",
       "      <td>44MP + 2MP Dual Front Camera</td>\n",
       "      <td>16.26 cm (6.4 inch)</td>\n",
       "      <td>73.4 mm</td>\n",
       "      <td>https://www.flipkart.com/oppo-reno3-pro-midnig...</td>\n",
       "    </tr>\n",
       "    <tr>\n",
       "      <th>15</th>\n",
       "      <td>-</td>\n",
       "      <td>OPPO Reno3 Pro (Auroral Blue, 256 GB)  (8 GB RAM)</td>\n",
       "      <td>Auroral Blue</td>\n",
       "      <td>₹25,800</td>\n",
       "      <td>8 GB</td>\n",
       "      <td>256 GB</td>\n",
       "      <td>64MP + 13MP + 8MP + 2MP</td>\n",
       "      <td>44MP + 2MP Dual Front Camera</td>\n",
       "      <td>16.26 cm (6.4 inch)</td>\n",
       "      <td>73.4 mm</td>\n",
       "      <td>https://www.flipkart.com/oppo-reno3-pro-aurora...</td>\n",
       "    </tr>\n",
       "    <tr>\n",
       "      <th>16</th>\n",
       "      <td>-</td>\n",
       "      <td>OPPO Reno4 Pro (Starry Night, 128 GB)  (8 GB RAM)</td>\n",
       "      <td>Starry Night</td>\n",
       "      <td>-</td>\n",
       "      <td>8 GB</td>\n",
       "      <td>128 GB</td>\n",
       "      <td>48MP + 8MP + 2MP + 2MP</td>\n",
       "      <td>32MP Front Camera</td>\n",
       "      <td>16.51 cm (6.5 inch)</td>\n",
       "      <td>4000 mAh</td>\n",
       "      <td>https://www.flipkart.com/oppo-reno4-pro-starry...</td>\n",
       "    </tr>\n",
       "    <tr>\n",
       "      <th>17</th>\n",
       "      <td>-</td>\n",
       "      <td>OPPO Reno4 Pro (Silky White, 128 GB)  (8 GB RAM)</td>\n",
       "      <td>Silky White</td>\n",
       "      <td>₹34,990</td>\n",
       "      <td>8 GB</td>\n",
       "      <td>128 GB</td>\n",
       "      <td>48MP + 8MP + 2MP + 2MP</td>\n",
       "      <td>32MP Front Camera</td>\n",
       "      <td>16.51 cm (6.5 inch)</td>\n",
       "      <td>4000 mAh</td>\n",
       "      <td>https://www.flipkart.com/oppo-reno4-pro-silky-...</td>\n",
       "    </tr>\n",
       "    <tr>\n",
       "      <th>18</th>\n",
       "      <td>-</td>\n",
       "      <td>OPPO Reno3 Pro (Sky White, 128 GB)  (8 GB RAM)</td>\n",
       "      <td>Sky White</td>\n",
       "      <td>-</td>\n",
       "      <td>8 GB</td>\n",
       "      <td>128 GB</td>\n",
       "      <td>64MP + 13MP + 8MP + 2MP</td>\n",
       "      <td>44MP + 2MP Dual Front Camera</td>\n",
       "      <td>16.26 cm (6.4 inch)</td>\n",
       "      <td>73.4 mm</td>\n",
       "      <td>https://www.flipkart.com/oppo-reno3-pro-sky-wh...</td>\n",
       "    </tr>\n",
       "    <tr>\n",
       "      <th>19</th>\n",
       "      <td>-</td>\n",
       "      <td>OPPO Reno3 Pro (Midnight Black, 128 GB)  (8 GB...</td>\n",
       "      <td>Midnight Black</td>\n",
       "      <td>-</td>\n",
       "      <td>8 GB</td>\n",
       "      <td>128 GB</td>\n",
       "      <td>64MP + 13MP + 8MP + 2MP</td>\n",
       "      <td>44MP + 2MP Dual Front Camera</td>\n",
       "      <td>16.26 cm (6.4 inch)</td>\n",
       "      <td>73.4 mm</td>\n",
       "      <td>https://www.flipkart.com/oppo-reno3-pro-midnig...</td>\n",
       "    </tr>\n",
       "    <tr>\n",
       "      <th>20</th>\n",
       "      <td>-</td>\n",
       "      <td>OPPO Reno3 Pro (Auroral Blue, 128 GB)  (8 GB RAM)</td>\n",
       "      <td>Auroral Blue</td>\n",
       "      <td>-</td>\n",
       "      <td>8 GB</td>\n",
       "      <td>128 GB</td>\n",
       "      <td>64MP + 13MP + 8MP + 2MP</td>\n",
       "      <td>44MP + 2MP Dual Front Camera</td>\n",
       "      <td>16.26 cm (6.4 inch)</td>\n",
       "      <td>73.4 mm</td>\n",
       "      <td>https://www.flipkart.com/oppo-reno3-pro-aurora...</td>\n",
       "    </tr>\n",
       "    <tr>\n",
       "      <th>21</th>\n",
       "      <td>-</td>\n",
       "      <td>OPPO Reno8 Pro 5G - House of The Dragon (House...</td>\n",
       "      <td>-</td>\n",
       "      <td>₹45,999</td>\n",
       "      <td>-</td>\n",
       "      <td>-</td>\n",
       "      <td>-</td>\n",
       "      <td>-</td>\n",
       "      <td>-</td>\n",
       "      <td>-</td>\n",
       "      <td>https://www.flipkart.com/oppo-reno8-pro-5g-hou...</td>\n",
       "    </tr>\n",
       "    <tr>\n",
       "      <th>22</th>\n",
       "      <td>-</td>\n",
       "      <td>OPPO Reno4 Pro Special Edition (Starry Night, ...</td>\n",
       "      <td>Starry Night</td>\n",
       "      <td>₹34,990</td>\n",
       "      <td>8 GB</td>\n",
       "      <td>128 GB</td>\n",
       "      <td>48MP + 8MP + 2MP + 2MP</td>\n",
       "      <td>32MP Front Camera</td>\n",
       "      <td>16.51 cm (6.5 inch)</td>\n",
       "      <td>4000 mAh</td>\n",
       "      <td>https://www.flipkart.com/oppo-reno4-pro-specia...</td>\n",
       "    </tr>\n",
       "  </tbody>\n",
       "</table>\n",
       "</div>"
      ],
      "text/plain": [
       "   Brand                                         Smartphone          Colour  \\\n",
       "0      -    OPPO Reno6 Pro 5G (Aurora, 256 GB)  (12 GB RAM)               -   \n",
       "1      -  OPPO Reno6 pro 5G (Stellar Black, 256 GB)  (12...               -   \n",
       "2      -  OPPO Reno6 Pro 5G (Majestic Gold, 256 GB)  (12...               -   \n",
       "3      -  OPPO Reno10 Pro 5G (Glossy Purple, 256 GB)  (1...               -   \n",
       "4      -  OPPO Reno10 Pro 5G (Silvery Grey, 256 GB)  (12...               -   \n",
       "5      -  OPPO Reno10 Pro+ 5G (Glossy Purple, 256 GB)  (...               -   \n",
       "6      -  OPPO Reno10 Pro+ 5G (Silvery Grey, 256 GB)  (1...               -   \n",
       "7      -  OPPO Reno8 Pro 5G (Glazed Green, 256 GB)  (12 ...               -   \n",
       "8      -  OPPO Reno8 Pro 5G (Glazed Black, 256 GB)  (12 ...               -   \n",
       "9      -  OPPO Reno5 Pro 5G (Starry Black, 128 GB)  (8 G...               -   \n",
       "10     -  OPPO Reno5 Pro 5G (Astral Blue, 128 GB)  (8 GB...               -   \n",
       "11     -  OPPO Reno7 Pro 5G (Starlight Black, 256 GB)  (...               -   \n",
       "12     -  OPPO Reno7 Pro 5G (Startrails Blue, 256 GB)  (...               -   \n",
       "13     -     OPPO Reno3 Pro (Sky White, 256 GB)  (8 GB RAM)       Sky White   \n",
       "14     -  OPPO Reno3 Pro (Midnight Black, 256 GB)  (8 GB...  Midnight Black   \n",
       "15     -  OPPO Reno3 Pro (Auroral Blue, 256 GB)  (8 GB RAM)    Auroral Blue   \n",
       "16     -  OPPO Reno4 Pro (Starry Night, 128 GB)  (8 GB RAM)    Starry Night   \n",
       "17     -   OPPO Reno4 Pro (Silky White, 128 GB)  (8 GB RAM)     Silky White   \n",
       "18     -     OPPO Reno3 Pro (Sky White, 128 GB)  (8 GB RAM)       Sky White   \n",
       "19     -  OPPO Reno3 Pro (Midnight Black, 128 GB)  (8 GB...  Midnight Black   \n",
       "20     -  OPPO Reno3 Pro (Auroral Blue, 128 GB)  (8 GB RAM)    Auroral Blue   \n",
       "21     -  OPPO Reno8 Pro 5G - House of The Dragon (House...               -   \n",
       "22     -  OPPO Reno4 Pro Special Edition (Starry Night, ...    Starry Night   \n",
       "\n",
       "      Price   Ram Storage Rom           Primary Camera  \\\n",
       "0   ₹39,990     -           -                        -   \n",
       "1         -     -           -                        -   \n",
       "2   ₹41,990     -           -                        -   \n",
       "3   ₹37,999     -           -                        -   \n",
       "4   ₹37,999     -           -                        -   \n",
       "5   ₹54,999     -           -                        -   \n",
       "6   ₹54,999     -           -                        -   \n",
       "7   ₹42,999     -           -                        -   \n",
       "8   ₹42,999     -           -                        -   \n",
       "9         -     -           -                        -   \n",
       "10        -     -           -                        -   \n",
       "11        -     -           -                        -   \n",
       "12        -     -           -                        -   \n",
       "13        -  8 GB      256 GB  64MP + 13MP + 8MP + 2MP   \n",
       "14  ₹25,970  8 GB      256 GB  64MP + 13MP + 8MP + 2MP   \n",
       "15  ₹25,800  8 GB      256 GB  64MP + 13MP + 8MP + 2MP   \n",
       "16        -  8 GB      128 GB   48MP + 8MP + 2MP + 2MP   \n",
       "17  ₹34,990  8 GB      128 GB   48MP + 8MP + 2MP + 2MP   \n",
       "18        -  8 GB      128 GB  64MP + 13MP + 8MP + 2MP   \n",
       "19        -  8 GB      128 GB  64MP + 13MP + 8MP + 2MP   \n",
       "20        -  8 GB      128 GB  64MP + 13MP + 8MP + 2MP   \n",
       "21  ₹45,999     -           -                        -   \n",
       "22  ₹34,990  8 GB      128 GB   48MP + 8MP + 2MP + 2MP   \n",
       "\n",
       "                Secondary Camera         Display Size Battery Capacity  \\\n",
       "0                              -                    -                -   \n",
       "1                              -                    -                -   \n",
       "2                              -                    -                -   \n",
       "3                              -                    -                -   \n",
       "4                              -                    -                -   \n",
       "5                              -                    -                -   \n",
       "6                              -                    -                -   \n",
       "7                              -                    -                -   \n",
       "8                              -                    -                -   \n",
       "9                              -                    -                -   \n",
       "10                             -                    -                -   \n",
       "11                             -                    -                -   \n",
       "12                             -                    -                -   \n",
       "13  44MP + 2MP Dual Front Camera  16.26 cm (6.4 inch)          73.4 mm   \n",
       "14  44MP + 2MP Dual Front Camera  16.26 cm (6.4 inch)          73.4 mm   \n",
       "15  44MP + 2MP Dual Front Camera  16.26 cm (6.4 inch)          73.4 mm   \n",
       "16             32MP Front Camera  16.51 cm (6.5 inch)         4000 mAh   \n",
       "17             32MP Front Camera  16.51 cm (6.5 inch)         4000 mAh   \n",
       "18  44MP + 2MP Dual Front Camera  16.26 cm (6.4 inch)          73.4 mm   \n",
       "19  44MP + 2MP Dual Front Camera  16.26 cm (6.4 inch)          73.4 mm   \n",
       "20  44MP + 2MP Dual Front Camera  16.26 cm (6.4 inch)          73.4 mm   \n",
       "21                             -                    -                -   \n",
       "22             32MP Front Camera  16.51 cm (6.5 inch)         4000 mAh   \n",
       "\n",
       "                                          Product URL  \n",
       "0   https://www.flipkart.com/oppo-reno6-pro-5g-aur...  \n",
       "1   https://www.flipkart.com/oppo-reno6-pro-5g-ste...  \n",
       "2   https://www.flipkart.com/oppo-reno6-pro-5g-maj...  \n",
       "3   https://www.flipkart.com/oppo-reno10-pro-5g-gl...  \n",
       "4   https://www.flipkart.com/oppo-reno10-pro-5g-si...  \n",
       "5   https://www.flipkart.com/oppo-reno10-pro-5g-gl...  \n",
       "6   https://www.flipkart.com/oppo-reno10-pro-5g-si...  \n",
       "7   https://www.flipkart.com/oppo-reno8-pro-5g-gla...  \n",
       "8   https://www.flipkart.com/oppo-reno8-pro-5g-gla...  \n",
       "9   https://www.flipkart.com/oppo-reno5-pro-5g-sta...  \n",
       "10  https://www.flipkart.com/oppo-reno5-pro-5g-ast...  \n",
       "11  https://www.flipkart.com/oppo-reno7-pro-5g-sta...  \n",
       "12  https://www.flipkart.com/oppo-reno7-pro-5g-sta...  \n",
       "13  https://www.flipkart.com/oppo-reno3-pro-sky-wh...  \n",
       "14  https://www.flipkart.com/oppo-reno3-pro-midnig...  \n",
       "15  https://www.flipkart.com/oppo-reno3-pro-aurora...  \n",
       "16  https://www.flipkart.com/oppo-reno4-pro-starry...  \n",
       "17  https://www.flipkart.com/oppo-reno4-pro-silky-...  \n",
       "18  https://www.flipkart.com/oppo-reno3-pro-sky-wh...  \n",
       "19  https://www.flipkart.com/oppo-reno3-pro-midnig...  \n",
       "20  https://www.flipkart.com/oppo-reno3-pro-aurora...  \n",
       "21  https://www.flipkart.com/oppo-reno8-pro-5g-hou...  \n",
       "22  https://www.flipkart.com/oppo-reno4-pro-specia...  "
      ]
     },
     "execution_count": 211,
     "metadata": {},
     "output_type": "execute_result"
    }
   ],
   "source": [
    "df=pd.DataFrame({'Brand':Brand,'Smartphone':smartphone,'Colour':Colour,'Price':Price,'Ram':Ram,'Storage Rom':Storage_Rom,'Primary Camera':Primary_camera,'Secondary Camera':Secondary_camera,'Display Size':Display_size,'Battery Capacity':Battery_capacity,'Product URL':URL})\n",
    "df"
   ]
  },
  {
   "cell_type": "markdown",
   "id": "1bb23d5f",
   "metadata": {},
   "source": [
    "#### Q5. Write a program to scrap geospatial coordinates (latitude, longitude) of a city searched on google maps."
   ]
  },
  {
   "cell_type": "code",
   "execution_count": 212,
   "id": "18064170",
   "metadata": {},
   "outputs": [],
   "source": [
    "# Activating the chrome browser\n",
    "driver = webdriver.Chrome()"
   ]
  },
  {
   "cell_type": "code",
   "execution_count": 213,
   "id": "41911364",
   "metadata": {},
   "outputs": [],
   "source": [
    "# obtaining the web page with the provided url\n",
    "url=\"https://www.google.co.in/maps\"\n",
    "driver.get(url)"
   ]
  },
  {
   "cell_type": "code",
   "execution_count": 218,
   "id": "7a882217",
   "metadata": {},
   "outputs": [],
   "source": [
    "Search = driver.find_element(By.CLASS_NAME, 'searchboxinput')"
   ]
  },
  {
   "cell_type": "code",
   "execution_count": 219,
   "id": "ccb7d025",
   "metadata": {},
   "outputs": [],
   "source": [
    "Search.send_keys('Nagpur')"
   ]
  },
  {
   "cell_type": "code",
   "execution_count": 224,
   "id": "79dd0584",
   "metadata": {},
   "outputs": [],
   "source": [
    "# Finding Search button for clicking through xpath\n",
    "Search_button=driver.find_element(By.ID, 'searchbox-searchbutton') \n",
    "Search_button.click()"
   ]
  },
  {
   "cell_type": "code",
   "execution_count": 225,
   "id": "59283256",
   "metadata": {},
   "outputs": [
    {
     "name": "stdout",
     "output_type": "stream",
     "text": [
      "Current url : https://www.google.co.in/maps/place/Nagpur,+Maharashtra/@21.1610858,79.0725101,11z/data=!3m1!4b1!4m6!3m5!1s0x3bd4c0a5a31faf13:0x19b37d06d0bb3e2b!8m2!3d21.1458004!4d79.0881546!16zL20vMDJjOTht?entry=ttu\n"
     ]
    }
   ],
   "source": [
    "current_url=driver.current_url\n",
    "print('Current url :',current_url)"
   ]
  },
  {
   "cell_type": "code",
   "execution_count": 226,
   "id": "bac86d54",
   "metadata": {},
   "outputs": [
    {
     "name": "stdout",
     "output_type": "stream",
     "text": [
      "Latitude of given Location: 21.1610858\n",
      "Longitude of given Location: 79.0725101\n"
     ]
    }
   ],
   "source": [
    "try:\n",
    "    if \"@\" in current_url:\n",
    "        location=current_url.split('@')[1].split(',*/data')[0].split(',')\n",
    "        location\n",
    "        print('Latitude of given Location:',location[0])\n",
    "        print('Longitude of given Location:',location[1])\n",
    "except:\n",
    "    print('Location detail not found in url')"
   ]
  },
  {
   "cell_type": "markdown",
   "id": "d7e588a2",
   "metadata": {},
   "source": [
    "#### Q6. Write a program to scrap all the available details of best gaming laptops from digit.in."
   ]
  },
  {
   "cell_type": "code",
   "execution_count": 387,
   "id": "9fbfafbb",
   "metadata": {},
   "outputs": [],
   "source": [
    "# Connecting to webdriver\n",
    "driver=webdriver.Chrome()\n",
    "time.sleep(1)\n",
    "\n",
    "# Opening url in chrome browser\n",
    "url='https://www.digit.in'\n",
    "driver.get(url)\n",
    "time.sleep(3)"
   ]
  },
  {
   "cell_type": "code",
   "execution_count": 229,
   "id": "3d142243",
   "metadata": {},
   "outputs": [],
   "source": [
    "# Clicking on Laptop\n",
    "driver.find_element(By.ID, 'menu-item-123490').click()"
   ]
  },
  {
   "cell_type": "code",
   "execution_count": 394,
   "id": "e4dc4d8c",
   "metadata": {},
   "outputs": [],
   "source": [
    "# Opening Best gaming laptops link\n",
    "Gaming_lappy=driver.find_element(By.XPATH, '//li[@class=\"menu-item menu-item-type-custom menu-item-object-custom\"]/a').get_attribute('href')\n",
    "driver.get(Gaming_lappy)\n",
    "time.sleep(3)"
   ]
  },
  {
   "cell_type": "code",
   "execution_count": 400,
   "id": "196ad847",
   "metadata": {},
   "outputs": [],
   "source": [
    "# Making Empty list for scraping data\n",
    "Laptop_models =[]\n",
    "OS =[]\n",
    "Display = []"
   ]
  },
  {
   "cell_type": "code",
   "execution_count": 401,
   "id": "9012d2aa",
   "metadata": {},
   "outputs": [],
   "source": [
    "# Extracting Laptop model via Xpath\n",
    "for i in range(0,11):\n",
    "    laptop_model=driver.find_elements(By.XPATH, '//h3[@class=\"font130 mt0 mb10 mobilesblockdisplay \"]'.format(i))\n",
    "for j in laptop_model:\n",
    "       Laptop_models.append(j.text)"
   ]
  },
  {
   "cell_type": "code",
   "execution_count": 445,
   "id": "805d7c51",
   "metadata": {},
   "outputs": [
    {
     "data": {
      "text/plain": [
       "4"
      ]
     },
     "execution_count": 445,
     "metadata": {},
     "output_type": "execute_result"
    }
   ],
   "source": [
    "len(Laptop_models)"
   ]
  },
  {
   "cell_type": "code",
   "execution_count": 412,
   "id": "49e7abcf",
   "metadata": {},
   "outputs": [],
   "source": [
    "Op_Sys = []\n",
    "\n",
    "# Extracting OS on Laptop model via Xpath\n",
    "os = driver.find_elements(By.XPATH, '/html/body/div[1]/div[3]/div/div/article/div[6]/div/div[2]/div[1]/div/div/div/div[2]/div[3]/div[2]/div[1]/div/span[2]')\n",
    "for j in os:\n",
    "    Op_Sys.append(j.text)"
   ]
  },
  {
   "cell_type": "code",
   "execution_count": 413,
   "id": "ca32aff3",
   "metadata": {},
   "outputs": [
    {
     "data": {
      "text/plain": [
       "1"
      ]
     },
     "execution_count": 413,
     "metadata": {},
     "output_type": "execute_result"
    }
   ],
   "source": [
    "len(Op_Sys)"
   ]
  },
  {
   "cell_type": "code",
   "execution_count": 414,
   "id": "4762f7b0",
   "metadata": {},
   "outputs": [],
   "source": [
    "os1 = driver.find_elements(By.XPATH, '/html/body/div[1]/div[3]/div/div/article/div[6]/div/div[2]/div[3]/div/div/div/div[2]/div[3]/div[2]/div[1]/div/span[2]')\n",
    "for k in os1:\n",
    "    Op_Sys.append(k.text)"
   ]
  },
  {
   "cell_type": "code",
   "execution_count": 415,
   "id": "ff619284",
   "metadata": {},
   "outputs": [
    {
     "data": {
      "text/plain": [
       "2"
      ]
     },
     "execution_count": 415,
     "metadata": {},
     "output_type": "execute_result"
    }
   ],
   "source": [
    "len(Op_Sys)"
   ]
  },
  {
   "cell_type": "code",
   "execution_count": 416,
   "id": "67a7c91b",
   "metadata": {},
   "outputs": [],
   "source": [
    "os2 = driver.find_elements(By.XPATH, '/html/body/div[1]/div[3]/div/div/article/div[6]/div/div[2]/div[5]/div/div/div/div[2]/div[3]/div[2]/div[1]/div/span[2]')\n",
    "for l in os2:\n",
    "    Op_Sys.append(l.text)"
   ]
  },
  {
   "cell_type": "code",
   "execution_count": 417,
   "id": "6569caf4",
   "metadata": {},
   "outputs": [
    {
     "data": {
      "text/plain": [
       "3"
      ]
     },
     "execution_count": 417,
     "metadata": {},
     "output_type": "execute_result"
    }
   ],
   "source": [
    "len(Op_Sys)"
   ]
  },
  {
   "cell_type": "code",
   "execution_count": 418,
   "id": "a695255e",
   "metadata": {},
   "outputs": [],
   "source": [
    "os3 = driver.find_elements(By.XPATH, '/html/body/div[1]/div[3]/div/div/article/div[6]/div/div[2]/div[9]/div/div/div/div[2]/div[3]/div[2]/div[1]/div/span[2]')\n",
    "for m in os3:\n",
    "    Op_Sys.append(m.text)"
   ]
  },
  {
   "cell_type": "code",
   "execution_count": 419,
   "id": "73425376",
   "metadata": {},
   "outputs": [
    {
     "data": {
      "text/plain": [
       "4"
      ]
     },
     "execution_count": 419,
     "metadata": {},
     "output_type": "execute_result"
    }
   ],
   "source": [
    "len(Op_Sys)"
   ]
  },
  {
   "cell_type": "code",
   "execution_count": 430,
   "id": "f4c60050",
   "metadata": {},
   "outputs": [],
   "source": [
    "# fetching information for display\n",
    "Disply =[]\n",
    "disp = driver.find_elements(By.XPATH, '/html/body/div[1]/div[3]/div/div/article/div[6]/div/div[2]/div[1]/div/div/div/div[2]/div[3]/div[2]/div[2]/div/span[2]')\n",
    "for i in disp:\n",
    "    Disply.append(i.text)"
   ]
  },
  {
   "cell_type": "code",
   "execution_count": 431,
   "id": "7625f7ab",
   "metadata": {},
   "outputs": [
    {
     "data": {
      "text/plain": [
       "1"
      ]
     },
     "execution_count": 431,
     "metadata": {},
     "output_type": "execute_result"
    }
   ],
   "source": [
    "len(Disply)"
   ]
  },
  {
   "cell_type": "code",
   "execution_count": 432,
   "id": "9bad6959",
   "metadata": {},
   "outputs": [],
   "source": [
    "disp1 = driver.find_elements(By.XPATH, '/html/body/div[1]/div[3]/div/div/article/div[6]/div/div[2]/div[3]/div/div/div/div[2]/div[3]/div[2]/div[2]/div/span[2]')\n",
    "for i in disp1:\n",
    "    Disply.append(i.text)"
   ]
  },
  {
   "cell_type": "code",
   "execution_count": 433,
   "id": "2bf7e0e7",
   "metadata": {},
   "outputs": [
    {
     "data": {
      "text/plain": [
       "2"
      ]
     },
     "execution_count": 433,
     "metadata": {},
     "output_type": "execute_result"
    }
   ],
   "source": [
    "len(Disply)"
   ]
  },
  {
   "cell_type": "code",
   "execution_count": 434,
   "id": "fd5324c6",
   "metadata": {},
   "outputs": [],
   "source": [
    "disp2 = driver.find_elements(By.XPATH, '/html/body/div[1]/div[3]/div/div/article/div[6]/div/div[2]/div[5]/div/div/div/div[2]/div[3]/div[2]/div[2]/div/span[2]')\n",
    "for i in disp2:\n",
    "    Disply.append(i.text)"
   ]
  },
  {
   "cell_type": "code",
   "execution_count": 435,
   "id": "bafb1ddc",
   "metadata": {},
   "outputs": [
    {
     "data": {
      "text/plain": [
       "3"
      ]
     },
     "execution_count": 435,
     "metadata": {},
     "output_type": "execute_result"
    }
   ],
   "source": [
    "len(Disply)"
   ]
  },
  {
   "cell_type": "code",
   "execution_count": 436,
   "id": "6ae263a2",
   "metadata": {},
   "outputs": [],
   "source": [
    "disp3 = driver.find_elements(By.XPATH, '/html/body/div[1]/div[3]/div/div/article/div[6]/div/div[2]/div[9]/div/div/div/div[2]/div[3]/div[2]/div[2]/div/span[2]')\n",
    "for i in disp3:\n",
    "    Disply.append(i.text)"
   ]
  },
  {
   "cell_type": "code",
   "execution_count": 437,
   "id": "aa5c664b",
   "metadata": {},
   "outputs": [
    {
     "data": {
      "text/plain": [
       "4"
      ]
     },
     "execution_count": 437,
     "metadata": {},
     "output_type": "execute_result"
    }
   ],
   "source": [
    "len(Disply)"
   ]
  },
  {
   "cell_type": "code",
   "execution_count": 438,
   "id": "00ff1ca4",
   "metadata": {},
   "outputs": [],
   "source": [
    "#fetching information for processor\n",
    "pro = driver.find_elements(By.XPATH, '/html/body/div[1]/div[3]/div/div/article/div[6]/div/div[2]/div[1]/div/div/div/div[2]/div[3]/div[2]/div[4]/div/span[2]')\n",
    "for i in pro:\n",
    "        Processor.append(i.text)\n",
    "pro1 = driver.find_elements(By.XPATH, '/html/body/div[1]/div[3]/div/div/article/div[6]/div/div[2]/div[3]/div/div/div/div[2]/div[3]/div[2]/div[4]/div/span[2]')\n",
    "for i in pro1:\n",
    "        Processor.append(i.text)\n",
    "pro2 = driver.find_elements(By.XPATH, '/html/body/div[1]/div[3]/div/div/article/div[6]/div/div[2]/div[5]/div/div/div/div[2]/div[3]/div[2]/div[4]/div/span[2]')\n",
    "for i in pro2:\n",
    "        Processor.append(i.text)\n",
    "pro3 = driver.find_elements(By.XPATH, '/html/body/div[1]/div[3]/div/div/article/div[6]/div/div[2]/div[9]/div/div/div/div[2]/div[3]/div[2]/div[4]/div/span[2]')\n",
    "for i in pro3:\n",
    "        Processor.append(i.text)"
   ]
  },
  {
   "cell_type": "code",
   "execution_count": 439,
   "id": "94d6da75",
   "metadata": {},
   "outputs": [
    {
     "data": {
      "text/plain": [
       "4"
      ]
     },
     "execution_count": 439,
     "metadata": {},
     "output_type": "execute_result"
    }
   ],
   "source": [
    "len(Processor)"
   ]
  },
  {
   "cell_type": "code",
   "execution_count": 441,
   "id": "5d13fc41",
   "metadata": {},
   "outputs": [],
   "source": [
    "Resolution =[]\n",
    "resolution = driver.find_elements(By.XPATH, '/html/body/div[1]/div[3]/div/div/article/div[6]/div/div[2]/div[1]/div/div/div/div[2]/div[3]/div[2]/div[3]/div/span[2]')\n",
    "for i in resolution:\n",
    "        Resolution.append(i.text)\n",
    "resolution1 = driver.find_elements(By.XPATH, '/html/body/div[1]/div[3]/div/div/article/div[6]/div/div[2]/div[3]/div/div/div/div[2]/div[3]/div[2]/div[3]/div/span[2]')\n",
    "for i in resolution1:\n",
    "        Resolution.append(i.text)\n",
    "resolution2 = driver.find_elements(By.XPATH, '/html/body/div[1]/div[3]/div/div/article/div[6]/div/div[2]/div[5]/div/div/div/div[2]/div[3]/div[2]/div[3]/div/span[2]')\n",
    "for i in resolution2:\n",
    "        Resolution.append(i.text)\n",
    "resolution3 = driver.find_elements(By.XPATH, '/html/body/div[1]/div[3]/div/div/article/div[6]/div/div[2]/div[9]/div/div/div/div[2]/div[3]/div[2]/div[3]/div/span[2]')\n",
    "for i in resolution3:\n",
    "        Resolution.append(i.text)"
   ]
  },
  {
   "cell_type": "code",
   "execution_count": 442,
   "id": "6b9f1c6d",
   "metadata": {},
   "outputs": [
    {
     "data": {
      "text/plain": [
       "4"
      ]
     },
     "execution_count": 442,
     "metadata": {},
     "output_type": "execute_result"
    }
   ],
   "source": [
    "len(Resolution)"
   ]
  },
  {
   "cell_type": "code",
   "execution_count": 446,
   "id": "62eb0b39",
   "metadata": {},
   "outputs": [
    {
     "data": {
      "text/plain": [
       "(4, 4, 4, 4, 4)"
      ]
     },
     "execution_count": 446,
     "metadata": {},
     "output_type": "execute_result"
    }
   ],
   "source": [
    "len(Laptop_models), len(Op_Sys), len(Disply), len(Processor), len(Resolution)"
   ]
  },
  {
   "cell_type": "code",
   "execution_count": 447,
   "id": "f0929bb2",
   "metadata": {},
   "outputs": [
    {
     "data": {
      "text/html": [
       "<div>\n",
       "<style scoped>\n",
       "    .dataframe tbody tr th:only-of-type {\n",
       "        vertical-align: middle;\n",
       "    }\n",
       "\n",
       "    .dataframe tbody tr th {\n",
       "        vertical-align: top;\n",
       "    }\n",
       "\n",
       "    .dataframe thead th {\n",
       "        text-align: right;\n",
       "    }\n",
       "</style>\n",
       "<table border=\"1\" class=\"dataframe\">\n",
       "  <thead>\n",
       "    <tr style=\"text-align: right;\">\n",
       "      <th></th>\n",
       "      <th>Laptop Model</th>\n",
       "      <th>Operating System</th>\n",
       "      <th>Display</th>\n",
       "      <th>Processor</th>\n",
       "      <th>Resolution</th>\n",
       "    </tr>\n",
       "  </thead>\n",
       "  <tbody>\n",
       "    <tr>\n",
       "      <th>0</th>\n",
       "      <td>Lenovo IdeaPad Gaming 3 82K200X3IN Ryzen 7-580...</td>\n",
       "      <td>Windows 11 Home</td>\n",
       "      <td>15.6</td>\n",
       "      <td>5th Gen AMD Ryzen 7-5800</td>\n",
       "      <td>1920 x 1080</td>\n",
       "    </tr>\n",
       "    <tr>\n",
       "      <th>1</th>\n",
       "      <td>Dell New G15-5515 D560805WIN9W Ryzen 5-5600H (...</td>\n",
       "      <td>Windows 10</td>\n",
       "      <td>15.6</td>\n",
       "      <td>AMD Ryzen 5-5600H</td>\n",
       "      <td>1920 x 1080</td>\n",
       "    </tr>\n",
       "    <tr>\n",
       "      <th>2</th>\n",
       "      <td>HP Pavilion Gaming 15-ec2145AX Ryzen 5-5600H (...</td>\n",
       "      <td>Windows 11 Home</td>\n",
       "      <td>15.6</td>\n",
       "      <td>AMD Ryzen 5 5600H</td>\n",
       "      <td>1920 x 1080</td>\n",
       "    </tr>\n",
       "    <tr>\n",
       "      <th>3</th>\n",
       "      <td>Lenovo IdeaPad Gaming 3 15ACH6 Ryzen 5-5600H (...</td>\n",
       "      <td>Windows 11 Home</td>\n",
       "      <td>15.6</td>\n",
       "      <td>AMD Ryzen 5-5600H</td>\n",
       "      <td>1920 x 1080</td>\n",
       "    </tr>\n",
       "  </tbody>\n",
       "</table>\n",
       "</div>"
      ],
      "text/plain": [
       "                                        Laptop Model Operating System Display  \\\n",
       "0  Lenovo IdeaPad Gaming 3 82K200X3IN Ryzen 7-580...  Windows 11 Home    15.6   \n",
       "1  Dell New G15-5515 D560805WIN9W Ryzen 5-5600H (...       Windows 10    15.6   \n",
       "2  HP Pavilion Gaming 15-ec2145AX Ryzen 5-5600H (...  Windows 11 Home    15.6   \n",
       "3  Lenovo IdeaPad Gaming 3 15ACH6 Ryzen 5-5600H (...  Windows 11 Home    15.6   \n",
       "\n",
       "                  Processor   Resolution  \n",
       "0  5th Gen AMD Ryzen 7-5800  1920 x 1080  \n",
       "1         AMD Ryzen 5-5600H  1920 x 1080  \n",
       "2         AMD Ryzen 5 5600H  1920 x 1080  \n",
       "3         AMD Ryzen 5-5600H  1920 x 1080  "
      ]
     },
     "execution_count": 447,
     "metadata": {},
     "output_type": "execute_result"
    }
   ],
   "source": [
    "Gaming_Laptops=pd.DataFrame({\"Laptop Model\":Laptop_models, \"Operating System\":Op_Sys, \"Display\":Disply, \"Processor\":Processor, \"Resolution\":Resolution})\n",
    "Gaming_Laptops"
   ]
  },
  {
   "cell_type": "markdown",
   "id": "3ff5f025",
   "metadata": {},
   "source": [
    "#### Q7.Write a python program to scrape the details for all billionaires from www.forbes.com. Details to be scrapped: “Rank”, “Name”, “Net worth”, “Age”, “Citizenship”, “Source”, “Industry”"
   ]
  },
  {
   "cell_type": "code",
   "execution_count": 237,
   "id": "faf13d20",
   "metadata": {},
   "outputs": [],
   "source": [
    "# Connecting to webdriver\n",
    "driver=webdriver.Chrome()\n",
    "time.sleep(1)\n",
    "\n",
    "# Opening url in chrome browser\n",
    "url=\"https://www.forbes.com\"\n",
    "driver.get(url)\n",
    "time.sleep(1)"
   ]
  },
  {
   "cell_type": "code",
   "execution_count": 238,
   "id": "d485b526",
   "metadata": {},
   "outputs": [],
   "source": [
    "# Click on explore button to expand menu\n",
    "driver.find_element(By.XPATH, '//div[@class=\"_69hVhdY4\"]').click()"
   ]
  },
  {
   "cell_type": "code",
   "execution_count": 241,
   "id": "01694afb",
   "metadata": {},
   "outputs": [],
   "source": [
    "# Click on Billionaire category\n",
    "driver.find_element(By.XPATH, '//div[@class=\"mpBfVZz3\"]').click()"
   ]
  },
  {
   "cell_type": "code",
   "execution_count": 244,
   "id": "d5a95cad",
   "metadata": {},
   "outputs": [],
   "source": [
    "# Click on world billionaire tab\n",
    "driver.find_element(By.XPATH, '//li[@class=\"TjJgrPSg _2bNo56RE secondary\"]').click()"
   ]
  },
  {
   "cell_type": "code",
   "execution_count": 245,
   "id": "778ccd34",
   "metadata": {},
   "outputs": [],
   "source": [
    "# Empty list to scrap data\n",
    "Rank =[]\n",
    "Name=[]\n",
    "Net_worth=[]\n",
    "Age=[]\n",
    "Citizenship=[]\n",
    "Source=[]\n",
    "Industry=[]"
   ]
  },
  {
   "cell_type": "code",
   "execution_count": 246,
   "id": "4deed2e7",
   "metadata": {},
   "outputs": [],
   "source": [
    "# Extracting Rank\n",
    "rank=driver.find_elements(By.XPATH, '//div[@class=\"Table_rank___YBhk Table_dataCell__2QCve\"]')\n",
    "for i in rank:\n",
    "    Rank.append(i.text)"
   ]
  },
  {
   "cell_type": "code",
   "execution_count": 247,
   "id": "fea9c33b",
   "metadata": {},
   "outputs": [
    {
     "data": {
      "text/plain": [
       "200"
      ]
     },
     "execution_count": 247,
     "metadata": {},
     "output_type": "execute_result"
    }
   ],
   "source": [
    "len(Rank)"
   ]
  },
  {
   "cell_type": "code",
   "execution_count": 248,
   "id": "0e6519a7",
   "metadata": {},
   "outputs": [],
   "source": [
    "# Extacting name\n",
    "name=driver.find_elements(By.XPATH, '//div[@class=\"TableRow_cell__db-hv Table_cell__houv9\"][2]/div')\n",
    "for i in name:\n",
    "    Name.append(i.text)"
   ]
  },
  {
   "cell_type": "code",
   "execution_count": 249,
   "id": "94f2efc1",
   "metadata": {},
   "outputs": [
    {
     "data": {
      "text/plain": [
       "200"
      ]
     },
     "execution_count": 249,
     "metadata": {},
     "output_type": "execute_result"
    }
   ],
   "source": [
    "len(Name)"
   ]
  },
  {
   "cell_type": "code",
   "execution_count": 250,
   "id": "b33c35c8",
   "metadata": {},
   "outputs": [],
   "source": [
    "#Extracting Net worth\n",
    "net=driver.find_elements(By.XPATH, '//div[@class=\"Table_netWorth___L4R5 Table_dataCell__2QCve\"]')\n",
    "for i in net:\n",
    "    Net_worth.append(i.text)"
   ]
  },
  {
   "cell_type": "code",
   "execution_count": 251,
   "id": "c50476a6",
   "metadata": {},
   "outputs": [
    {
     "data": {
      "text/plain": [
       "200"
      ]
     },
     "execution_count": 251,
     "metadata": {},
     "output_type": "execute_result"
    }
   ],
   "source": [
    "len(Net_worth)"
   ]
  },
  {
   "cell_type": "code",
   "execution_count": 252,
   "id": "a423d83c",
   "metadata": {},
   "outputs": [],
   "source": [
    "# Extracting Age\n",
    "age=driver.find_elements(By.XPATH, '//div[@class=\"TableRow_cell__db-hv Table_cell__houv9\"][4]/div')\n",
    "for i in age:\n",
    "    Age.append(i.text)"
   ]
  },
  {
   "cell_type": "code",
   "execution_count": 253,
   "id": "6bd406e7",
   "metadata": {},
   "outputs": [
    {
     "data": {
      "text/plain": [
       "200"
      ]
     },
     "execution_count": 253,
     "metadata": {},
     "output_type": "execute_result"
    }
   ],
   "source": [
    "len(Age)"
   ]
  },
  {
   "cell_type": "code",
   "execution_count": 254,
   "id": "2ec5536f",
   "metadata": {},
   "outputs": [],
   "source": [
    "# Extracting Citizenship\n",
    "citizen=driver.find_elements(By.XPATH, '//div[@class=\"TableRow_cell__db-hv Table_cell__houv9\"][5]')\n",
    "for i in citizen:\n",
    "    Citizenship.append(i.text)"
   ]
  },
  {
   "cell_type": "code",
   "execution_count": 255,
   "id": "1ee3374a",
   "metadata": {},
   "outputs": [
    {
     "data": {
      "text/plain": [
       "200"
      ]
     },
     "execution_count": 255,
     "metadata": {},
     "output_type": "execute_result"
    }
   ],
   "source": [
    "len(Citizenship)"
   ]
  },
  {
   "cell_type": "code",
   "execution_count": 256,
   "id": "51966188",
   "metadata": {},
   "outputs": [],
   "source": [
    "# Extracting Source\n",
    "source=driver.find_elements(By.XPATH, '//div[@class=\"TableRow_cell__db-hv Table_cell__houv9\"][6]/div/span')\n",
    "for i in source:\n",
    "    Source.append(i.text)"
   ]
  },
  {
   "cell_type": "code",
   "execution_count": 257,
   "id": "7eefce84",
   "metadata": {},
   "outputs": [
    {
     "data": {
      "text/plain": [
       "200"
      ]
     },
     "execution_count": 257,
     "metadata": {},
     "output_type": "execute_result"
    }
   ],
   "source": [
    "len(Source)"
   ]
  },
  {
   "cell_type": "code",
   "execution_count": 259,
   "id": "dee5a704",
   "metadata": {},
   "outputs": [],
   "source": [
    "# Extracting Industry\n",
    "industry=driver.find_elements(By.XPATH, '//div[@class=\"TableRow_cell__db-hv Table_cell__houv9\"][7]/div')\n",
    "for i in industry:\n",
    "    Industry.append(i.text)"
   ]
  },
  {
   "cell_type": "code",
   "execution_count": 260,
   "id": "453cc2cd",
   "metadata": {},
   "outputs": [
    {
     "data": {
      "text/plain": [
       "200"
      ]
     },
     "execution_count": 260,
     "metadata": {},
     "output_type": "execute_result"
    }
   ],
   "source": [
    "len(Industry)"
   ]
  },
  {
   "cell_type": "code",
   "execution_count": 261,
   "id": "20ec9b55",
   "metadata": {},
   "outputs": [
    {
     "data": {
      "text/html": [
       "<div>\n",
       "<style scoped>\n",
       "    .dataframe tbody tr th:only-of-type {\n",
       "        vertical-align: middle;\n",
       "    }\n",
       "\n",
       "    .dataframe tbody tr th {\n",
       "        vertical-align: top;\n",
       "    }\n",
       "\n",
       "    .dataframe thead th {\n",
       "        text-align: right;\n",
       "    }\n",
       "</style>\n",
       "<table border=\"1\" class=\"dataframe\">\n",
       "  <thead>\n",
       "    <tr style=\"text-align: right;\">\n",
       "      <th></th>\n",
       "      <th>Rank</th>\n",
       "      <th>Name</th>\n",
       "      <th>Net Worth</th>\n",
       "      <th>Age</th>\n",
       "      <th>Citizenship</th>\n",
       "      <th>Source</th>\n",
       "      <th>Industry</th>\n",
       "    </tr>\n",
       "  </thead>\n",
       "  <tbody>\n",
       "    <tr>\n",
       "      <th>0</th>\n",
       "      <td>1</td>\n",
       "      <td>Bernard Arnault &amp; family</td>\n",
       "      <td>$211 B</td>\n",
       "      <td>74</td>\n",
       "      <td>France</td>\n",
       "      <td>LVMH</td>\n",
       "      <td>Fashion &amp; Retail</td>\n",
       "    </tr>\n",
       "    <tr>\n",
       "      <th>1</th>\n",
       "      <td>2</td>\n",
       "      <td>Elon Musk</td>\n",
       "      <td>$180 B</td>\n",
       "      <td>51</td>\n",
       "      <td>United States</td>\n",
       "      <td>Tesla, SpaceX</td>\n",
       "      <td>Automotive</td>\n",
       "    </tr>\n",
       "    <tr>\n",
       "      <th>2</th>\n",
       "      <td>3</td>\n",
       "      <td>Jeff Bezos</td>\n",
       "      <td>$114 B</td>\n",
       "      <td>59</td>\n",
       "      <td>United States</td>\n",
       "      <td>Amazon</td>\n",
       "      <td>Technology</td>\n",
       "    </tr>\n",
       "    <tr>\n",
       "      <th>3</th>\n",
       "      <td>4</td>\n",
       "      <td>Larry Ellison</td>\n",
       "      <td>$107 B</td>\n",
       "      <td>78</td>\n",
       "      <td>United States</td>\n",
       "      <td>Oracle</td>\n",
       "      <td>Technology</td>\n",
       "    </tr>\n",
       "    <tr>\n",
       "      <th>4</th>\n",
       "      <td>5</td>\n",
       "      <td>Warren Buffett</td>\n",
       "      <td>$106 B</td>\n",
       "      <td>92</td>\n",
       "      <td>United States</td>\n",
       "      <td>Berkshire Hathaway</td>\n",
       "      <td>Finance &amp; Investments</td>\n",
       "    </tr>\n",
       "    <tr>\n",
       "      <th>...</th>\n",
       "      <td>...</td>\n",
       "      <td>...</td>\n",
       "      <td>...</td>\n",
       "      <td>...</td>\n",
       "      <td>...</td>\n",
       "      <td>...</td>\n",
       "      <td>...</td>\n",
       "    </tr>\n",
       "    <tr>\n",
       "      <th>195</th>\n",
       "      <td>195</td>\n",
       "      <td>Jin Baofang</td>\n",
       "      <td>$9.6 B</td>\n",
       "      <td>70</td>\n",
       "      <td>China</td>\n",
       "      <td>Solar panels</td>\n",
       "      <td>Energy</td>\n",
       "    </tr>\n",
       "    <tr>\n",
       "      <th>196</th>\n",
       "      <td>195</td>\n",
       "      <td>Luo Liguo &amp; family</td>\n",
       "      <td>$9.6 B</td>\n",
       "      <td>67</td>\n",
       "      <td>China</td>\n",
       "      <td>Chemicals</td>\n",
       "      <td>Manufacturing</td>\n",
       "    </tr>\n",
       "    <tr>\n",
       "      <th>197</th>\n",
       "      <td>195</td>\n",
       "      <td>Marijke Mars</td>\n",
       "      <td>$9.6 B</td>\n",
       "      <td>58</td>\n",
       "      <td>United States</td>\n",
       "      <td>Candy, pet food</td>\n",
       "      <td>Food &amp; Beverage</td>\n",
       "    </tr>\n",
       "    <tr>\n",
       "      <th>198</th>\n",
       "      <td>195</td>\n",
       "      <td>Pamela Mars</td>\n",
       "      <td>$9.6 B</td>\n",
       "      <td>62</td>\n",
       "      <td>United States</td>\n",
       "      <td>Candy, pet food</td>\n",
       "      <td>Food &amp; Beverage</td>\n",
       "    </tr>\n",
       "    <tr>\n",
       "      <th>199</th>\n",
       "      <td>195</td>\n",
       "      <td>Valerie Mars</td>\n",
       "      <td>$9.6 B</td>\n",
       "      <td>64</td>\n",
       "      <td>United States</td>\n",
       "      <td>Candy, pet food</td>\n",
       "      <td>Food &amp; Beverage</td>\n",
       "    </tr>\n",
       "  </tbody>\n",
       "</table>\n",
       "<p>200 rows × 7 columns</p>\n",
       "</div>"
      ],
      "text/plain": [
       "    Rank                      Name Net Worth Age    Citizenship  \\\n",
       "0      1  Bernard Arnault & family    $211 B  74         France   \n",
       "1      2                 Elon Musk    $180 B  51  United States   \n",
       "2      3                Jeff Bezos    $114 B  59  United States   \n",
       "3      4             Larry Ellison    $107 B  78  United States   \n",
       "4      5            Warren Buffett    $106 B  92  United States   \n",
       "..   ...                       ...       ...  ..            ...   \n",
       "195  195               Jin Baofang    $9.6 B  70          China   \n",
       "196  195        Luo Liguo & family    $9.6 B  67          China   \n",
       "197  195              Marijke Mars    $9.6 B  58  United States   \n",
       "198  195               Pamela Mars    $9.6 B  62  United States   \n",
       "199  195              Valerie Mars    $9.6 B  64  United States   \n",
       "\n",
       "                 Source               Industry  \n",
       "0                  LVMH       Fashion & Retail  \n",
       "1         Tesla, SpaceX             Automotive  \n",
       "2                Amazon             Technology  \n",
       "3                Oracle             Technology  \n",
       "4    Berkshire Hathaway  Finance & Investments  \n",
       "..                  ...                    ...  \n",
       "195        Solar panels                 Energy  \n",
       "196           Chemicals          Manufacturing  \n",
       "197     Candy, pet food        Food & Beverage  \n",
       "198     Candy, pet food        Food & Beverage  \n",
       "199     Candy, pet food        Food & Beverage  \n",
       "\n",
       "[200 rows x 7 columns]"
      ]
     },
     "execution_count": 261,
     "metadata": {},
     "output_type": "execute_result"
    }
   ],
   "source": [
    "Forbes=pd.DataFrame({'Rank':Rank,'Name':Name,'Net Worth':Net_worth,'Age':Age,'Citizenship':Citizenship,'Source':Source,'Industry':Industry})\n",
    "Forbes"
   ]
  },
  {
   "cell_type": "markdown",
   "id": "8be511d2",
   "metadata": {},
   "source": [
    "#### Q8. Write a program to extract at least 500 Comments, Comment upvote and time when comment was posted from any YouTube video."
   ]
  },
  {
   "cell_type": "code",
   "execution_count": 262,
   "id": "4b96d40e",
   "metadata": {},
   "outputs": [],
   "source": [
    "# Activating the chrome browser\n",
    "driver=webdriver.Chrome()"
   ]
  },
  {
   "cell_type": "code",
   "execution_count": 263,
   "id": "7d54892b",
   "metadata": {},
   "outputs": [],
   "source": [
    "# Opening the youtube.com\n",
    "url = \"https://www.youtube.com/watch?v=HagVnWAeGcM\"\n",
    "driver.get(url)"
   ]
  },
  {
   "cell_type": "code",
   "execution_count": 291,
   "id": "cb89457a",
   "metadata": {},
   "outputs": [
    {
     "data": {
      "text/plain": [
       "['',\n",
       " 'I remember watching this show with my family years ago. A classic show and one of the best also.',\n",
       " 'I remember watching these as a kid in the 90s still great to watch to this day',\n",
       " 'Minha infância , me divirto muito com ele ',\n",
       " 'My cheeks hurt from smiling so much. Thank you for making my day brighter with this hilarious gem!',\n",
       " 'O Mr. Bean é demais! Muito bom! Hahahaha.',\n",
       " 'Always so nice to see, a time of laughter that seems so far away. Thank you to Mr Bean ️',\n",
       " \"This man's level of comedy is still unmatched till this day. Respect!\",\n",
       " 'Esse homem é muito engraçado ',\n",
       " 'loved this series as a kid. couldnt get enough of it, im still gettin goosebumps while i hear the intro melody ️',\n",
       " 'This man was my childhood. A true legend \\n\\nHe still makes my dad laugh',\n",
       " 'O Bean é comédia, adorooo ️',\n",
       " 'فيديو راءع جدا ومضحك',\n",
       " 'Brings back awesome childhood memories!',\n",
       " 'I will always love Rowan Atkinson aka ‘Mr Bean’. He made me laugh when I was just a little girl without any problems until now that I face a lot of problems being an adult, he still makes me laugh. Although only the ‘Mr Bean Animated Series’ have new episodes, at least I can still hear his voice over on the cartoon version, in that way, I know he’s alive and doing well. My childhood hero, he has a special place in heaven. ',\n",
       " 'Шикарный выпуск, посмеялся от души!',\n",
       " 'My childhood - still love it️ thx Mr Bean!!',\n",
       " 'Morro de rir com ele kkkkkkkk',\n",
       " \"I can't get tired of watching Mr. Bean! He makes me laugh nonstop! The things he do! \",\n",
       " 'Mr. Bean is the real legend...who makes you laugh...without uttering a word....great refreshment watching his episodes after hectic schedule.',\n",
       " 'Nice ',\n",
       " 'ROWAN ATKINSON IS ALWAYS HILARIOUS. ',\n",
       " 'Kkk esse cara é bem engraçado ',\n",
       " \"it's all about good memories with Mr. Bean. I don't remember any sadness about the times I've watched this show.\",\n",
       " 'Marcou minha infância',\n",
       " 'The best and most unforgettable show of all time ️️',\n",
       " 'Nobody is like Mr Bean such a realistic acting nobody can hate this guy ️️',\n",
       " \"Those were the days..when every night my mother used to play Mr.bean's episode on VCR and me nd my whole family used to watch it....thank you bean for making my childhood special.!\",\n",
       " \"My old time favorite Mr .Beans I can't get enough of him\",\n",
       " 'Mr. Bean e Charlie Chaplin são os clássicos que não perderam sua essência e ainda continuam engraçado mesmo após ter se passado anos, o que me encanta é que o protagonista nem se quer precisa falar um A para menosprezar ninguém nem se quer religião como acontece atualmente',\n",
       " 'Only show which still gives me laughter after watching it multiple times. So Cool',\n",
       " 'ESSE BEAN É  INCRÍVEL BAITA ATOR',\n",
       " 'Muito bom.\\nGanhou mais um inscrito.',\n",
       " 'Верните мне мое детство  \\nОдна только заставка заставляет покрыться мурашками....культовый️',\n",
       " 'Thank you Mr.Bean for making my childhood awesome ',\n",
       " \"Here I am, watching mr bean even if I'm already grown up. Like, can't we appreciate him for making our childhood such a good moments?\",\n",
       " 'Melhor comediante da minha infancia!',\n",
       " 'A generation of classic comedians with unparalleled ability to make people laugh',\n",
       " 'Childhood memories.. So much',\n",
       " \"I'm never tired of watching him\",\n",
       " 'Esse homem é muito engraçado ',\n",
       " 'Each episode take me back at my golden days ',\n",
       " 'Only Mr Bean can Unite this whole world in laughter',\n",
       " \"It doesn't gets old  // Estos chistes nunca pasan de moda \",\n",
       " 'Laughing is the best medicine forever ',\n",
       " 'I love when Mr Bean rededorate his room & the restaurant scene here.',\n",
       " 'Me hace reir mucho ,Mr.Bean1🇲🇽🇲🇽🇲🇽🇲🇽',\n",
       " 'Watching this was the best part of my childhood ️',\n",
       " 'i really love this classic comedy',\n",
       " 'Without speaking a single word... He makes us laugh like so much... Hatsoff to this LEGEND',\n",
       " 'This oyster episode is one of the memorable ones. My fav is the turkey and Christmas episodes.. and the sandwich  and painting his apartment..',\n",
       " 'No matter how many times rowan Atkinson uploads this I will never get bored of it ',\n",
       " 'Muito bom',\n",
       " 'I never get bored of watching mr bean',\n",
       " 'Мистер Бин спасибо за хорошее настроение ',\n",
       " 'I LOVE the 90s!!!!Best decade to be a kid!!',\n",
       " 'MR. Bean mais atrapalha do que nunca (dublado)',\n",
       " 'Gosto muito ️',\n",
       " 'Tan bacano ver Mr Bean ️️',\n",
       " 'His comedy is very creative and funny  The greatest comedian of all time',\n",
       " 'SUPER',\n",
       " \"I watched it for the fourth time but can't stop laughing \",\n",
       " 'So much  fun  and funny lol',\n",
       " 'So big classic... Watching for decades, every week but it is so fresh and fun each time...',\n",
       " \"Lost count how many times i've watches this clip. Still love it\",\n",
       " 'Rowan Atkinson not only perfromed Mr. Bean , he added life in this character.',\n",
       " 'My favorite Mr. Bean episode other than the Christmas one. I still laugh so hard at this one.',\n",
       " 'My childhood days \\nmemories ',\n",
       " 'Ohh those golden days of my childhood ',\n",
       " 'This man represents rolls royce, had a multi-million dollar mclaren f1, and has two doctorate degrees. \\n\\nBut more than that he makes the whole world laugh without saying a word. ',\n",
       " 'When I watch mr bean...I goes back to my childhood when I was a little boy watching it with some candys in my mouth.....I miss those days badly',\n",
       " 'Laughing a lot. Mr. Bean rules!!!',\n",
       " 'We all have to accept we all have a little Mr. Bean in ourselves ',\n",
       " 'Лучший комик, обожаю его выпуски',\n",
       " 'Perfect thing to watch during online class cuz no sound is needed to enjoy this ',\n",
       " 'Muito bom ksksksk',\n",
       " 'Hats Off to the man who made the whole world laugh without sayin a word ',\n",
       " 'Mr bean will always be in our heart known for refreshing mood',\n",
       " 'Legends never gets old',\n",
       " 'This never gets old!!',\n",
       " 'Its 2023 Still loved to watch Mr Bean the legend ',\n",
       " 'Ever since I watched this 30 years ago, every time I check into a hotel I always ring the bell even if the receptionist is there and I swear I compete with other guests like this. hahaha',\n",
       " 'I salute to this man , he was entertaining us for years and he always be in our heart',\n",
       " 'BR assistindo o MR Bean ,tava procurando esse EP a tempos é um clássico.',\n",
       " 'This never gets old',\n",
       " \"18 years later I'm here and still make me laugh \\nCharlie Chaplin . Mr bean . And khaby lame are a mood \",\n",
       " '',\n",
       " 'He is my childhood best friend ',\n",
       " \"It's one of the funniest episodes. Everytime I watch it I burst with laughter.\",\n",
       " 'Muly childhood episode... Mr. Bean is my favourite ',\n",
       " \"20:05. Mr bean's face expression proves he is another level actor\",\n",
       " 'Mr bean never get old in our heart ️',\n",
       " 'Zdravim ste najlepšie seriály aj herectvo a humorista a komédie len škoda nebude pokračovať ďalej ale nevadí ste super a pozdravujem vás mr.bean.',\n",
       " 'the way Bin tried to fight with someone with no reason is the best role',\n",
       " 'Muito nostálgico!',\n",
       " 'Everyday Mr. Bean videos makes my day Awesome \\nHis comedy is BEST IN HISTORY',\n",
       " 'This episode is unforgettable.',\n",
       " \"So laughing,i can't stop my laugh \",\n",
       " '',\n",
       " 'Love to see Bean ....u made my sad moments happy ',\n",
       " 'I love Mr bean I always have to laugh like that ',\n",
       " 'The man that makes you laugh without speaking a word..... Amazing Comedian ....',\n",
       " 'THATS VERY VERY  NICE OF MR BIN I LOVE IT',\n",
       " 'forever fun to watch!',\n",
       " 'Nice',\n",
       " \"I remember watching this as a kid, now I'm back as an adult. Those were the days\",\n",
       " 'eu racho o bico com esse cara',\n",
       " 'This guy right here created millions of memories for everyone without saying a single word.',\n",
       " 'My favourite ',\n",
       " 'I wish Mr bean comes back with more funny seasons.',\n",
       " 'Мистер Бин самый добрый на всей планете человечек ',\n",
       " 'This is the best character ever!!!\\nIt’s amazing how one can say little or no words  and still have such impact',\n",
       " 'Começo rindo do início ao fim ',\n",
       " 'So funny without saying a word it made me laugh my heart out',\n",
       " 'Kangen banget mr bean tayang di Trans TV.',\n",
       " 'this never get old\\nim sad that mr bean is retired but im happy for him that he got to take a break',\n",
       " 'Cadê os brasileiros cultos q assistiram Mr. Bean??🇧🇷🇧🇷🇧🇷',\n",
       " \"I've been watching these throughout my quarantine. I can go outside now, but I can't stop watching now... \",\n",
       " 'Veía esto cuando era chico ',\n",
       " 'Eres el mejooooooor Mr vean\\nSiempre me alegras el día ',\n",
       " 'This made my childhood i will never forget this show',\n",
       " 'Bean is a gem. Love him.',\n",
       " 'A comedian who makes people laugh without talking',\n",
       " \"Love this screensaver where he's like an angel,falls to the ground, and gets up confused and starts running!!!And the music here is a miracle.\",\n",
       " 'Those Mr Bean classics really aged well',\n",
       " \"Youre my childhood comedy Mr Bean you're the best \",\n",
       " 'He is the man \\nWho makes you laugh without a single word\\n ',\n",
       " 'ചിരിച്ച്  ചാത്തു എന്ത് നല്ല രാസമുള്ള കൊമടി Mistr been ً',\n",
       " 'Спасибо за детство️',\n",
       " 'This man still makes me laugh <3',\n",
       " \"I admire that man's patience and calmness\",\n",
       " 'What a great time\\nWhen we were watching and laughing with my family',\n",
       " 'Mr. Bean, won all our heart around the world. He is great, legnd and above all down to earth ',\n",
       " 'Comedy should transcend all language barriers. \\n\\nOne look of the comments is heart warming. People from everywhere!',\n",
       " 'They played Mr. Bean on tv in russia for hours and hours. Thats how we knew holidays were here. Good times',\n",
       " 'I always watch Mr Bean, he is always wonderful.',\n",
       " 'O Mr é o cara curto essa figura',\n",
       " 'Quá hài, vỡ hết cả bụng',\n",
       " 'Mr Bean always puts me at peace.',\n",
       " ' so funny',\n",
       " 'The way he imitates the man was really very funny',\n",
       " 'Childhood memories ',\n",
       " 'me encanta que pena que no salga mucho',\n",
       " 'He just show reality what normal people do alone ',\n",
       " 'Прикольно и смешно, обожаю его',\n",
       " 'Legend never die ',\n",
       " 'always a treat to watch',\n",
       " 'Estoy flipando... casi 110M de reproducciones... incrible mr.bean',\n",
       " 'Thanks for making our childhood awesome',\n",
       " '와..미스터 빈 아는 한국사람 있냐 어릴때 진짜 재밌게 봤는데 되게 지금 다시 보니까 새롭기도 하고 더 재밌네ㅋㅋㅋㅋ진짜 행동만으로 웃기는 사람 흔치 않은데 대단하다ㅋㅋ',\n",
       " 'I love this show . It is awsome n funny',\n",
       " 'It reminded me of my childhood ️️🇵🇰🇵🇰',\n",
       " 'I love how this comedy is famous all around the world.',\n",
       " 'This was my favorite episode! I died laughing at the teddy bear in the cabinet!',\n",
       " 'Великолепный мистер Бин!!!  Радуюсь ему, как лучшему другу. Всегда подарит хорошее настроение! Благодарю!',\n",
       " 'Watched and enjoyed :)',\n",
       " \"You can't hate this guy. My childhood being coloured by this legend\",\n",
       " 'افضل ممثل كوميدي احبه مستر بن',\n",
       " 'I remember watching this with my dad',\n",
       " 'I was watching all episodes of Mr bean in quarantine I could not sleep at night I was addicted \\nBest show in quarantine is the\\nMR BEAN',\n",
       " 'Mr. Bean  always makes me happy',\n",
       " '그래도 이건 여태까지 진짜 너무 웃겨ㅋㅋㅋㅋㅋ ',\n",
       " '当我小的时候 我觉得Mr. Bean 是个挺正常的大孩子 他有我全部的鬼点子 当我长大了 才发觉保持住那颗童心有多难 永远爱你Mr. Bean',\n",
       " 'That was such a beatiful childhood',\n",
       " \"6:10 can't stop laughing \",\n",
       " 'Этот парень создал миллионы воспоминаний для всех, не сказав ни слова.',\n",
       " 'I Really Miss Mr Bean After All Years Passed By',\n",
       " 'Bean is way funnier than Chaplin ever tried to be',\n",
       " 'Not watching it for awhile and now I enjoy watching it very much',\n",
       " '알고리즘 대박... 어렸을적에 엄청 재미있게 봤던건데ㅠㅠㅠㅠㅠㅠㅠㅠㅠㅠ 추억이다',\n",
       " 'always can make me laugh~^^',\n",
       " 'What a legend he is. You can watch silent comedies as well instead of silent movies ',\n",
       " 'He said nothing but makes whole world laugh\\nHe just maked my childhood happy\\nNow I m married but still watching his episodes ',\n",
       " 'Como pode ser um humano ser tão parecido com o meu marido',\n",
       " 'The intro is so totally childhood memories',\n",
       " \"My childhood hasn't fade yet\",\n",
       " 'Old memories ',\n",
       " 'I remember watching Jasia Beans once, only in a fairy tale version, childhood haha ️',\n",
       " 'Just an  awesome comedian',\n",
       " 'very nice',\n",
       " 'Thank you MR. Bean for comforting me when I was little',\n",
       " 'Él mejor',\n",
       " 'Mr. Bean forever! ',\n",
       " 'On n\\'imagine pas le génie qu\\'il faut, pour représenter, \"affectueusement et intelligemment\" les classes moyennes. Roy Atkins y parvient, et nous lui souhaitons tous \"Le million, le million\"...',\n",
       " 'Мистер Бин - легенда, которая сделала мою жизнь фантастической',\n",
       " 'So fun',\n",
       " \"🇨🇵  J'adore Mr Bean, il est très drôle. faire rire !\",\n",
       " 'So funny ',\n",
       " 'The legend who made my childhood awesome',\n",
       " 'We love you br bean for making our childhood awesome',\n",
       " '今でも、色褪せない笑いが良いなぁ',\n",
       " '23:29  that face!',\n",
       " 'Thanks for making my childhood great and lovely, thanks for making this show funny, God bless you Mr.bean',\n",
       " \"Really It's very funny\",\n",
       " 'This was my childhood ^^',\n",
       " 'Excelentisimo. me encanta',\n",
       " 'Brings back awesome childhood memories!',\n",
       " 'I will always love Rowan Atkinson aka ‘Mr Bean’. He made me laugh when I was just a little girl without any problems until now that I face a lot of problems being an adult, he still makes me laugh. Although only the ‘Mr Bean Animated Series’ have new episodes, at least I can still hear his voice over on the cartoon version, in that way, I know he’s alive and doing well. My childhood hero, he has a special place in heaven. ',\n",
       " 'Esse homem é muito engraçado ',\n",
       " 'I LOVE the 90s!!!!Best decade to be a kid!!',\n",
       " 'Brings back awesome childhood memories!',\n",
       " 'Nostalgic ️',\n",
       " \"Really It's very funny\",\n",
       " 'An electric engineer who made 3 generations laugh without saying a word. ',\n",
       " 'Thierry episode iş unforgettable',\n",
       " ' wow Bean . . Still perfect..\\nI like it',\n",
       " 'I dont how people can dislike this ..',\n",
       " 'Nostalgic ️',\n",
       " 'OMG  miss my childhood. I was really like this movie.  My father too ',\n",
       " 'this is the most amazing tv show i ever seen in my life and its very funny some will say mr bean is weirdo in real life but he has phd doctorate in real life and he is an amazing actor and made the world laugh without any sound and with teddy also...always love Mr bean ( hear & smiley emoji)',\n",
       " 'Lo maximo',\n",
       " 'This is the person who give color to my childhood life.....thank you mr.bean A.k.A Rowan Atkinson',\n",
       " 'eu amo a serie <3',\n",
       " 'My childhood:- wow... Mr bean is so funny.....  I love this show.... \\n\\nNow me:-  He was so alone.... I can feel his pain...... Enjoyed his own company.... Now I feel so sad about this show....',\n",
       " 'Childhoods  memories ',\n",
       " 'My day wont complete without Bean',\n",
       " 'Esse Cara E Engraçado Demais Gosto Muito Dos Filmes Dele.',\n",
       " 'when\\n watched it i smile all the time.',\n",
       " '20 years ago I met this man as a kid. Sir, Thank You',\n",
       " 'Legend Rowan Atkinson sir....  love from 🇮🇳',\n",
       " 'Every INDIAN CHILDREN OLD MEMORIES MR.BEAN WILL BE THEIR IN THEIR HEART \\n️ \\nLOVE FROM INDIA',\n",
       " 'He is one of legend  from childhood he make us happy thnk lot',\n",
       " 'O vídeo tá maravilhoso',\n",
       " 'Childhood memories ',\n",
       " 'The legend is real!!even you watch this like a thousand times you will still laugh!!',\n",
       " 'I love it',\n",
       " 'My favourite episode',\n",
       " 'Despues de muchos años .llego a este mundo un señor para reeplazar al querido Chaplin',\n",
       " 'Hahaha nice one Bean ',\n",
       " 'Welldone mr bean ..u make me laugh alot...',\n",
       " 'Bring back memories  I was grade 4 student',\n",
       " 'Mr BEAN is the legend that made my life fantastic',\n",
       " 'هههههه جميل جدا وخاصه اللقطه الاخيرة ٨',\n",
       " 'lot of memories come back',\n",
       " 'В детстве с братом смотрели. И обожали мистера Бина',\n",
       " 'Mr bean has a good sense of humour',\n",
       " 'I like this man,he always make laugh everyone',\n",
       " 'Best scene at 18:22 ',\n",
       " 'Só risadas assistindo esse cara',\n",
       " 'I love it,best comedy show ever',\n",
       " 'nice',\n",
       " 'Jeez, Mr.bean knows how to have fun huh xD',\n",
       " 'Комик и актёр просто Супер! ',\n",
       " 'I wish i could be like him\\nA happy soul.',\n",
       " 'Me encanta  Mr bean',\n",
       " 'Always so much fun.',\n",
       " 'Love from India🇮🇳',\n",
       " 'I remember I watched this with my dad and my grandpa . I miss old time',\n",
       " 'Miss this man BTW he is the one that I want to come back in my fast if I can comeback in my childhood fast️',\n",
       " 'Ностальгия ',\n",
       " 'amazing good job mr bean ~~',\n",
       " \"Mr Bean a person with such a good sense of humor.\\nHe never gets old but only grows it's shine with the passage of time. \\nThank you so much Mr Bean\",\n",
       " 'È un grande immenso nessun altro più comico di mr.bean!',\n",
       " 'Good old days',\n",
       " \"Monsieur BEAN c'est la légende qui a rendu ma vie fantastique\",\n",
       " 'Old but gold, even im old i always watch mr.bean ',\n",
       " \"My Dad's best episode of Mr. Bean\",\n",
       " 'This guy is a legend',\n",
       " 'この回好きだなぁ',\n",
       " \"C'est excellent \",\n",
       " \"It's nice we can watch those hillarous great Bean movies are on you tube now!\\nAnd even if you are speaking a different language, it doesn't matter because they are nearly not talking, just let the interactions talk xD\",\n",
       " 'جميل احلا ممثل كوميدي ',\n",
       " 'So funny',\n",
       " 'Начало всегда улыбает',\n",
       " 'My The Best Movie  Mr.Bean',\n",
       " \"It's 30 June 2019 and I'm still watching the Mr Bean\",\n",
       " 'he is making my childhood better',\n",
       " 'I just want this legend to live forever \\nNothing else \\nMay God bless him ',\n",
       " 'Legend never die',\n",
       " 'എന്തേലും tension ഇൽ mind desp ആയിരിക്കുമ്പോൾ വന്ന് കാണുന്ന ചാനൽ.....\\n\\nഅന്നും ഇന്നും the man.... Mr Bean',\n",
       " 'Ngakak banget Mr Bean nya wkwkwkwk ',\n",
       " 'Its so funny the way he talks',\n",
       " \"This is what got me through childhood, the worst time in one's life... And this is going to get me through the rest of it.\",\n",
       " 'I love Mr Bean.. its a genius!!! From Italy!',\n",
       " 'Смотрю этот фильм то сразу вспоминаю свой детства , БИН лучший',\n",
       " 'মিঃ বিন মানেই মজা আর আনন্দ।',\n",
       " 'Siempre me vi sus capítulos',\n",
       " 'The best comedy show I ever saw',\n",
       " 'I still come back to this video once a while!!!',\n",
       " 'Bean Is the best ️',\n",
       " 'GOOD ',\n",
       " 'Increíble, como siempre.',\n",
       " '2022 im still watching this legendary man',\n",
       " 'the days when comedy was funny',\n",
       " 'i remember and miss those days when it used to come on TV and i used to wait patiently till the show time.',\n",
       " 'Timeless Classic',\n",
       " 'This episode is funny ',\n",
       " \"I usedthink to love this as a young kid, and now Youtube recommended this one, I'm gonna love it\",\n",
       " 'Childhood memories',\n",
       " 'He creates smiles and happiness for viewers. I like you. You can make many people laugh.  Wish to continue creating',\n",
       " 'duh how i miss him... he made my childhood sooooooooo funnnnnnnnnn....',\n",
       " 'and to think Rowan Atkinson couldnt get a backer for this skit!\\ningenuity of him and believing in himself to see it thru should b welcomed for all times sake!',\n",
       " 'MR. Bean mais atrapalhado do que nunca (dublado)',\n",
       " \"yes good way to spend my chirstmas is to watch good ol'mr bean\",\n",
       " 'Great video',\n",
       " \"I never laughed at Mr. Bean in my childhood. Now I laugh bc I'm a weirdo whose life is unrecorded extension of Mr.Bean\",\n",
       " 'Walaupun udah nonton berkali kali tapi tetap ngakak ',\n",
       " 'I LOVE  HIM  I ALWAYS  LAUGH LIKE THAT',\n",
       " 'I still have the Mr Bean CDs, both the cartoons are the real-life version haha',\n",
       " 'Mr Bean как всегда бесподобен',\n",
       " 'Bikin ngakak aja....terkadang juga bikin jengkel ',\n",
       " 'His actions speak sharper n louder  than the words.. ️',\n",
       " \"Dear parents, just because your child is smiling at their phone, doesn't mean they have boyfriend or girlfriend, they are just watching this masterpiece\",\n",
       " 'Обожаю мистер Бин)',\n",
       " 'MY CHILDHOOD',\n",
       " 'Banyak keanehan dari mr been benar2 banyak terhibur olehnya',\n",
       " 'The background makes us laugh ',\n",
       " 'The legend of comedy',\n",
       " 'Never really grew up with bean but it’s never too late',\n",
       " 'I still come back to this video once a while!!!',\n",
       " 'It’s so hilarious!  HAHAHA !',\n",
       " 'От души душевно в душу супер круто и классно очень.',\n",
       " 'ممثل اسطوري روعه حقيقي جميل جدان',\n",
       " 'I dont know why YT recommend me this but i am glad it did. ',\n",
       " 'Legend Rowan Atkinson sirI love Mr bean I always have to laugh like that',\n",
       " 'Legend never die',\n",
       " '2022 people still enjoying this masterpiece ',\n",
       " 'he is my idol. Whenever I have free time, I watch her. I always laugh out loud at his great acting. I come from Vietnam',\n",
       " '',\n",
       " '1:04 always gets me',\n",
       " \"It is better to be Mr. Bean in today's world. \\nCreating  his own world  inside him  ignorant of world outside.\",\n",
       " '18:54 I cannot control my laugh',\n",
       " 'Hay dử thần linh ơi️️',\n",
       " 'I still come back to this video once a while!!!',\n",
       " 'Wow lucu ',\n",
       " \"He's solving exam paper so funny\",\n",
       " 'Love This Video So Fun!',\n",
       " 'I still come back to this video once a while!!!',\n",
       " '',\n",
       " 'ahhh this makes my whole day, finally I got something best to watch on you tube today ..\\nThank you . :)',\n",
       " 'هههههه متتتتت ضحك اخ بطني يا بويه هههه ',\n",
       " 'The Legendary Comic Drama and Person\\n\"Mr.Bean\\'',\n",
       " 'ahhh this makes my whole day, finally I got something best to watch on you tube today ..\\nThank you . :)',\n",
       " 'Will Never Forget This Man ',\n",
       " '️',\n",
       " 'Столько времени прошло,а все равно смешно',\n",
       " 'Ha Ha Ha ',\n",
       " 'MR BEAN EVERY TIME MY FAVORATE....',\n",
       " \"Vraiment marrant hhhh , un chef d'oeuvre .\",\n",
       " 'What a video! What an actor!',\n",
       " 'fantastic',\n",
       " \"i remember this used to come  on late at night on air tv when I was 12 yrs old living at my grandma's house back in 2001. we had no cable hehe\",\n",
       " '8:20 ',\n",
       " 'Enjoy the own company, Hope we all could do this. The legend ️',\n",
       " 'Man what a legend he is',\n",
       " 'Mn bean sangat sangat kelakar sampai takhabis ketawa terima kasih mn bean sebab bagi kmi ketawa',\n",
       " 'فيديو جميل ورائع جدا جدا ',\n",
       " \"40k ppl disliked it? unbelievable :( guess some don't realize talent is\",\n",
       " 'Bean ',\n",
       " 'my childhood passed with this',\n",
       " 'If she can do that - she can do anything-  she must have invented the word “flexible “  wow!  Such mastery -',\n",
       " 'This video has a special place in my heart. I visit it very often',\n",
       " \"I'm a fan of Mr Bean a hug Rowan atkinson a big hug from a fan from Brazil\",\n",
       " 'Мистер Бин классный, у нас в России показывали, детство вспоминается :3',\n",
       " 'আমার নাটক দেখে একদিন এভাবে সবাই আনন্দের হাসি হাসবে।',\n",
       " 'Legend ️',\n",
       " 'Best ever epic comedy...',\n",
       " 'Me siento muy feliz gracias ',\n",
       " 'Funniest man from the UK',\n",
       " 'Walau udah berapa kali nonton tapi tetap terhibur sampai sekarang',\n",
       " '',\n",
       " 'Nostalgia ️',\n",
       " 'Le coup du pourboire me tue de  !',\n",
       " 'we never forget you Bean',\n",
       " 'so much funn',\n",
       " 'Um clássico',\n",
       " 'Just️ legend',\n",
       " 'There is No one like him. He is no.1',\n",
       " 'I love these shows',\n",
       " \"I was thinking about this episode 2 days ago and now it's on my youtube suggestions. I'm scared. Classic episode!!!!\",\n",
       " 'soo funny',\n",
       " 'It just make ur day full of happiness too good',\n",
       " 'cười đau hết bụng :)))',\n",
       " 'mr . bean is my favourite    hero',\n",
       " 'Mr bean taught us how to enjoy alone',\n",
       " 'legend never die',\n",
       " \"15:36 that's me\\nWho keeps spoon in pocket\\n17:34 salute this man\\nIt's an art \",\n",
       " 'Eu amei esse vídeo',\n",
       " 'The ending music is beautiful, \\ndo you agree?',\n",
       " 'Mr Bean is the best funny man',\n",
       " 'Malheureusement paix a son âme la légende',\n",
       " \"I'm specialized on music, but this I love!\",\n",
       " '',\n",
       " \"Bean really inspires,,actions are more of humour,comfortably even one doesn't understand English\",\n",
       " 'Y this is funny and not stupid...hahaha i love it',\n",
       " 'I am so glad I grew up watching this and not whatever the kids watch nowadays.',\n",
       " 'Thankyou mr bean. From i was a child untill now I never forget you. Always repeat all ur videos. You made me happy',\n",
       " 'Ngakak gw nonton dari bocil Ampe sekarang gak bosen bosen',\n",
       " 'مستر بين. \\nMrBean',\n",
       " '볼펜에서 개터졌네ㅋㅋㅋㅋ 진짜 명작은 시대를 초월하는구나',\n",
       " 'Обожаюклассный фильм.',\n",
       " 'My Childhood right here.',\n",
       " 'he is the real hero who is making me laugh till 2021',\n",
       " 'I still come back to this video once a while!!!',\n",
       " 'Nice  video',\n",
       " 'МИСТЕР БИН СМЕШНОЙ, СМОТРЕЛ ВСЕ ЕГО ФИЛЬМЫ, ЛЕГЕНДА️️️️',\n",
       " 'Να έχεις πάντα χαρά υγεία κι εγώ το έχω δει το  να το μάθημα  κακα κακα Χρόνια πολλά Αντρη και ότι καλύτερο στη Θεσσαλονίκη για την γιορτή σου και να το δω',\n",
       " 'Haha, one of my favorites.',\n",
       " 'Как всегда мой любимый мистер \"\"БИН\", ТЫ МОЙ АНТИДЕРЕССАНТ Я ЛЮБЛЮ ТЕБЯ......',\n",
       " 'الله ع ايامك ي مستر بن .',\n",
       " 'قوه مستر بين',\n",
       " 'how can someone dislike this legend video ?',\n",
       " 'It is 2023... Not old Childhood alive',\n",
       " 'I doubt there Is barely anyone who watched an episode of Mr Bean just once. Especially those are born before 90’s.',\n",
       " 'these Mr Bean skits were so grand!',\n",
       " 'Man, this takes me back.',\n",
       " 'Гений своего дела)))',\n",
       " 'So nostalgic!!',\n",
       " '',\n",
       " '4,8k people were laughing so hard they accidentally clicked dislike ',\n",
       " 'This is my favorite episode of the live action mr bean television show.',\n",
       " 'Man, this takes me back.',\n",
       " '',\n",
       " 'Thanks for this amazing video of Mr bean.',\n",
       " '🇮🇳',\n",
       " 'i’m glad that i grew up watching this',\n",
       " 'I still come back to this video once a while!!!',\n",
       " 'The starting was epic ',\n",
       " 'Sewaktu kecil aku suka nonton Mr Bean',\n",
       " 'Those days when having tv with remote was a luxury.',\n",
       " 'Лайк. В топ ',\n",
       " 'Legend Never Die',\n",
       " 'Шедевр на все времена!',\n",
       " 'Mr.Bean is not just some man, he is a legend.',\n",
       " '永恒的经典，憨豆先生！',\n",
       " 'This is best and funny show ',\n",
       " 'this is very funny',\n",
       " '10:00 Me at the gym ',\n",
       " 'Thanks YouTube for randomly suggesting this, the best suggestion in a long time and a perfect distraction from work',\n",
       " 'He made me happy always Thanks',\n",
       " 'ตลกดี',\n",
       " 'Просто шикарно',\n",
       " 'Classic mr bean',\n",
       " 'Who else noticed that bean left the pen in the reception only',\n",
       " 'Best show ever',\n",
       " 'The obsessive-compulsive disorder, am I right? I wouldn\\'t want to live near that \"Mr. Bean\" :)) Although I\\'ve love these series in my childhood a lot.\\nP.S. I hope you\\'re doing well, Mr. Atkinson!',\n",
       " 'mr bean is so funny and silly!',\n",
       " \"A simple comedy but IT cause's full of happiness,\",\n",
       " 'Super comedy',\n",
       " 'I never miss amy episode',\n",
       " 'Saludos cordiales desde medellin colombia🇨🇴',\n",
       " 'THIS IS MY FAVOURITE EPISODE',\n",
       " 'Chudacik valentinko',\n",
       " 'He made me happy always Thanks',\n",
       " \"90s kid's TV show entertainer.......we lived such a good world\",\n",
       " 'Did anyone else notice that bean left his own pen on the reception table??',\n",
       " 'Tnq fpr making my childhood more happier️️',\n",
       " 'Haven’t watched this for a long time. ',\n",
       " 'Có lần cười đau cả bụng',\n",
       " 'This brings nostalgia',\n",
       " 'Tradução em português',\n",
       " 'Taught us to live life...when alone',\n",
       " \"Can't believe it, I just watched an entire episode.\",\n",
       " 'Legend ',\n",
       " 'Good',\n",
       " 'The seagull sound effect makes it sound like a beachfront luxe hotel, damn wish we can travel again soon',\n",
       " 'Mr bean funny episode',\n",
       " \"Ahahahaha I've always thought that at the beginning of the credits that light shining down and him hitting the pavement, is how he was born. The angels in heaven couldn't stand him anymore so they just sent him down. XD\",\n",
       " 'చిన్నపుడు ప్రతి రోజు స్కూల్ నుంచి వచ్చాక చూసేవాడిని ️. మళ్ళీ ఎప్పుడు చూస్తుంటే చాలా నవ్వువచ్చింది ',\n",
       " 'Türkçe altyazı eklediğiniz için çok teşekür ederim.',\n",
       " 'Cool  Bean',\n",
       " \"I remember watching his shows back in the 70's - or was it the 80's, hmm - stoned AF and laughing like crazy. Sigh-some things never change, lol. A bit heavy handed on the ads.\",\n",
       " '',\n",
       " '\"I LOVE WALKING IN THE RAIN BECAUSE NO ONE CAN SEE ME CRYING\". \\nsaid by Mr bean ,',\n",
       " 'so nostalgic',\n",
       " \"It's so nostalgic\",\n",
       " 'Go Mr Bean',\n",
       " 'Uşaqlıqı mr.bean la  keçen senede selamlar ',\n",
       " '',\n",
       " 'Mr Bean is best comedian.\\nWho still watching\\n in 2019?',\n",
       " 'Kk bons tempos',\n",
       " \"so much funny . I can't even breath\",\n",
       " '21:35 If you go frame-by-frame you can see that they blurred a little part of that shot.',\n",
       " 'I just love it',\n",
       " 'ബീൻ സേട്ടായി പൊളി',\n",
       " '21:35 ',\n",
       " 'Superb performance',\n",
       " 'Great video. Thanks for posting this. Have a nice day.',\n",
       " '',\n",
       " 'Such a comedian person',\n",
       " 'I always wondered how does Mr bean pay for everything he obviously has no job so umm he must get social security ',\n",
       " '2:59 who noticed he forgot his pen',\n",
       " 'Keep it up️',\n",
       " 'This is my favorite episode',\n",
       " '14:00 how I feel when I’m stuck behind someone going 30 on a 50 road.',\n",
       " 'the man who taught us to enjoy the self company!!!',\n",
       " 'ലൗ യൂ ബീൻ ️',\n",
       " 'I am big fan of lord mr. Bean',\n",
       " 'Best thing I watched all day',\n",
       " 'как всегда потрясающе)',\n",
       " '',\n",
       " 'Man with zero haters',\n",
       " 'My favourite',\n",
       " 'يووووهه مستر بين .',\n",
       " \"This legend's each vdeo are special for me\",\n",
       " 'Missing my childhood ',\n",
       " 'good Mr Bean',\n",
       " 'Он мне понравился как только его увидел.',\n",
       " 'I stil come back to this video  once a while!!!',\n",
       " \"Pls let's make it 100M, people who had watched already watch again to make a thanks giving for that man!\",\n",
       " 'The opening is legendary ',\n",
       " 'Hebat video ini viral\\nTiap liat YouTube selalu tampil terus di beranda, trending trending trending trending trending trending trending trending trending trending trending trending trending trending',\n",
       " 'Nice Bean',\n",
       " \"You don't know how I used to love watching \\nI still do\",\n",
       " 'He gave pill of cough instead of tip ',\n",
       " 'This Man always make me Happy,tks RA',\n",
       " 'Happy Birthday sir️️',\n",
       " 'The only one real legend in the universe ',\n",
       " 'classic',\n",
       " 'Uno degli episodi più belli!!!',\n",
       " 'legend ',\n",
       " '3 june 2019 but still watching mr bean if u so like plzz',\n",
       " 'I\\n love every video of Mr Bean is so amazing when you watch him',\n",
       " 'Bu adam doğuştan komik',\n",
       " '',\n",
       " 'for one who is too tired, love has broken his heart, and he has suffered in this life, and still suffers in silence I wish him true love and a long life and a very good health and great happiness',\n",
       " 'Wender  0:14',\n",
       " '19 Oct 2019 & I’m still here',\n",
       " 'Amazing  love from india ️️',\n",
       " 'Terima kasih mr.bean kamu telah menghibur waktu aku masih kecil',\n",
       " 'Mr bean is my favourite',\n",
       " 'Mr bean enjoys his own company always',\n",
       " 'Amazing ',\n",
       " 'شكرا يامستر بن..متابعك من #اليمن🇾🇪🇾🇪',\n",
       " 'Mr Bean \\U0001fad8 is a comedian who makes people ️️ laugh  everyday. What a comedian he is. It’s so funny  that Mr Bean \\U0001fad8 copies that the like  a parrot  by watching him eating  food . Also with the lift . Mr Bean \\U0001fad8 is wearing the lady’s frock. He uses the lady’s voice by saying  “426 please ',\n",
       " 'apart from being run over by a tank, I also like this episode',\n",
       " '',\n",
       " 'Its amazing just amazing',\n",
       " 'おもしろいじゃん',\n",
       " '18:20 meme part ',\n",
       " 'Очень смешной сериал',\n",
       " 'Cok guzel be️',\n",
       " '感谢憨豆先生，Thanks！',\n",
       " 'One amazing person ',\n",
       " 'Supper',\n",
       " 'my favorite Mr bean',\n",
       " 'Бин - красава',\n",
       " 'He make my childhood awesome',\n",
       " 'Supper',\n",
       " 'Legends are Watching any time',\n",
       " '']"
      ]
     },
     "execution_count": 291,
     "metadata": {},
     "output_type": "execute_result"
    }
   ],
   "source": [
    "Commentz =[]\n",
    "cmt=driver.find_elements(By.XPATH, \"//div[@class='style-scope ytd-expander']\")\n",
    "for i in cmt:\n",
    "    Commentz.append(i.text)\n",
    "Commentz"
   ]
  },
  {
   "cell_type": "code",
   "execution_count": 292,
   "id": "a4843af6",
   "metadata": {},
   "outputs": [
    {
     "data": {
      "text/plain": [
       "541"
      ]
     },
     "execution_count": 292,
     "metadata": {},
     "output_type": "execute_result"
    }
   ],
   "source": [
    "len(Commentz)"
   ]
  },
  {
   "cell_type": "code",
   "execution_count": 288,
   "id": "7c667bbd",
   "metadata": {},
   "outputs": [
    {
     "data": {
      "text/plain": [
       "['2 years ago',\n",
       " '2 days ago',\n",
       " '2 years ago',\n",
       " '1 month ago',\n",
       " '2 years ago',\n",
       " '1 month ago',\n",
       " '2 years ago',\n",
       " '2 years ago',\n",
       " '3 years ago',\n",
       " '2 years ago',\n",
       " '3 years ago',\n",
       " '2 years ago',\n",
       " '4 years ago',\n",
       " '3 years ago',\n",
       " '2 years ago',\n",
       " '3 years ago',\n",
       " '2 years ago',\n",
       " '4 years ago',\n",
       " '2 years ago',\n",
       " '12 days ago',\n",
       " '2 years ago',\n",
       " '2 years ago',\n",
       " '4 years ago',\n",
       " '3 years ago',\n",
       " '2 years ago',\n",
       " '2 years ago',\n",
       " '3 years ago',\n",
       " '4 years ago',\n",
       " '3 years ago',\n",
       " '3 years ago',\n",
       " '2 years ago',\n",
       " '2 years ago',\n",
       " '2 years ago',\n",
       " '5 years ago (edited)',\n",
       " '2 years ago',\n",
       " '2 years ago',\n",
       " '1 year ago',\n",
       " '1 year ago (edited)',\n",
       " '4 years ago',\n",
       " '2 years ago',\n",
       " '2 years ago',\n",
       " '8 months ago',\n",
       " '3 years ago (edited)',\n",
       " '1 year ago',\n",
       " '2 years ago (edited)',\n",
       " '2 years ago',\n",
       " '3 years ago',\n",
       " '2 years ago',\n",
       " '2 years ago',\n",
       " '2 years ago',\n",
       " '4 years ago',\n",
       " '2 years ago',\n",
       " '3 years ago',\n",
       " '2 years ago',\n",
       " '3 years ago',\n",
       " '2 years ago',\n",
       " '3 years ago',\n",
       " '2 years ago',\n",
       " '2 years ago',\n",
       " '10 days ago',\n",
       " '2 years ago',\n",
       " '1 year ago',\n",
       " '1 year ago (edited)',\n",
       " '3 years ago',\n",
       " '2 years ago',\n",
       " '2 years ago',\n",
       " '2 years ago',\n",
       " '2 years ago',\n",
       " '2 years ago',\n",
       " '3 years ago',\n",
       " '3 years ago',\n",
       " '3 years ago (edited)',\n",
       " '2 years ago',\n",
       " '3 years ago',\n",
       " '2 years ago',\n",
       " '3 years ago (edited)',\n",
       " '2 years ago',\n",
       " '2 years ago',\n",
       " '3 years ago',\n",
       " '9 months ago',\n",
       " '3 years ago',\n",
       " '2 years ago',\n",
       " '3 years ago',\n",
       " '2 years ago',\n",
       " '2 years ago',\n",
       " '10 months ago',\n",
       " '3 years ago',\n",
       " '2 years ago',\n",
       " '2 years ago',\n",
       " '2 years ago',\n",
       " '2 years ago (edited)',\n",
       " '2 years ago',\n",
       " '2 years ago',\n",
       " '2 years ago',\n",
       " '2 years ago (edited)',\n",
       " '2 years ago',\n",
       " '2 years ago',\n",
       " '1 year ago',\n",
       " '5 years ago',\n",
       " '2 years ago',\n",
       " '2 years ago',\n",
       " '2 months ago',\n",
       " '2 years ago',\n",
       " '2 years ago',\n",
       " '3 years ago',\n",
       " '3 years ago',\n",
       " '2 years ago',\n",
       " '6 months ago',\n",
       " '3 years ago',\n",
       " '2 years ago',\n",
       " '4 years ago',\n",
       " '3 years ago',\n",
       " '2 years ago',\n",
       " '10 months ago',\n",
       " '2 years ago',\n",
       " '2 years ago',\n",
       " '3 years ago',\n",
       " '3 years ago',\n",
       " '1 year ago',\n",
       " '3 years ago',\n",
       " '2 years ago',\n",
       " '5 years ago',\n",
       " '3 years ago',\n",
       " '3 years ago',\n",
       " '1 year ago (edited)',\n",
       " '3 years ago',\n",
       " '1 year ago',\n",
       " '2 years ago',\n",
       " '2 years ago',\n",
       " '2 years ago',\n",
       " '2 years ago',\n",
       " '2 years ago',\n",
       " '1 year ago',\n",
       " '3 years ago',\n",
       " '2 years ago',\n",
       " '2 years ago',\n",
       " '1 year ago',\n",
       " '3 years ago',\n",
       " '9 months ago',\n",
       " '5 years ago',\n",
       " '2 years ago',\n",
       " '3 years ago',\n",
       " '2 years ago',\n",
       " '3 years ago',\n",
       " '2 years ago',\n",
       " '2 years ago',\n",
       " '2 years ago',\n",
       " '3 years ago',\n",
       " '2 years ago (edited)',\n",
       " '2 years ago',\n",
       " '2 years ago',\n",
       " '5 years ago',\n",
       " '2 years ago',\n",
       " '2 years ago',\n",
       " '1 year ago',\n",
       " '2 years ago',\n",
       " '2 years ago',\n",
       " '5 years ago',\n",
       " '3 years ago',\n",
       " '2 years ago',\n",
       " '2 years ago',\n",
       " '3 years ago',\n",
       " '2 years ago',\n",
       " '2 years ago',\n",
       " '2 years ago',\n",
       " '2 years ago',\n",
       " '2 years ago',\n",
       " '3 years ago',\n",
       " '2 years ago',\n",
       " '4 years ago',\n",
       " '2 years ago',\n",
       " '2 years ago',\n",
       " '2 years ago',\n",
       " '3 years ago',\n",
       " '2 years ago',\n",
       " '3 years ago',\n",
       " '3 years ago',\n",
       " '3 years ago',\n",
       " '1 year ago',\n",
       " '2 years ago',\n",
       " '1 year ago',\n",
       " '4 years ago',\n",
       " '2 years ago',\n",
       " '2 years ago',\n",
       " '2 months ago',\n",
       " '2 years ago (edited)',\n",
       " '2 years ago',\n",
       " '5 years ago',\n",
       " '3 years ago',\n",
       " '3 years ago',\n",
       " '7 months ago',\n",
       " '3 years ago',\n",
       " '1 year ago',\n",
       " '5 years ago',\n",
       " '2 years ago',\n",
       " '3 years ago',\n",
       " '3 years ago',\n",
       " '2 years ago',\n",
       " '4 years ago',\n",
       " '3 years ago',\n",
       " '2 years ago',\n",
       " '1 year ago',\n",
       " '3 years ago',\n",
       " '2 years ago',\n",
       " '4 years ago (edited)',\n",
       " '3 years ago',\n",
       " '3 years ago',\n",
       " '2 years ago',\n",
       " '3 years ago',\n",
       " '2 years ago',\n",
       " '4 years ago',\n",
       " '2 years ago',\n",
       " '3 years ago',\n",
       " '2 years ago',\n",
       " '3 years ago',\n",
       " '2 years ago',\n",
       " '4 years ago',\n",
       " '3 years ago',\n",
       " '2 years ago',\n",
       " '2 years ago',\n",
       " '3 years ago',\n",
       " '1 year ago',\n",
       " '2 years ago',\n",
       " '3 years ago (edited)',\n",
       " '3 years ago',\n",
       " '1 month ago',\n",
       " '3 years ago',\n",
       " '2 years ago',\n",
       " '5 years ago',\n",
       " '2 years ago',\n",
       " '2 years ago',\n",
       " '2 years ago',\n",
       " '2 years ago',\n",
       " '2 years ago',\n",
       " '4 years ago',\n",
       " '2 years ago',\n",
       " '2 years ago',\n",
       " '1 year ago',\n",
       " '3 years ago',\n",
       " '2 years ago',\n",
       " '4 years ago',\n",
       " '3 years ago',\n",
       " '2 years ago',\n",
       " '2 years ago',\n",
       " '3 years ago',\n",
       " '2 years ago',\n",
       " '5 years ago',\n",
       " '2 years ago',\n",
       " '3 years ago',\n",
       " '1 year ago',\n",
       " '2 years ago',\n",
       " '2 years ago',\n",
       " '3 years ago',\n",
       " '2 years ago',\n",
       " '3 years ago',\n",
       " '2 years ago',\n",
       " '2 years ago',\n",
       " '1 year ago',\n",
       " '5 years ago',\n",
       " '3 years ago',\n",
       " '2 years ago',\n",
       " '2 years ago',\n",
       " '3 years ago',\n",
       " '2 years ago',\n",
       " '4 years ago',\n",
       " '2 years ago',\n",
       " '3 years ago',\n",
       " '2 years ago',\n",
       " '2 years ago',\n",
       " '1 year ago',\n",
       " '5 years ago',\n",
       " '2 years ago',\n",
       " '2 years ago',\n",
       " '1 year ago',\n",
       " '2 years ago',\n",
       " '2 years ago',\n",
       " '3 years ago',\n",
       " '2 years ago',\n",
       " '3 years ago',\n",
       " '7 months ago (edited)',\n",
       " '2 years ago',\n",
       " '1 year ago',\n",
       " '5 years ago',\n",
       " '3 years ago',\n",
       " '3 years ago',\n",
       " '2 years ago',\n",
       " '2 years ago',\n",
       " '2 years ago',\n",
       " '4 years ago',\n",
       " '3 years ago',\n",
       " '3 years ago',\n",
       " '2 years ago',\n",
       " '3 years ago (edited)',\n",
       " '2 years ago',\n",
       " '3 years ago (edited)',\n",
       " '2 years ago',\n",
       " '2 years ago',\n",
       " '2 years ago (edited)',\n",
       " '2 years ago',\n",
       " '2 years ago',\n",
       " '2 years ago',\n",
       " '2 years ago',\n",
       " '2 years ago',\n",
       " '1 year ago',\n",
       " '2 years ago',\n",
       " '1 year ago',\n",
       " '3 years ago',\n",
       " '2 years ago',\n",
       " '3 years ago',\n",
       " '2 years ago',\n",
       " '2 years ago',\n",
       " '1 year ago',\n",
       " '3 years ago',\n",
       " '2 years ago',\n",
       " '2 years ago',\n",
       " '1 year ago',\n",
       " '2 years ago',\n",
       " '2 weeks ago',\n",
       " '2 years ago',\n",
       " '3 years ago',\n",
       " '2 years ago',\n",
       " '1 year ago',\n",
       " '3 years ago',\n",
       " '2 years ago',\n",
       " '4 years ago',\n",
       " '2 years ago',\n",
       " '3 years ago',\n",
       " '1 month ago',\n",
       " '3 years ago',\n",
       " '2 years ago',\n",
       " '2 years ago',\n",
       " '3 years ago',\n",
       " '3 years ago (edited)',\n",
       " '2 years ago',\n",
       " '3 years ago',\n",
       " '2 years ago',\n",
       " '4 years ago',\n",
       " '2 years ago',\n",
       " '3 years ago',\n",
       " '1 year ago',\n",
       " '2 years ago',\n",
       " '1 year ago',\n",
       " '2 years ago',\n",
       " '2 years ago',\n",
       " '3 years ago',\n",
       " '1 year ago',\n",
       " '3 years ago',\n",
       " '11 months ago',\n",
       " '2 years ago',\n",
       " '3 years ago',\n",
       " '2 years ago',\n",
       " '2 years ago',\n",
       " '2 years ago',\n",
       " '2 weeks ago',\n",
       " '2 years ago',\n",
       " '2 years ago',\n",
       " '3 years ago',\n",
       " '2 years ago',\n",
       " '2 years ago',\n",
       " '7 months ago',\n",
       " '2 years ago',\n",
       " '2 years ago',\n",
       " '3 years ago',\n",
       " '2 years ago',\n",
       " '2 years ago',\n",
       " '2 years ago',\n",
       " '3 years ago',\n",
       " '3 years ago',\n",
       " '3 years ago',\n",
       " '2 years ago',\n",
       " '2 years ago',\n",
       " '2 years ago',\n",
       " '4 years ago',\n",
       " '2 years ago',\n",
       " '3 years ago',\n",
       " '2 years ago (edited)',\n",
       " '2 years ago',\n",
       " '1 year ago',\n",
       " '5 years ago',\n",
       " '2 years ago',\n",
       " '2 years ago',\n",
       " '2 years ago',\n",
       " '2 years ago',\n",
       " '2 years ago',\n",
       " '4 years ago',\n",
       " '2 years ago',\n",
       " '2 years ago',\n",
       " '1 month ago',\n",
       " '3 years ago',\n",
       " '2 years ago',\n",
       " '3 years ago',\n",
       " '2 years ago',\n",
       " '3 years ago',\n",
       " '2 years ago',\n",
       " '2 years ago',\n",
       " '8 months ago',\n",
       " '2 years ago',\n",
       " '2 years ago',\n",
       " '2 years ago',\n",
       " '2 years ago',\n",
       " '3 years ago',\n",
       " '3 months ago',\n",
       " '2 years ago',\n",
       " '3 years ago',\n",
       " '3 years ago',\n",
       " '2 years ago',\n",
       " '2 years ago',\n",
       " '3 weeks ago',\n",
       " '5 years ago',\n",
       " '2 years ago',\n",
       " '3 years ago',\n",
       " '3 weeks ago',\n",
       " '2 years ago',\n",
       " '9 months ago',\n",
       " '2 years ago',\n",
       " '3 years ago',\n",
       " '2 years ago',\n",
       " '2 years ago',\n",
       " '2 years ago (edited)',\n",
       " '2 years ago',\n",
       " '4 years ago',\n",
       " '2 years ago',\n",
       " '2 years ago',\n",
       " '9 months ago',\n",
       " '1 year ago',\n",
       " '11 months ago',\n",
       " '5 years ago',\n",
       " '3 years ago',\n",
       " '3 years ago',\n",
       " '1 year ago',\n",
       " '3 years ago',\n",
       " '1 year ago',\n",
       " '2 years ago',\n",
       " '2 years ago',\n",
       " '2 years ago (edited)',\n",
       " '1 year ago',\n",
       " '2 years ago',\n",
       " '2 years ago',\n",
       " '2 years ago',\n",
       " '2 years ago',\n",
       " '2 years ago',\n",
       " '11 months ago',\n",
       " '3 years ago',\n",
       " '2 years ago',\n",
       " '3 years ago (edited)',\n",
       " '2 years ago',\n",
       " '2 years ago',\n",
       " '2 years ago',\n",
       " '3 years ago',\n",
       " '3 months ago',\n",
       " '4 years ago',\n",
       " '2 years ago',\n",
       " '2 years ago',\n",
       " '11 months ago',\n",
       " '2 years ago',\n",
       " '2 years ago',\n",
       " '4 years ago',\n",
       " '2 years ago',\n",
       " '2 years ago',\n",
       " '1 year ago',\n",
       " '3 years ago (edited)',\n",
       " '1 year ago',\n",
       " '5 years ago (edited)',\n",
       " '2 years ago',\n",
       " '2 years ago',\n",
       " '1 year ago',\n",
       " '8 months ago',\n",
       " '3 months ago',\n",
       " '4 years ago',\n",
       " '2 years ago',\n",
       " '2 years ago',\n",
       " '9 months ago (edited)',\n",
       " '2 years ago',\n",
       " '2 years ago',\n",
       " '2 years ago',\n",
       " '2 years ago',\n",
       " '3 years ago',\n",
       " '3 weeks ago',\n",
       " '2 years ago',\n",
       " '1 year ago',\n",
       " '3 years ago',\n",
       " '2 years ago',\n",
       " '2 years ago',\n",
       " '2 years ago',\n",
       " '2 years ago',\n",
       " '2 years ago',\n",
       " '4 years ago',\n",
       " '3 years ago',\n",
       " '2 years ago',\n",
       " '8 months ago',\n",
       " '2 years ago',\n",
       " '2 years ago',\n",
       " '4 years ago',\n",
       " '2 years ago',\n",
       " '3 years ago',\n",
       " '2 years ago',\n",
       " '2 years ago',\n",
       " '2 years ago',\n",
       " '2 years ago',\n",
       " '2 years ago',\n",
       " '3 years ago',\n",
       " '2 months ago',\n",
       " '2 years ago',\n",
       " '2 years ago',\n",
       " '4 years ago',\n",
       " '2 years ago',\n",
       " '2 years ago',\n",
       " '2 years ago',\n",
       " '2 years ago',\n",
       " '2 years ago',\n",
       " '4 years ago',\n",
       " '8 months ago',\n",
       " '1 year ago',\n",
       " '2 years ago',\n",
       " '2 years ago',\n",
       " '7 months ago',\n",
       " '4 years ago',\n",
       " '3 years ago',\n",
       " '2 years ago',\n",
       " '2 years ago',\n",
       " '2 years ago',\n",
       " '2 years ago',\n",
       " '5 years ago (edited)',\n",
       " '10 months ago',\n",
       " '2 years ago',\n",
       " '2 years ago',\n",
       " '3 years ago',\n",
       " '2 years ago',\n",
       " '2 years ago',\n",
       " '2 years ago',\n",
       " '2 years ago',\n",
       " '11 months ago',\n",
       " '1 year ago',\n",
       " '2 years ago',\n",
       " '5 years ago',\n",
       " '3 years ago',\n",
       " '2 years ago',\n",
       " '2 years ago',\n",
       " '1 year ago',\n",
       " '1 year ago']"
      ]
     },
     "execution_count": 288,
     "metadata": {},
     "output_type": "execute_result"
    }
   ],
   "source": [
    "Time=[]\n",
    "time=driver.find_elements(By.XPATH, '//yt-formatted-string[@class=\"published-time-text style-scope ytd-comment-renderer\"]/a')\n",
    "\n",
    "for i in time:\n",
    "    Time.append(i.text)   \n",
    "Time"
   ]
  },
  {
   "cell_type": "code",
   "execution_count": 290,
   "id": "e23f9043",
   "metadata": {},
   "outputs": [
    {
     "data": {
      "text/plain": [
       "540"
      ]
     },
     "execution_count": 290,
     "metadata": {},
     "output_type": "execute_result"
    }
   ],
   "source": [
    "len(Time)"
   ]
  },
  {
   "cell_type": "code",
   "execution_count": 294,
   "id": "92c85ee8",
   "metadata": {},
   "outputs": [
    {
     "data": {
      "text/plain": [
       "['93',\n",
       " '',\n",
       " '32',\n",
       " '1',\n",
       " '9',\n",
       " '',\n",
       " '38',\n",
       " '9',\n",
       " '26',\n",
       " '62',\n",
       " '35',\n",
       " '1',\n",
       " '38',\n",
       " '29',\n",
       " '42',\n",
       " '13',\n",
       " '28',\n",
       " '13',\n",
       " '4',\n",
       " '',\n",
       " '13',\n",
       " '14',\n",
       " '60',\n",
       " '1',\n",
       " '26',\n",
       " '17',\n",
       " '8',\n",
       " '95',\n",
       " '32',\n",
       " '93',\n",
       " '4',\n",
       " '5',\n",
       " '91',\n",
       " '338',\n",
       " '21',\n",
       " '8',\n",
       " '3',\n",
       " '6',\n",
       " '59',\n",
       " '8',\n",
       " '8',\n",
       " '8',\n",
       " '8',\n",
       " '1',\n",
       " '22',\n",
       " '1',\n",
       " '8',\n",
       " '21',\n",
       " '224',\n",
       " '22',\n",
       " '71',\n",
       " '1',\n",
       " '8',\n",
       " '1',\n",
       " '5',\n",
       " '',\n",
       " '14',\n",
       " '3',\n",
       " '10',\n",
       " '1',\n",
       " '2',\n",
       " '',\n",
       " '11',\n",
       " '31',\n",
       " '',\n",
       " '3',\n",
       " '29',\n",
       " '27',\n",
       " '351',\n",
       " '25',\n",
       " '',\n",
       " '6',\n",
       " '14',\n",
       " '120',\n",
       " '',\n",
       " '80',\n",
       " '1',\n",
       " '1',\n",
       " '1',\n",
       " '1',\n",
       " '39',\n",
       " '15',\n",
       " '1',\n",
       " '33',\n",
       " '19',\n",
       " '',\n",
       " '38',\n",
       " '22',\n",
       " '6',\n",
       " '55',\n",
       " '5',\n",
       " '',\n",
       " '25',\n",
       " '',\n",
       " '',\n",
       " '35',\n",
       " '',\n",
       " '1',\n",
       " '109',\n",
       " '19',\n",
       " '12',\n",
       " '',\n",
       " '3',\n",
       " '1',\n",
       " '70',\n",
       " '1',\n",
       " '8',\n",
       " '',\n",
       " '2',\n",
       " '3',\n",
       " '73',\n",
       " '',\n",
       " '1',\n",
       " '',\n",
       " '9',\n",
       " '11',\n",
       " '15',\n",
       " '2',\n",
       " '',\n",
       " '37',\n",
       " '',\n",
       " '205',\n",
       " '2',\n",
       " '6',\n",
       " '',\n",
       " '43',\n",
       " '2',\n",
       " '28',\n",
       " '3',\n",
       " '42',\n",
       " '17',\n",
       " '7',\n",
       " '',\n",
       " '12',\n",
       " '17',\n",
       " '1',\n",
       " '',\n",
       " '',\n",
       " '',\n",
       " '44',\n",
       " '6',\n",
       " '',\n",
       " '55',\n",
       " '15',\n",
       " '4',\n",
       " '12',\n",
       " '',\n",
       " '4',\n",
       " '9',\n",
       " '',\n",
       " '6',\n",
       " '10',\n",
       " '4',\n",
       " '6',\n",
       " '1',\n",
       " '104',\n",
       " '',\n",
       " '164',\n",
       " '6',\n",
       " '2',\n",
       " '18',\n",
       " '2',\n",
       " '57',\n",
       " '12',\n",
       " '41',\n",
       " '13',\n",
       " '',\n",
       " '9',\n",
       " '11',\n",
       " '55',\n",
       " '',\n",
       " '1',\n",
       " '',\n",
       " '34',\n",
       " '3',\n",
       " '15',\n",
       " '1',\n",
       " '',\n",
       " '',\n",
       " '16',\n",
       " '1',\n",
       " '83',\n",
       " '11',\n",
       " '9',\n",
       " '',\n",
       " '10',\n",
       " '',\n",
       " '629',\n",
       " '',\n",
       " '10',\n",
       " '',\n",
       " '3',\n",
       " '',\n",
       " '13',\n",
       " '',\n",
       " '33',\n",
       " '34',\n",
       " '6',\n",
       " '110',\n",
       " '19',\n",
       " '2',\n",
       " '',\n",
       " '3',\n",
       " '',\n",
       " '16',\n",
       " '1',\n",
       " '13',\n",
       " '1',\n",
       " '6',\n",
       " '',\n",
       " '88',\n",
       " '',\n",
       " '22',\n",
       " '',\n",
       " '13',\n",
       " '3',\n",
       " '15',\n",
       " '15',\n",
       " '11',\n",
       " '3',\n",
       " '30',\n",
       " '',\n",
       " '14',\n",
       " '10',\n",
       " '1',\n",
       " '',\n",
       " '',\n",
       " '',\n",
       " '14',\n",
       " '5',\n",
       " '5',\n",
       " '1',\n",
       " '4',\n",
       " '1',\n",
       " '33',\n",
       " '',\n",
       " '2',\n",
       " '',\n",
       " '',\n",
       " '1',\n",
       " '32',\n",
       " '3',\n",
       " '27',\n",
       " '',\n",
       " '',\n",
       " '1',\n",
       " '10',\n",
       " '12',\n",
       " '1',\n",
       " '',\n",
       " '1',\n",
       " '1',\n",
       " '13',\n",
       " '2',\n",
       " '1',\n",
       " '1',\n",
       " '1',\n",
       " '',\n",
       " '62',\n",
       " '3',\n",
       " '',\n",
       " '',\n",
       " '1',\n",
       " '1',\n",
       " '35',\n",
       " '4',\n",
       " '34',\n",
       " '1',\n",
       " '45',\n",
       " '',\n",
       " '91',\n",
       " '',\n",
       " '7',\n",
       " '',\n",
       " '',\n",
       " '1',\n",
       " '28',\n",
       " '14',\n",
       " '1',\n",
       " '1',\n",
       " '1',\n",
       " '',\n",
       " '116',\n",
       " '',\n",
       " '3',\n",
       " '7',\n",
       " '7',\n",
       " '',\n",
       " '12',\n",
       " '4',\n",
       " '',\n",
       " '',\n",
       " '6',\n",
       " '1',\n",
       " '24',\n",
       " '4',\n",
       " '2',\n",
       " '',\n",
       " '',\n",
       " '',\n",
       " '49',\n",
       " '4',\n",
       " '',\n",
       " '',\n",
       " '2',\n",
       " '',\n",
       " '17',\n",
       " '3',\n",
       " '2',\n",
       " '3',\n",
       " '',\n",
       " '',\n",
       " '13',\n",
       " '6',\n",
       " '',\n",
       " '',\n",
       " '5',\n",
       " '',\n",
       " '16',\n",
       " '14',\n",
       " '3',\n",
       " '1',\n",
       " '7',\n",
       " '',\n",
       " '23',\n",
       " '8',\n",
       " '2',\n",
       " '2',\n",
       " '',\n",
       " '',\n",
       " '23',\n",
       " '',\n",
       " '15',\n",
       " '',\n",
       " '',\n",
       " '1',\n",
       " '12',\n",
       " '1',\n",
       " '1',\n",
       " '',\n",
       " '12',\n",
       " '1',\n",
       " '47',\n",
       " '2',\n",
       " '',\n",
       " '',\n",
       " '1',\n",
       " '',\n",
       " '16',\n",
       " '5',\n",
       " '',\n",
       " '',\n",
       " '3',\n",
       " '',\n",
       " '42',\n",
       " '',\n",
       " '1',\n",
       " '',\n",
       " '1',\n",
       " '',\n",
       " '16',\n",
       " '2',\n",
       " '',\n",
       " '',\n",
       " '',\n",
       " '',\n",
       " '16',\n",
       " '8',\n",
       " '3',\n",
       " '',\n",
       " '2',\n",
       " '',\n",
       " '38',\n",
       " '17',\n",
       " '',\n",
       " '3',\n",
       " '1',\n",
       " '',\n",
       " '83',\n",
       " '4',\n",
       " '1',\n",
       " '',\n",
       " '',\n",
       " '',\n",
       " '42',\n",
       " '15',\n",
       " '7',\n",
       " '1',\n",
       " '2',\n",
       " '15',\n",
       " '10',\n",
       " '1',\n",
       " '2.2K',\n",
       " '',\n",
       " '14',\n",
       " '',\n",
       " '24',\n",
       " '',\n",
       " '12',\n",
       " '1',\n",
       " '3',\n",
       " '',\n",
       " '802',\n",
       " '',\n",
       " '50',\n",
       " '1',\n",
       " '',\n",
       " '',\n",
       " '211',\n",
       " '3',\n",
       " '2',\n",
       " '',\n",
       " '3',\n",
       " '',\n",
       " '85',\n",
       " '3',\n",
       " '2',\n",
       " '',\n",
       " '4',\n",
       " '',\n",
       " '20',\n",
       " '1',\n",
       " '',\n",
       " '',\n",
       " '',\n",
       " '',\n",
       " '17',\n",
       " '4',\n",
       " '1',\n",
       " '',\n",
       " '',\n",
       " '',\n",
       " '45',\n",
       " '',\n",
       " '1',\n",
       " '',\n",
       " '7',\n",
       " '',\n",
       " '14',\n",
       " '',\n",
       " '4',\n",
       " '',\n",
       " '1',\n",
       " '',\n",
       " '44',\n",
       " '7',\n",
       " '',\n",
       " '',\n",
       " '4',\n",
       " '1',\n",
       " '31',\n",
       " '94',\n",
       " '8',\n",
       " '1',\n",
       " '27',\n",
       " '',\n",
       " '20',\n",
       " '',\n",
       " '1',\n",
       " '',\n",
       " '5',\n",
       " '1',\n",
       " '43',\n",
       " '11',\n",
       " '',\n",
       " '',\n",
       " '',\n",
       " '1',\n",
       " '123',\n",
       " '4',\n",
       " '4',\n",
       " '',\n",
       " '',\n",
       " '',\n",
       " '17',\n",
       " '',\n",
       " '3',\n",
       " '1',\n",
       " '1',\n",
       " '',\n",
       " '106',\n",
       " '3',\n",
       " '2',\n",
       " '9',\n",
       " '4',\n",
       " '',\n",
       " '32',\n",
       " '1',\n",
       " '',\n",
       " '1',\n",
       " '1',\n",
       " '',\n",
       " '18',\n",
       " '103',\n",
       " '',\n",
       " '',\n",
       " '',\n",
       " '',\n",
       " '32',\n",
       " '3',\n",
       " '1',\n",
       " '',\n",
       " '15',\n",
       " '',\n",
       " '17',\n",
       " '5',\n",
       " '2',\n",
       " '',\n",
       " '',\n",
       " '1',\n",
       " '26',\n",
       " '',\n",
       " '',\n",
       " '1',\n",
       " '17',\n",
       " '',\n",
       " '40',\n",
       " '1',\n",
       " '',\n",
       " '',\n",
       " '10',\n",
       " '',\n",
       " '14',\n",
       " '',\n",
       " '1',\n",
       " '1',\n",
       " '2',\n",
       " '',\n",
       " '12',\n",
       " '3',\n",
       " '3',\n",
       " '',\n",
       " '2',\n",
       " '',\n",
       " '45',\n",
       " '6',\n",
       " '1',\n",
       " '',\n",
       " '',\n",
       " '']"
      ]
     },
     "execution_count": 294,
     "metadata": {},
     "output_type": "execute_result"
    }
   ],
   "source": [
    "Comment_Upvote=[]\n",
    "cu=driver.find_elements(By.ID, \"vote-count-middle\")\n",
    "\n",
    "for i in cu:\n",
    "    Comment_Upvote.append(i.text)   \n",
    "Comment_Upvote"
   ]
  },
  {
   "cell_type": "code",
   "execution_count": 295,
   "id": "5817ab4e",
   "metadata": {},
   "outputs": [
    {
     "data": {
      "text/plain": [
       "540"
      ]
     },
     "execution_count": 295,
     "metadata": {},
     "output_type": "execute_result"
    }
   ],
   "source": [
    "len(Comment_Upvote)"
   ]
  },
  {
   "cell_type": "code",
   "execution_count": 297,
   "id": "c1efb4ce",
   "metadata": {},
   "outputs": [
    {
     "data": {
      "text/plain": [
       "(541, 540, 540)"
      ]
     },
     "execution_count": 297,
     "metadata": {},
     "output_type": "execute_result"
    }
   ],
   "source": [
    "len(Commentz),len(Time),len(Comment_Upvote)"
   ]
  },
  {
   "cell_type": "code",
   "execution_count": 299,
   "id": "39dc743e",
   "metadata": {},
   "outputs": [
    {
     "data": {
      "text/html": [
       "<div>\n",
       "<style scoped>\n",
       "    .dataframe tbody tr th:only-of-type {\n",
       "        vertical-align: middle;\n",
       "    }\n",
       "\n",
       "    .dataframe tbody tr th {\n",
       "        vertical-align: top;\n",
       "    }\n",
       "\n",
       "    .dataframe thead th {\n",
       "        text-align: right;\n",
       "    }\n",
       "</style>\n",
       "<table border=\"1\" class=\"dataframe\">\n",
       "  <thead>\n",
       "    <tr style=\"text-align: right;\">\n",
       "      <th></th>\n",
       "      <th>Comments</th>\n",
       "      <th>Upvote</th>\n",
       "      <th>Posted Time</th>\n",
       "    </tr>\n",
       "  </thead>\n",
       "  <tbody>\n",
       "    <tr>\n",
       "      <th>0</th>\n",
       "      <td>I remember watching this show with my family y...</td>\n",
       "      <td>93</td>\n",
       "      <td>2 years ago</td>\n",
       "    </tr>\n",
       "    <tr>\n",
       "      <th>1</th>\n",
       "      <td>I remember watching these as a kid in the 90s ...</td>\n",
       "      <td></td>\n",
       "      <td>2 days ago</td>\n",
       "    </tr>\n",
       "    <tr>\n",
       "      <th>2</th>\n",
       "      <td>Minha infância , me divirto muito com ele</td>\n",
       "      <td>32</td>\n",
       "      <td>2 years ago</td>\n",
       "    </tr>\n",
       "    <tr>\n",
       "      <th>3</th>\n",
       "      <td>My cheeks hurt from smiling so much. Thank you...</td>\n",
       "      <td>1</td>\n",
       "      <td>1 month ago</td>\n",
       "    </tr>\n",
       "    <tr>\n",
       "      <th>4</th>\n",
       "      <td>O Mr. Bean é demais! Muito bom! Hahahaha.</td>\n",
       "      <td>9</td>\n",
       "      <td>2 years ago</td>\n",
       "    </tr>\n",
       "    <tr>\n",
       "      <th>...</th>\n",
       "      <td>...</td>\n",
       "      <td>...</td>\n",
       "      <td>...</td>\n",
       "    </tr>\n",
       "    <tr>\n",
       "      <th>535</th>\n",
       "      <td>Бин - красава</td>\n",
       "      <td>6</td>\n",
       "      <td>3 years ago</td>\n",
       "    </tr>\n",
       "    <tr>\n",
       "      <th>536</th>\n",
       "      <td>He make my childhood awesome</td>\n",
       "      <td>1</td>\n",
       "      <td>2 years ago</td>\n",
       "    </tr>\n",
       "    <tr>\n",
       "      <th>537</th>\n",
       "      <td>Supper</td>\n",
       "      <td></td>\n",
       "      <td>2 years ago</td>\n",
       "    </tr>\n",
       "    <tr>\n",
       "      <th>538</th>\n",
       "      <td>Legends are Watching any time</td>\n",
       "      <td></td>\n",
       "      <td>1 year ago</td>\n",
       "    </tr>\n",
       "    <tr>\n",
       "      <th>539</th>\n",
       "      <td></td>\n",
       "      <td></td>\n",
       "      <td>1 year ago</td>\n",
       "    </tr>\n",
       "  </tbody>\n",
       "</table>\n",
       "<p>540 rows × 3 columns</p>\n",
       "</div>"
      ],
      "text/plain": [
       "                                              Comments Upvote  Posted Time\n",
       "0    I remember watching this show with my family y...     93  2 years ago\n",
       "1    I remember watching these as a kid in the 90s ...          2 days ago\n",
       "2           Minha infância , me divirto muito com ele      32  2 years ago\n",
       "3    My cheeks hurt from smiling so much. Thank you...      1  1 month ago\n",
       "4            O Mr. Bean é demais! Muito bom! Hahahaha.      9  2 years ago\n",
       "..                                                 ...    ...          ...\n",
       "535                                      Бин - красава      6  3 years ago\n",
       "536                       He make my childhood awesome      1  2 years ago\n",
       "537                                             Supper         2 years ago\n",
       "538                      Legends are Watching any time          1 year ago\n",
       "539                                                             1 year ago\n",
       "\n",
       "[540 rows x 3 columns]"
      ]
     },
     "execution_count": 299,
     "metadata": {},
     "output_type": "execute_result"
    }
   ],
   "source": [
    "df=pd.DataFrame()\n",
    "df['Comments']=Commentz[1:]\n",
    "df['Upvote']=Comment_Upvote\n",
    "df['Posted Time']=Time\n",
    "df"
   ]
  },
  {
   "cell_type": "markdown",
   "id": "4eaea757",
   "metadata": {},
   "source": [
    "#### Q9. Write a python program to scrape a data for all available Hostels from https://www.hostelworld.com/ in “London” location. You have to scrape hostel name, distance from city centre, ratings, total reviews, overall reviews, privates from price, dorms from price, facilities and property description."
   ]
  },
  {
   "cell_type": "code",
   "execution_count": 331,
   "id": "3cd22d99",
   "metadata": {},
   "outputs": [],
   "source": [
    "#fetching distance from city centre\n",
    "dist = driver.find_elements(By.XPATH, '//span[@class=\"distance-description\"]')\n",
    "for i in dist:\n",
    "    distance.append()"
   ]
  },
  {
   "cell_type": "code",
   "execution_count": 332,
   "id": "44d1ba11",
   "metadata": {},
   "outputs": [
    {
     "data": {
      "text/plain": [
       "30"
      ]
     },
     "execution_count": 332,
     "metadata": {},
     "output_type": "execute_result"
    }
   ],
   "source": [
    "len(distance)"
   ]
  },
  {
   "cell_type": "code",
   "execution_count": 333,
   "id": "faa13545",
   "metadata": {},
   "outputs": [],
   "source": [
    "import selenium\n",
    "import pandas as pd\n",
    "import time\n",
    "from bs4 import BeautifulSoup\n",
    "from selenium import webdriver\n",
    "from selenium.common.exceptions import NoSuchElementException\n",
    "from selenium.common.exceptions import StaleElementReferenceException\n",
    "from selenium.common.exceptions import ElementClickInterceptedException\n",
    "import requests\n",
    "from selenium.webdriver.common.by import By"
   ]
  },
  {
   "cell_type": "code",
   "execution_count": 453,
   "id": "27770a96",
   "metadata": {},
   "outputs": [],
   "source": [
    "# Connecting to webdriver\n",
    "driver=webdriver.Chrome()\n",
    "\n",
    "# Opening url in chrome browser\n",
    "url=\"https://www.hostelworld.com\"\n",
    "driver.get(url)"
   ]
  },
  {
   "cell_type": "code",
   "execution_count": 454,
   "id": "92192c8b",
   "metadata": {},
   "outputs": [],
   "source": [
    "#locating the location search bar\n",
    "Search = driver.find_element(By.XPATH, '//input[@class=\"native-input\"]')"
   ]
  },
  {
   "cell_type": "code",
   "execution_count": 455,
   "id": "8f3af7ce",
   "metadata": {},
   "outputs": [],
   "source": [
    "# Sending input London in search bar\n",
    "Search.send_keys(\"London\")\n",
    "time.sleep(5)"
   ]
  },
  {
   "cell_type": "code",
   "execution_count": 456,
   "id": "11c1e0da",
   "metadata": {},
   "outputs": [],
   "source": [
    "london = driver.find_element(By.XPATH, '//div[@data-v-64130c70][2]/div')\n",
    "london.click()\n",
    "time.sleep(2)"
   ]
  },
  {
   "cell_type": "code",
   "execution_count": 457,
   "id": "f51c907b",
   "metadata": {},
   "outputs": [],
   "source": [
    "#click on search button\n",
    "Search_button = driver.find_element(By.XPATH, '/html/body/div[3]/div/div/div[2]/div[2]/div[2]/div/div/div/div[5]/button[1]')\n",
    "Search_button.click()"
   ]
  },
  {
   "cell_type": "code",
   "execution_count": 354,
   "id": "745ab7ab",
   "metadata": {},
   "outputs": [],
   "source": [
    "#lets find required data\n",
    "hostel_name = []\n",
    "distance = []\n",
    "pvt_prices = []\n",
    "dorms_price = []\n",
    "rating = []\n",
    "reviews = []\n",
    "over_all = []\n",
    "facilities = []\n",
    "description =[]\n",
    "product_url = []"
   ]
  },
  {
   "cell_type": "code",
   "execution_count": 356,
   "id": "75adb0d3",
   "metadata": {},
   "outputs": [],
   "source": [
    "for i in driver.find_elements(By.XPATH, \"//div[@class = 'pagination-item pagination-current' or @class='pagination-item']\"):\n",
    "    i.click()\n",
    "    time.sleep(4)"
   ]
  },
  {
   "cell_type": "code",
   "execution_count": 361,
   "id": "fe809485",
   "metadata": {},
   "outputs": [],
   "source": [
    "#fetching hostel name\n",
    "try:\n",
    "    name = driver.find_elements(By.XPATH, '//div[@class=\"property-name\"]/span')\n",
    "    for i in name:\n",
    "        hostel_name.append(i.text)\n",
    "except NoSuchElementException:\n",
    "    hostel_name.append('-')"
   ]
  },
  {
   "cell_type": "code",
   "execution_count": 450,
   "id": "dfe15d25",
   "metadata": {},
   "outputs": [
    {
     "data": {
      "text/plain": [
       "30"
      ]
     },
     "execution_count": 450,
     "metadata": {},
     "output_type": "execute_result"
    }
   ],
   "source": [
    "len(hostel_name)"
   ]
  },
  {
   "cell_type": "code",
   "execution_count": 362,
   "id": "86bdbf76",
   "metadata": {},
   "outputs": [],
   "source": [
    "#fetching distance from city centre\n",
    "try:\n",
    "    dist = driver.find_elements(By.XPATH, '//span[@class=\"distance-description\"]')\n",
    "    for i in dist:\n",
    "            distance.append(i.text.replace('Hostel - ',''))\n",
    "except NoSuchElementException:\n",
    "        distance.append('-')"
   ]
  },
  {
   "cell_type": "code",
   "execution_count": 364,
   "id": "57dee3bb",
   "metadata": {},
   "outputs": [],
   "source": [
    "#fetch privates from price\n",
    "try:\n",
    "    pvt_price = driver.find_element(By.XPATH, \"/html/body/div[3]/div/div/div[2]/div[2]/div[1]/div/div/div[4]/div[1]/a/a/div[2]/div[4]/div/div[1]\")\n",
    "    pvt_prices.append(pvt_price.text)\n",
    "except NoSuchElementException:\n",
    "    pvt_prices.append('-')"
   ]
  },
  {
   "cell_type": "code",
   "execution_count": 365,
   "id": "68b92456",
   "metadata": {},
   "outputs": [],
   "source": [
    "#fetching dorms from price\n",
    "try:\n",
    "    dorms = driver.find_element(By.XPATH, \"/html/body/div[3]/div/div/div[2]/div[2]/div[1]/div/div/div[4]/div[1]/a/a/div[2]/div[4]/div/div[2]\")\n",
    "    dorms_price.append(dorms.text)\n",
    "except NoSuchElementException:\n",
    "        dorms_price.append('-')"
   ]
  },
  {
   "cell_type": "code",
   "execution_count": 367,
   "id": "4a88aaff",
   "metadata": {},
   "outputs": [],
   "source": [
    "#fetching facilities\n",
    "try:\n",
    "    fac1 = driver.find_elements(By.XPATH, '//div[@arialabel=\"Free WiFi\"]')\n",
    "    fac2 = driver.find_elements(By.XPATH, '//div[@arialabel=\"Free Breakfast\"]')\n",
    "\n",
    "    for i, j in zip(fac1, fac2):\n",
    "        facilities.append(i.text + ', ' + j.text)\n",
    "\n",
    "except NoSuchElementException:\n",
    "    facilities.append('-')"
   ]
  },
  {
   "cell_type": "code",
   "execution_count": 372,
   "id": "20083a5f",
   "metadata": {},
   "outputs": [],
   "source": [
    "#lets fetch url of each hostel\n",
    "p_url = driver.find_elements(By.XPATH, \"//a[@data-v-547b8f9f]\")\n",
    "for i in p_url:\n",
    "    product_url.append(i.get_attribute('href'))"
   ]
  },
  {
   "cell_type": "code",
   "execution_count": 376,
   "id": "e3386a86",
   "metadata": {},
   "outputs": [],
   "source": [
    "for i in product_url:\n",
    "    driver.get(i)\n",
    "    time.sleep(3)\n",
    "#lets click on show more button for description\n",
    "try:\n",
    "    driver.find_element(By.XPATH, '/html/body/div[3]/div/div/div[2]/section/div[8]/div/div[2]/div[3]/div/a').click()\n",
    "    time.sleep(5)\n",
    "except NoSuchElementException:\n",
    "        pass"
   ]
  },
  {
   "cell_type": "code",
   "execution_count": 381,
   "id": "d6ac353f",
   "metadata": {},
   "outputs": [],
   "source": [
    "#fetching ratings\n",
    "try:\n",
    "    rat = driver.find_element(By.XPATH, \"/html/body/div[3]/div/div/div[2]/section/div[11]/div[1]/div/div[1]\")\n",
    "    rating.append(rat.text)\n",
    "except NoSuchElementException:\n",
    "        rating.append('-')"
   ]
  },
  {
   "cell_type": "code",
   "execution_count": 384,
   "id": "4922eb69",
   "metadata": {},
   "outputs": [],
   "source": [
    "#fetching total reviews\n",
    "try:\n",
    "    rws = driver.find_element(By.XPATH, \"//div[@class='reviews']\")\n",
    "    reviews.append(rws.text.replace('Total Reviews',''))\n",
    "except NoSuchElementException:\n",
    "        reviews.append('-')\n",
    "        \n",
    "#fetch overall review\n",
    "try:\n",
    "    overall_rw = driver.find_element(By.XPATH, \"//div[@class='keyword']//span\")\n",
    "    over_all.append(overall_rw.text)\n",
    "except NoSuchElementException:\n",
    "        over_all.append('-')\n",
    "        \n",
    "#fetch property description \n",
    "try:\n",
    "    disc = driver.find_element(By.XPATH, \"//div[@class='content']\")\n",
    "    description.append(disc.text)\n",
    "except NoSuchElementException:\n",
    "        over_all.append('-')"
   ]
  },
  {
   "cell_type": "code",
   "execution_count": 385,
   "id": "c052d886",
   "metadata": {},
   "outputs": [
    {
     "data": {
      "text/html": [
       "<div>\n",
       "<style scoped>\n",
       "    .dataframe tbody tr th:only-of-type {\n",
       "        vertical-align: middle;\n",
       "    }\n",
       "\n",
       "    .dataframe tbody tr th {\n",
       "        vertical-align: top;\n",
       "    }\n",
       "\n",
       "    .dataframe thead th {\n",
       "        text-align: right;\n",
       "    }\n",
       "</style>\n",
       "<table border=\"1\" class=\"dataframe\">\n",
       "  <thead>\n",
       "    <tr style=\"text-align: right;\">\n",
       "      <th></th>\n",
       "      <th>Hostel name</th>\n",
       "      <th>Distance from city centre</th>\n",
       "      <th>ratings</th>\n",
       "      <th>Total reviews</th>\n",
       "      <th>Overall review</th>\n",
       "      <th>Privates from price</th>\n",
       "      <th>Dorms from price</th>\n",
       "      <th>Facilities</th>\n",
       "      <th>Property Description</th>\n",
       "    </tr>\n",
       "  </thead>\n",
       "  <tbody>\n",
       "    <tr>\n",
       "      <th>0</th>\n",
       "      <td>Wombat's City Hostel London</td>\n",
       "      <td>- 3.6km from city centre</td>\n",
       "      <td>7.7</td>\n",
       "      <td>4115</td>\n",
       "      <td>Very Good</td>\n",
       "      <td>-25%\\nPrivates From\\n₹15,151\\n₹11,363</td>\n",
       "      <td>-25%\\nDorms From\\n₹4,487\\n₹3,365</td>\n",
       "      <td>,</td>\n",
       "      <td>48-50 Camden High Street, Camden NW1, London, ...</td>\n",
       "    </tr>\n",
       "  </tbody>\n",
       "</table>\n",
       "</div>"
      ],
      "text/plain": [
       "                   Hostel name Distance from city centre ratings  \\\n",
       "0  Wombat's City Hostel London  - 3.6km from city centre     7.7   \n",
       "\n",
       "  Total reviews Overall review                    Privates from price  \\\n",
       "0         4115       Very Good  -25%\\nPrivates From\\n₹15,151\\n₹11,363   \n",
       "\n",
       "                   Dorms from price Facilities  \\\n",
       "0  -25%\\nDorms From\\n₹4,487\\n₹3,365         ,    \n",
       "\n",
       "                                Property Description  \n",
       "0  48-50 Camden High Street, Camden NW1, London, ...  "
      ]
     },
     "execution_count": 385,
     "metadata": {},
     "output_type": "execute_result"
    }
   ],
   "source": [
    "data = list(zip(hostel_name,distance,rating,reviews,over_all,pvt_prices,dorms_price,facilities,description))       \n",
    "Hostel = pd.DataFrame(data, columns = [\"Hostel name\",\"Distance from city centre\",\"ratings\",\"Total reviews\",\"Overall review\",\"Privates from price\",\"Dorms from price\",\"Facilities\",\"Property Description\"])\n",
    "Hostel"
   ]
  },
  {
   "cell_type": "code",
   "execution_count": null,
   "id": "80cd5dfd",
   "metadata": {},
   "outputs": [],
   "source": []
  }
 ],
 "metadata": {
  "kernelspec": {
   "display_name": "Python 3 (ipykernel)",
   "language": "python",
   "name": "python3"
  },
  "language_info": {
   "codemirror_mode": {
    "name": "ipython",
    "version": 3
   },
   "file_extension": ".py",
   "mimetype": "text/x-python",
   "name": "python",
   "nbconvert_exporter": "python",
   "pygments_lexer": "ipython3",
   "version": "3.10.9"
  }
 },
 "nbformat": 4,
 "nbformat_minor": 5
}
