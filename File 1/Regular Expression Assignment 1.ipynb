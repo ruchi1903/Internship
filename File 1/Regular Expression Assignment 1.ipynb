{
 "cells": [
  {
   "cell_type": "code",
   "execution_count": 1,
   "id": "bf6ab595",
   "metadata": {},
   "outputs": [],
   "source": [
    "import regex as re"
   ]
  },
  {
   "cell_type": "code",
   "execution_count": 2,
   "id": "76d1b647",
   "metadata": {},
   "outputs": [
    {
     "name": "stdout",
     "output_type": "stream",
     "text": [
      "two:assignments::pdf:and:txt:format:\n"
     ]
    }
   ],
   "source": [
    "import re\n",
    "text= \"two assignments, pdf and txt format.\"\n",
    "new= re.sub(r\"[\\s,.]\",\":\", text)\n",
    "print(new)"
   ]
  },
  {
   "cell_type": "code",
   "execution_count": 3,
   "id": "08e8e0f5",
   "metadata": {},
   "outputs": [
    {
     "name": "stdout",
     "output_type": "stream",
     "text": [
      "         SUMMARY\n",
      "0    hello world\n",
      "1           test\n",
      "2  four five six\n"
     ]
    }
   ],
   "source": [
    "import pandas as pd\n",
    "dictionary= {'SUMMARY' : ['hello, world!', 'XXXXX test', '123four, five:; six...']}\n",
    "df=pd.DataFrame(dictionary)\n",
    "df[\"SUMMARY\"]= df[\"SUMMARY\"].apply(lambda x: re.sub(r\"[^\\sa-zA-Z]|XXXXX\", \"\",x))\n",
    "print(df)"
   ]
  },
  {
   "cell_type": "code",
   "execution_count": 43,
   "id": "327dcf4e",
   "metadata": {},
   "outputs": [
    {
     "data": {
      "text/plain": [
       "['john', 'good']"
      ]
     },
     "execution_count": 43,
     "metadata": {},
     "output_type": "execute_result"
    }
   ],
   "source": [
    "def find_long_words(string):\n",
    "    long_word_pattern = re.compile(r'\\b\\w{4,}\\b')\n",
    "    long_words = long_word_pattern.findall(string)\n",
    "    return long_words\n",
    "string = \"john is a good boy\"\n",
    "find_long_words(string)"
   ]
  },
  {
   "cell_type": "code",
   "execution_count": 45,
   "id": "027880a6",
   "metadata": {},
   "outputs": [
    {
     "data": {
      "text/plain": [
       "{'three_char_words': ['The', 'red', 'fox', 'was', 'ate', 'the'],\n",
       " 'four_char_words': ['wolf'],\n",
       " 'five_char_words': ['smart']}"
      ]
     },
     "execution_count": 45,
     "metadata": {},
     "output_type": "execute_result"
    }
   ],
   "source": [
    "def find_words(string):\n",
    "    three_char_pattern = re.compile(r'\\b\\w{3}\\b')\n",
    "    four_char_pattern = re.compile(r'\\b\\w{4}\\b')\n",
    "    five_char_pattern = re.compile(r'\\b\\w{5}\\b')\n",
    "    three_char_words = three_char_pattern.findall(string)\n",
    "    four_char_words = four_char_pattern.findall(string)\n",
    "    five_char_words = five_char_pattern.findall(string)\n",
    "    return {\n",
    "        'three_char_words': three_char_words,\n",
    "        'four_char_words': four_char_words,\n",
    "        'five_char_words': five_char_words\n",
    "    }\n",
    "string = \"The red fox was so smart it ate the wolf\"\n",
    "find_words(string)"
   ]
  },
  {
   "cell_type": "code",
   "execution_count": 49,
   "id": "74e0ba5e",
   "metadata": {},
   "outputs": [
    {
     "name": "stdout",
     "output_type": "stream",
     "text": [
      "example.com\n",
      "hr@fliprobo.com\n",
      "github.com\n",
      "Hello Data Science World\n",
      "Data Scientist\n"
     ]
    }
   ],
   "source": [
    "def process_text(text_list):\n",
    "    processed_list = []\n",
    "    parenthesis_pattern = re.compile(r'\\s*\\((.*?)\\)')\n",
    "    empty_parenthesis_pattern = re.compile(r'\\s*\\(\\)')\n",
    "    leading_parenthesis_pattern = re.compile(r'\\s*\\(\\s*')\n",
    "    space_before_dot_pattern = re.compile(r'\\s*\\.(\\s*)')\n",
    "\n",
    "    for text in text_list:\n",
    "        processed_text = parenthesis_pattern.sub(r' \\1', text)\n",
    "        processed_text = empty_parenthesis_pattern.sub('', processed_text)\n",
    "        processed_text = leading_parenthesis_pattern.sub(' ', processed_text)\n",
    "        processed_text = space_before_dot_pattern.sub('.', processed_text)\n",
    "        processed_list.append(processed_text)\n",
    "\n",
    "    return processed_list\n",
    "sample_text = [\"example (.com)\", \"hr@fliprobo (.com)\", \"github (.com)\", \"Hello (Data Science World)\", \"Data (Scientist)\"]\n",
    "processed_text = process_text(sample_text)\n",
    "for text in processed_text:\n",
    "    print(text)"
   ]
  },
  {
   "cell_type": "code",
   "execution_count": 50,
   "id": "a76972b3",
   "metadata": {},
   "outputs": [],
   "source": [
    "def remove_parentheses(text):\n",
    "    regex_pattern=re.compile(r\"\\([^)]*\\)\")\n",
    "    return regex_pattern.sub(\"\",text)\n",
    "url = \"/Users/RahulK/Desktop/Sample_text.txt\"\n",
    "file_path= (url)\n",
    "with open(file_path, \"r\") as file:\n",
    "    result=file.read()\n",
    "modified_result=remove_parentheses(result)\n",
    "with open(file_path,\"w\") as file:\n",
    "        file.write(modified_result)"
   ]
  },
  {
   "cell_type": "code",
   "execution_count": 10,
   "id": "029f6bf1",
   "metadata": {},
   "outputs": [
    {
     "name": "stdout",
     "output_type": "stream",
     "text": [
      "Importance Of Regular Expressions In Python\n"
     ]
    }
   ],
   "source": [
    "target_string= \"ImportanceOfRegularExpressionsInPython\"\n",
    "pattern= re.split(r\"(?<=[a-z])(?=[A-Z])\", target_string)\n",
    "result= \" \".join(pattern)\n",
    "print(result)"
   ]
  },
  {
   "cell_type": "code",
   "execution_count": 11,
   "id": "98abb030",
   "metadata": {},
   "outputs": [
    {
     "name": "stdout",
     "output_type": "stream",
     "text": [
      "RegularExpression 1IsAn 2ImportantTopic 3InPython\n"
     ]
    }
   ],
   "source": [
    "def spaces(data):\n",
    "    pattern=re.sub(r\"(\\D)(\\d)\", r\"\\1 \\2\", data)\n",
    "    return pattern\n",
    "target_string= \"RegularExpression1IsAn2ImportantTopic3InPython\"\n",
    "x= spaces(target_string)\n",
    "print(x)"
   ]
  },
  {
   "cell_type": "code",
   "execution_count": 12,
   "id": "baaa3e4d",
   "metadata": {},
   "outputs": [
    {
     "name": "stdout",
     "output_type": "stream",
     "text": [
      "RegularExpression 1 IsAn 2 ImportantTopic 3 InPython\n"
     ]
    }
   ],
   "source": [
    "def spaces(data):\n",
    "    pattern=re.sub(r\"(\\D)(\\d)(\\D)\", r\"\\1 \\2 \\3\", data)\n",
    "    return pattern\n",
    "target_string= \"RegularExpression1IsAn2ImportantTopic3InPython\"\n",
    "x= spaces(target_string)\n",
    "print(x)"
   ]
  },
  {
   "cell_type": "code",
   "execution_count": 51,
   "id": "87f0c981",
   "metadata": {},
   "outputs": [
    {
     "data": {
      "text/html": [
       "<div>\n",
       "<style scoped>\n",
       "    .dataframe tbody tr th:only-of-type {\n",
       "        vertical-align: middle;\n",
       "    }\n",
       "\n",
       "    .dataframe tbody tr th {\n",
       "        vertical-align: top;\n",
       "    }\n",
       "\n",
       "    .dataframe thead th {\n",
       "        text-align: right;\n",
       "    }\n",
       "</style>\n",
       "<table border=\"1\" class=\"dataframe\">\n",
       "  <thead>\n",
       "    <tr style=\"text-align: right;\">\n",
       "      <th></th>\n",
       "      <th>Country</th>\n",
       "      <th>Region</th>\n",
       "      <th>Happiness Rank</th>\n",
       "      <th>Happiness Score</th>\n",
       "      <th>Standard Error</th>\n",
       "      <th>Economy (GDP per Capita)</th>\n",
       "      <th>Family</th>\n",
       "      <th>Health (Life Expectancy)</th>\n",
       "      <th>Freedom</th>\n",
       "      <th>Trust (Government Corruption)</th>\n",
       "      <th>Generosity</th>\n",
       "      <th>Dystopia Residual</th>\n",
       "    </tr>\n",
       "  </thead>\n",
       "  <tbody>\n",
       "    <tr>\n",
       "      <th>0</th>\n",
       "      <td>Switzerland</td>\n",
       "      <td>Western Europe</td>\n",
       "      <td>1</td>\n",
       "      <td>7.587</td>\n",
       "      <td>0.03411</td>\n",
       "      <td>1.39651</td>\n",
       "      <td>1.34951</td>\n",
       "      <td>0.94143</td>\n",
       "      <td>0.66557</td>\n",
       "      <td>0.41978</td>\n",
       "      <td>0.29678</td>\n",
       "      <td>2.51738</td>\n",
       "    </tr>\n",
       "    <tr>\n",
       "      <th>1</th>\n",
       "      <td>Iceland</td>\n",
       "      <td>Western Europe</td>\n",
       "      <td>2</td>\n",
       "      <td>7.561</td>\n",
       "      <td>0.04884</td>\n",
       "      <td>1.30232</td>\n",
       "      <td>1.40223</td>\n",
       "      <td>0.94784</td>\n",
       "      <td>0.62877</td>\n",
       "      <td>0.14145</td>\n",
       "      <td>0.43630</td>\n",
       "      <td>2.70201</td>\n",
       "    </tr>\n",
       "    <tr>\n",
       "      <th>2</th>\n",
       "      <td>Denmark</td>\n",
       "      <td>Western Europe</td>\n",
       "      <td>3</td>\n",
       "      <td>7.527</td>\n",
       "      <td>0.03328</td>\n",
       "      <td>1.32548</td>\n",
       "      <td>1.36058</td>\n",
       "      <td>0.87464</td>\n",
       "      <td>0.64938</td>\n",
       "      <td>0.48357</td>\n",
       "      <td>0.34139</td>\n",
       "      <td>2.49204</td>\n",
       "    </tr>\n",
       "    <tr>\n",
       "      <th>3</th>\n",
       "      <td>Norway</td>\n",
       "      <td>Western Europe</td>\n",
       "      <td>4</td>\n",
       "      <td>7.522</td>\n",
       "      <td>0.03880</td>\n",
       "      <td>1.45900</td>\n",
       "      <td>1.33095</td>\n",
       "      <td>0.88521</td>\n",
       "      <td>0.66973</td>\n",
       "      <td>0.36503</td>\n",
       "      <td>0.34699</td>\n",
       "      <td>2.46531</td>\n",
       "    </tr>\n",
       "    <tr>\n",
       "      <th>4</th>\n",
       "      <td>Canada</td>\n",
       "      <td>North America</td>\n",
       "      <td>5</td>\n",
       "      <td>7.427</td>\n",
       "      <td>0.03553</td>\n",
       "      <td>1.32629</td>\n",
       "      <td>1.32261</td>\n",
       "      <td>0.90563</td>\n",
       "      <td>0.63297</td>\n",
       "      <td>0.32957</td>\n",
       "      <td>0.45811</td>\n",
       "      <td>2.45176</td>\n",
       "    </tr>\n",
       "  </tbody>\n",
       "</table>\n",
       "</div>"
      ],
      "text/plain": [
       "       Country          Region  Happiness Rank  Happiness Score  \\\n",
       "0  Switzerland  Western Europe               1            7.587   \n",
       "1      Iceland  Western Europe               2            7.561   \n",
       "2      Denmark  Western Europe               3            7.527   \n",
       "3       Norway  Western Europe               4            7.522   \n",
       "4       Canada   North America               5            7.427   \n",
       "\n",
       "   Standard Error  Economy (GDP per Capita)   Family  \\\n",
       "0         0.03411                   1.39651  1.34951   \n",
       "1         0.04884                   1.30232  1.40223   \n",
       "2         0.03328                   1.32548  1.36058   \n",
       "3         0.03880                   1.45900  1.33095   \n",
       "4         0.03553                   1.32629  1.32261   \n",
       "\n",
       "   Health (Life Expectancy)  Freedom  Trust (Government Corruption)  \\\n",
       "0                   0.94143  0.66557                        0.41978   \n",
       "1                   0.94784  0.62877                        0.14145   \n",
       "2                   0.87464  0.64938                        0.48357   \n",
       "3                   0.88521  0.66973                        0.36503   \n",
       "4                   0.90563  0.63297                        0.32957   \n",
       "\n",
       "   Generosity  Dystopia Residual  \n",
       "0     0.29678            2.51738  \n",
       "1     0.43630            2.70201  \n",
       "2     0.34139            2.49204  \n",
       "3     0.34699            2.46531  \n",
       "4     0.45811            2.45176  "
      ]
     },
     "execution_count": 51,
     "metadata": {},
     "output_type": "execute_result"
    }
   ],
   "source": [
    "import pandas as pd\n",
    "import re\n",
    "\n",
    "url = \"https://raw.githubusercontent.com/dsrscientist/DSData/master/happiness_score_dataset.csv\"\n",
    "df = pd.read_csv(\"https://raw.githubusercontent.com/dsrscientist/DSData/master/happiness_score_dataset.csv\")\n",
    "df.head()"
   ]
  },
  {
   "cell_type": "code",
   "execution_count": 52,
   "id": "beff3fbe",
   "metadata": {},
   "outputs": [
    {
     "data": {
      "text/html": [
       "<div>\n",
       "<style scoped>\n",
       "    .dataframe tbody tr th:only-of-type {\n",
       "        vertical-align: middle;\n",
       "    }\n",
       "\n",
       "    .dataframe tbody tr th {\n",
       "        vertical-align: top;\n",
       "    }\n",
       "\n",
       "    .dataframe thead th {\n",
       "        text-align: right;\n",
       "    }\n",
       "</style>\n",
       "<table border=\"1\" class=\"dataframe\">\n",
       "  <thead>\n",
       "    <tr style=\"text-align: right;\">\n",
       "      <th></th>\n",
       "      <th>Country</th>\n",
       "      <th>Region</th>\n",
       "      <th>Happiness Rank</th>\n",
       "      <th>Happiness Score</th>\n",
       "      <th>Standard Error</th>\n",
       "      <th>Economy (GDP per Capita)</th>\n",
       "      <th>Family</th>\n",
       "      <th>Health (Life Expectancy)</th>\n",
       "      <th>Freedom</th>\n",
       "      <th>Trust (Government Corruption)</th>\n",
       "      <th>Generosity</th>\n",
       "      <th>Dystopia Residual</th>\n",
       "      <th>first_five_letters</th>\n",
       "    </tr>\n",
       "  </thead>\n",
       "  <tbody>\n",
       "    <tr>\n",
       "      <th>0</th>\n",
       "      <td>Switzerland</td>\n",
       "      <td>Western Europe</td>\n",
       "      <td>1</td>\n",
       "      <td>7.587</td>\n",
       "      <td>0.03411</td>\n",
       "      <td>1.39651</td>\n",
       "      <td>1.34951</td>\n",
       "      <td>0.94143</td>\n",
       "      <td>0.66557</td>\n",
       "      <td>0.41978</td>\n",
       "      <td>0.29678</td>\n",
       "      <td>2.51738</td>\n",
       "      <td>Switze</td>\n",
       "    </tr>\n",
       "    <tr>\n",
       "      <th>1</th>\n",
       "      <td>Iceland</td>\n",
       "      <td>Western Europe</td>\n",
       "      <td>2</td>\n",
       "      <td>7.561</td>\n",
       "      <td>0.04884</td>\n",
       "      <td>1.30232</td>\n",
       "      <td>1.40223</td>\n",
       "      <td>0.94784</td>\n",
       "      <td>0.62877</td>\n",
       "      <td>0.14145</td>\n",
       "      <td>0.43630</td>\n",
       "      <td>2.70201</td>\n",
       "      <td>Icelan</td>\n",
       "    </tr>\n",
       "    <tr>\n",
       "      <th>2</th>\n",
       "      <td>Denmark</td>\n",
       "      <td>Western Europe</td>\n",
       "      <td>3</td>\n",
       "      <td>7.527</td>\n",
       "      <td>0.03328</td>\n",
       "      <td>1.32548</td>\n",
       "      <td>1.36058</td>\n",
       "      <td>0.87464</td>\n",
       "      <td>0.64938</td>\n",
       "      <td>0.48357</td>\n",
       "      <td>0.34139</td>\n",
       "      <td>2.49204</td>\n",
       "      <td>Denmar</td>\n",
       "    </tr>\n",
       "    <tr>\n",
       "      <th>3</th>\n",
       "      <td>Norway</td>\n",
       "      <td>Western Europe</td>\n",
       "      <td>4</td>\n",
       "      <td>7.522</td>\n",
       "      <td>0.03880</td>\n",
       "      <td>1.45900</td>\n",
       "      <td>1.33095</td>\n",
       "      <td>0.88521</td>\n",
       "      <td>0.66973</td>\n",
       "      <td>0.36503</td>\n",
       "      <td>0.34699</td>\n",
       "      <td>2.46531</td>\n",
       "      <td>Norway</td>\n",
       "    </tr>\n",
       "    <tr>\n",
       "      <th>4</th>\n",
       "      <td>Canada</td>\n",
       "      <td>North America</td>\n",
       "      <td>5</td>\n",
       "      <td>7.427</td>\n",
       "      <td>0.03553</td>\n",
       "      <td>1.32629</td>\n",
       "      <td>1.32261</td>\n",
       "      <td>0.90563</td>\n",
       "      <td>0.63297</td>\n",
       "      <td>0.32957</td>\n",
       "      <td>0.45811</td>\n",
       "      <td>2.45176</td>\n",
       "      <td>Canada</td>\n",
       "    </tr>\n",
       "  </tbody>\n",
       "</table>\n",
       "</div>"
      ],
      "text/plain": [
       "       Country          Region  Happiness Rank  Happiness Score  \\\n",
       "0  Switzerland  Western Europe               1            7.587   \n",
       "1      Iceland  Western Europe               2            7.561   \n",
       "2      Denmark  Western Europe               3            7.527   \n",
       "3       Norway  Western Europe               4            7.522   \n",
       "4       Canada   North America               5            7.427   \n",
       "\n",
       "   Standard Error  Economy (GDP per Capita)   Family  \\\n",
       "0         0.03411                   1.39651  1.34951   \n",
       "1         0.04884                   1.30232  1.40223   \n",
       "2         0.03328                   1.32548  1.36058   \n",
       "3         0.03880                   1.45900  1.33095   \n",
       "4         0.03553                   1.32629  1.32261   \n",
       "\n",
       "   Health (Life Expectancy)  Freedom  Trust (Government Corruption)  \\\n",
       "0                   0.94143  0.66557                        0.41978   \n",
       "1                   0.94784  0.62877                        0.14145   \n",
       "2                   0.87464  0.64938                        0.48357   \n",
       "3                   0.88521  0.66973                        0.36503   \n",
       "4                   0.90563  0.63297                        0.32957   \n",
       "\n",
       "   Generosity  Dystopia Residual first_five_letters  \n",
       "0     0.29678            2.51738             Switze  \n",
       "1     0.43630            2.70201             Icelan  \n",
       "2     0.34139            2.49204             Denmar  \n",
       "3     0.34699            2.46531             Norway  \n",
       "4     0.45811            2.45176             Canada  "
      ]
     },
     "execution_count": 52,
     "metadata": {},
     "output_type": "execute_result"
    }
   ],
   "source": [
    "df['first_five_letters'] = df['Country'].str[:6]\n",
    "df.head()"
   ]
  },
  {
   "cell_type": "code",
   "execution_count": 15,
   "id": "adf16f02",
   "metadata": {},
   "outputs": [
    {
     "name": "stdout",
     "output_type": "stream",
     "text": [
      "'Regular_Expression 065 in Python' is false.\n"
     ]
    }
   ],
   "source": [
    "def right(target_string):\n",
    "    pattern = r\"^[a-zA-Z0-9_]+$\"\n",
    "    if re.match(pattern,target_string):\n",
    "        return True\n",
    "    else:\n",
    "        return False\n",
    "target_string= \"Regular_Expression 065 in Python\"\n",
    "if right(target_string):\n",
    "    print(f\"'{target_string}' is true.\")\n",
    "else:\n",
    "    print(f\"'{target_string}' is false.\")"
   ]
  },
  {
   "cell_type": "code",
   "execution_count": 16,
   "id": "f1c729e8",
   "metadata": {},
   "outputs": [
    {
     "name": "stdout",
     "output_type": "stream",
     "text": [
      "'0933 Fliprobo 99 intern' correct '09'.\n"
     ]
    }
   ],
   "source": [
    "def number(target_string, unique_number):\n",
    "    return target_string.startswith(unique_number)\n",
    "target_string = \"0933 Fliprobo 99 intern\"\n",
    "unique_number = \"09\"\n",
    "if number(target_string, unique_number):\n",
    "    print(f\"'{target_string}' correct '{unique_number}'.\")\n",
    "else:\n",
    "    print(f\"'{target_string}' incorrect '{unique_number}'.\")"
   ]
  },
  {
   "cell_type": "code",
   "execution_count": 17,
   "id": "410d5feb",
   "metadata": {},
   "outputs": [
    {
     "name": "stdout",
     "output_type": "stream",
     "text": [
      "Original IP address: 192.168.001.1.01\n",
      "formatted IP address: 192.168.1.1.1\n"
     ]
    }
   ],
   "source": [
    "def no_zeros(ip_address):\n",
    "    ip_contents = ip_address.split(\".\")\n",
    "    formatted_contents = []\n",
    "    for content in ip_contents:\n",
    "        formatted_content=str(int(content))\n",
    "        formatted_contents.append(formatted_content)\n",
    "    formatted_ip_address = \".\".join(formatted_contents)\n",
    "    return formatted_ip_address\n",
    "ip_address= \"192.168.001.1.01\"\n",
    "formatted_ip_address = no_zeros(ip_address)\n",
    "print(f\"Original IP address: {ip_address}\")\n",
    "print(f\"formatted IP address: {formatted_ip_address}\")"
   ]
  },
  {
   "cell_type": "code",
   "execution_count": 18,
   "id": "49462070",
   "metadata": {},
   "outputs": [
    {
     "name": "stdout",
     "output_type": "stream",
     "text": [
      "August 15th, 1947\n"
     ]
    }
   ],
   "source": [
    "sample_text = \"On August 15th, 1947 that India was declared independent from British colonialism and the reins of control were handed over to the leaders of the country.\"\n",
    "date_pattern = r\"\\b(\\w+ \\d{1,2}(?:st|nd|rd|th), \\d{4})\\b\"\n",
    "with open(\"/Users/RahulK/Desktop/new_sample.txt\", \"w\") as file:\n",
    "    file.write(sample_text)\n",
    "with open(\"/Users/RahulK/Desktop/new_sample.txt\", \"r\") as file:\n",
    "    text = file.read()\n",
    "matches = re.findall(date_pattern, text)\n",
    "for match in matches:\n",
    "    print(match)"
   ]
  },
  {
   "cell_type": "code",
   "execution_count": 53,
   "id": "50c0a24e",
   "metadata": {},
   "outputs": [
    {
     "name": "stdout",
     "output_type": "stream",
     "text": [
      "Answer:\n",
      "fox\n",
      "dog\n"
     ]
    }
   ],
   "source": [
    "sample_text = \"The quick brown fox jumps over the lazy dog.\"\n",
    "searched_words = [\"fox\", \"dog\", \"horse\"]\n",
    "def find_words(text, words):\n",
    "    found_words = []\n",
    "    for word in words:\n",
    "        if word in text:\n",
    "            found_words.append(word)\n",
    "    return found_words\n",
    "found_words = find_words(sample_text, searched_words)\n",
    "print(\"Answer:\")\n",
    "for word in found_words:\n",
    "    print(word)"
   ]
  },
  {
   "cell_type": "code",
   "execution_count": 20,
   "id": "92f59406",
   "metadata": {},
   "outputs": [
    {
     "name": "stdout",
     "output_type": "stream",
     "text": [
      "The word 'fox' is found in the text at position 16.\n"
     ]
    }
   ],
   "source": [
    "sample_text = 'The quick brown fox jumps over the lazy dog.'\n",
    "searched_words = 'fox'\n",
    "location = sample_text.find(searched_words)\n",
    "print(f\"The word '{searched_words}' is found in the text at position {location}.\")"
   ]
  },
  {
   "cell_type": "code",
   "execution_count": 21,
   "id": "50d79229",
   "metadata": {},
   "outputs": [
    {
     "name": "stdout",
     "output_type": "stream",
     "text": [
      "Found 'exercises' at index 7\n",
      "Found 'exercises' at index 22\n",
      "Found 'exercises' at index 36\n"
     ]
    }
   ],
   "source": [
    "sample_text = 'Python exercises, PHP exercises, C# exercises'\n",
    "pattern = 'exercises'\n",
    "matches = re.finditer(pattern, sample_text)\n",
    "for match in matches:\n",
    "    print(f\"Found '{pattern}' at index {match.start()}\")"
   ]
  },
  {
   "cell_type": "code",
   "execution_count": 22,
   "id": "126e870d",
   "metadata": {},
   "outputs": [
    {
     "name": "stdout",
     "output_type": "stream",
     "text": [
      "Enter the main string: fox into the woods \n",
      "Enter the substring to find: hot wood fire\n",
      "The substring 'hot wood fire' is not found in the main string.\n"
     ]
    }
   ],
   "source": [
    "def find_occurrences(main_string, substring):\n",
    "    start = -1\n",
    "    occurrences = []\n",
    "    while True:\n",
    "        start = main_string.find(substring, start + 1)\n",
    "        if start == -1:\n",
    "            break\n",
    "        occurrences.append(start)\n",
    "    return occurrences\n",
    "\n",
    "main_string = input(\"Enter the main string: \")\n",
    "substring = input(\"Enter the substring to find: \")\n",
    "\n",
    "positions = find_occurrences(main_string, substring)\n",
    "\n",
    "if positions:\n",
    "    print(f\"The substring '{substring}' is found at positions: {positions}\")\n",
    "else:\n",
    "    print(f\"The substring '{substring}' is not found in the main string.\")"
   ]
  },
  {
   "cell_type": "code",
   "execution_count": 23,
   "id": "0deadf05",
   "metadata": {},
   "outputs": [
    {
     "data": {
      "text/plain": [
       "'25-07-2023'"
      ]
     },
     "execution_count": 23,
     "metadata": {},
     "output_type": "execute_result"
    }
   ],
   "source": [
    "from datetime import datetime\n",
    "date_string = \"2023-07-25\"\n",
    "date_object = datetime.strptime(date_string, '%Y-%m-%d')\n",
    "date_object.strftime('%d-%m-%Y')"
   ]
  },
  {
   "cell_type": "code",
   "execution_count": 24,
   "id": "f28adb64",
   "metadata": {},
   "outputs": [
    {
     "data": {
      "text/plain": [
       "'25-07-2023'"
      ]
     },
     "execution_count": 24,
     "metadata": {},
     "output_type": "execute_result"
    }
   ],
   "source": [
    "def convert_date(date_string):\n",
    "    date_object = datetime.strptime(date_string, '%Y-%m-%d')\n",
    "    return date_object.strftime('%d-%m-%Y')\n",
    "date_string = \"2023-07-25\"\n",
    "convert_date(date_string)"
   ]
  },
  {
   "cell_type": "code",
   "execution_count": 25,
   "id": "e567af0a",
   "metadata": {},
   "outputs": [
    {
     "data": {
      "text/plain": [
       "['01.12', '0132.12', '2.31', '145.8', '3.01', '27.25', '0.25']"
      ]
     },
     "execution_count": 25,
     "metadata": {},
     "output_type": "execute_result"
    }
   ],
   "source": [
    "import re\n",
    "\n",
    "def find_decimal_numbers(input_string):\n",
    "    pattern = re.compile(r\"\\d+\\.\\d{1,2}\")\n",
    "    return re.findall(pattern, input_string)\n",
    "input_string = \"01.12 0132.123 2.31875 145.8 3.01 27.25 0.25\"\n",
    "find_decimal_numbers(input_string)"
   ]
  },
  {
   "cell_type": "code",
   "execution_count": 26,
   "id": "4ceccb58",
   "metadata": {},
   "outputs": [
    {
     "data": {
      "text/plain": [
       "(['123', '456', '789'], [4, 12, 20])"
      ]
     },
     "execution_count": 26,
     "metadata": {},
     "output_type": "execute_result"
    }
   ],
   "source": [
    "def separate_numbers_with_position(input_string):\n",
    "    numbers = re.findall(r'\\d+', input_string)\n",
    "    positions = [match.start() for match in re.finditer(r'\\d+', input_string)]\n",
    "    return numbers, positions\n",
    "input_string = \"abc 123 def 456 ghi 789\"\n",
    "separate_numbers_with_position(input_string)"
   ]
  },
  {
   "cell_type": "code",
   "execution_count": 27,
   "id": "0fd37685",
   "metadata": {},
   "outputs": [
    {
     "name": "stdout",
     "output_type": "stream",
     "text": [
      "The maximum numeric value in the string is: 950\n"
     ]
    }
   ],
   "source": [
    "sample_text = 'My marks in each semester are: 947, 896, 926, 524, 734, 950, 642'\n",
    "\n",
    "numeric_values = re.findall(r'\\d+', sample_text)\n",
    "if numeric_values:\n",
    "    max_value = max(map(int, numeric_values))\n",
    "    print(f\"The maximum numeric value in the string is: {max_value}\")\n",
    "else:\n",
    "    print(\"No numeric values found in the string.\")"
   ]
  },
  {
   "cell_type": "code",
   "execution_count": 28,
   "id": "7d8fd09a",
   "metadata": {},
   "outputs": [
    {
     "data": {
      "text/plain": [
       "'Regular Expression Is An Important Topic In Python'"
      ]
     },
     "execution_count": 28,
     "metadata": {},
     "output_type": "execute_result"
    }
   ],
   "source": [
    "def insert_spaces(text):\n",
    "    words = re.findall('[A-Z][a-z]*', text)\n",
    "    result = ' '.join(words)\n",
    "    return result\n",
    "text = \"RegularExpressionIsAnImportantTopicInPython\"\n",
    "insert_spaces(text)"
   ]
  },
  {
   "cell_type": "code",
   "execution_count": 29,
   "id": "3ad5d44d",
   "metadata": {},
   "outputs": [
    {
     "data": {
      "text/plain": [
       "['The', 'Quick', 'Brown', 'Fox', 'Jumps', 'Over', 'The', 'Lazy', 'Dog']"
      ]
     },
     "execution_count": 29,
     "metadata": {},
     "output_type": "execute_result"
    }
   ],
   "source": [
    "def find_sequences(text):\n",
    "    pattern = r\"[A-Z][a-z]+\"\n",
    "    return re.findall(pattern, text)\n",
    "sample_text = \"The Quick Brown Fox Jumps Over The Lazy Dog\"\n",
    "find_sequences(sample_text)"
   ]
  },
  {
   "cell_type": "code",
   "execution_count": 30,
   "id": "d784a796",
   "metadata": {},
   "outputs": [
    {
     "name": "stdout",
     "output_type": "stream",
     "text": [
      "Modified Text: Hello hello world\n"
     ]
    }
   ],
   "source": [
    "def remove_continuous_duplicates(sentence):\n",
    "    pattern = r'\\b(\\w+)(\\s+\\1)+\\b'\n",
    "    return re.sub(pattern, r'\\1', sentence)\n",
    "sample_text = \"Hello hello world world\"\n",
    "modified_text = remove_continuous_duplicates(sample_text)\n",
    "print(\"Modified Text:\", modified_text)"
   ]
  },
  {
   "cell_type": "code",
   "execution_count": 31,
   "id": "066456d4",
   "metadata": {},
   "outputs": [
    {
     "name": "stdout",
     "output_type": "stream",
     "text": [
      "Enter a string: HI I would like a drink with lemons 2\n",
      "The string ends with an alphanumeric character.\n"
     ]
    }
   ],
   "source": [
    "def check_ending_alphanumeric(input_string):\n",
    "    pattern = r\".*[a-zA-Z0-9]$\"\n",
    "    return re.match(pattern, input_string) is not None\n",
    "test_string = input(\"Enter a string: \")\n",
    "\n",
    "if check_ending_alphanumeric(test_string):\n",
    "    print(\"The string ends with an alphanumeric character.\")\n",
    "else:\n",
    "    print(\"The string does not end with an alphanumeric character.\")"
   ]
  },
  {
   "cell_type": "code",
   "execution_count": 32,
   "id": "27ff09b3",
   "metadata": {},
   "outputs": [
    {
     "name": "stdout",
     "output_type": "stream",
     "text": [
      "Extracted Hashtags:\n",
      "#Doltiwal\n",
      "#xyzabc\n",
      "#Demonetization\n"
     ]
    }
   ],
   "source": [
    "def extract_hashtags(input_string):\n",
    "    pattern = r\"#\\w+\"\n",
    "    return re.findall(pattern, input_string)\n",
    "\n",
    "sample_text = \"\"\"RT @kapil_kausik: #Doltiwal I mean #xyzabc is \"hurt\" by #Demonetization as the same has rendered USELESS <ed><U+00A0><U+00BD><ed><U+00B1><U+0089> \"acquired funds\" No wo\"\"\"\n",
    "hashtags = extract_hashtags(sample_text)\n",
    "\n",
    "if hashtags:\n",
    "    print(\"Extracted Hashtags:\")\n",
    "    for tag in hashtags:\n",
    "        print(tag)\n",
    "else:\n",
    "    print(\"No hashtags found in the text.\")"
   ]
  },
  {
   "cell_type": "code",
   "execution_count": 33,
   "id": "65a898c4",
   "metadata": {},
   "outputs": [
    {
     "data": {
      "text/plain": [
       "['#Doltiwal', '#xyzabc', '#Demonetization']"
      ]
     },
     "execution_count": 33,
     "metadata": {},
     "output_type": "execute_result"
    }
   ],
   "source": [
    "hashtags"
   ]
  },
  {
   "cell_type": "code",
   "execution_count": 34,
   "id": "f974780e",
   "metadata": {},
   "outputs": [
    {
     "name": "stdout",
     "output_type": "stream",
     "text": [
      "Modified Text: @Jags123456 Bharat band on 28??<ed><ed>Those who  are protesting #demonetization  are all different party leaders\n"
     ]
    }
   ],
   "source": [
    "def remove_special_symbols(input_string):\n",
    "    pattern = r\"<U\\+\\w{4}>\"\n",
    "    return re.sub(pattern, '', input_string)\n",
    "\n",
    "sample_text = \"@Jags123456 Bharat band on 28??<ed><U+00A0><U+00BD><ed><U+00B8><U+0082>Those who  are protesting #demonetization  are all different party leaders\"\n",
    "modified_text = remove_special_symbols(sample_text)\n",
    "print(\"Modified Text:\", modified_text)"
   ]
  },
  {
   "cell_type": "code",
   "execution_count": 38,
   "id": "1c1a916a",
   "metadata": {},
   "outputs": [],
   "source": [
    "def extract_dates_from_file(file_path):\n",
    "    with open(file_path, 'r') as file:\n",
    "        text = file.read()\n",
    "        pattern = r'\\d{2}-\\d{2}-\\d{4}'\n",
    "        dates = re.findall(pattern, text)\n",
    "        return dates"
   ]
  },
  {
   "cell_type": "code",
   "execution_count": 54,
   "id": "288cbd00",
   "metadata": {},
   "outputs": [
    {
     "data": {
      "text/plain": [
       "['12-09-1992', '15-12-1999']"
      ]
     },
     "execution_count": 54,
     "metadata": {},
     "output_type": "execute_result"
    }
   ],
   "source": [
    "file_path = '/Users/RahulK/Desktop/test_file.txt'\n",
    "extracted_dates = extract_dates_from_file(file_path)\n",
    "extracted_dates"
   ]
  },
  {
   "cell_type": "code",
   "execution_count": 40,
   "id": "19ed0626",
   "metadata": {},
   "outputs": [],
   "source": [
    "def remove_words_of_length_between_2_and_4(input_string):\n",
    "    pattern = re.compile(r'\\b\\w{2,4}\\b')\n",
    "    return pattern.sub('', input_string)"
   ]
  },
  {
   "cell_type": "code",
   "execution_count": 41,
   "id": "6f721281",
   "metadata": {},
   "outputs": [
    {
     "name": "stdout",
     "output_type": "stream",
     "text": [
      "Modified Text:  following example creates  ArrayList  a capacity   elements. 4 elements   added   ArrayList   ArrayList  trimmed accordingly.\n"
     ]
    }
   ],
   "source": [
    "sample_text = \"The following example creates an ArrayList with a capacity of 50 elements. 4 elements are then added to the ArrayList and the ArrayList is trimmed accordingly.\"\n",
    "modified_text = remove_words_of_length_between_2_and_4(sample_text)\n",
    "print(\"Modified Text:\", modified_text)"
   ]
  },
  {
   "cell_type": "code",
   "execution_count": null,
   "id": "cba3f1a8",
   "metadata": {},
   "outputs": [],
   "source": []
  }
 ],
 "metadata": {
  "kernelspec": {
   "display_name": "Python 3 (ipykernel)",
   "language": "python",
   "name": "python3"
  },
  "language_info": {
   "codemirror_mode": {
    "name": "ipython",
    "version": 3
   },
   "file_extension": ".py",
   "mimetype": "text/x-python",
   "name": "python",
   "nbconvert_exporter": "python",
   "pygments_lexer": "ipython3",
   "version": "3.10.9"
  }
 },
 "nbformat": 4,
 "nbformat_minor": 5
}
